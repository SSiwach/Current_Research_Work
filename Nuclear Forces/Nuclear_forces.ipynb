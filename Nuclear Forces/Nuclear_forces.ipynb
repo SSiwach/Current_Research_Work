{
  "nbformat": 4,
  "nbformat_minor": 0,
  "metadata": {
    "colab": {
      "provenance": []
    },
    "kernelspec": {
      "name": "python3",
      "display_name": "Python 3"
    },
    "language_info": {
      "name": "python"
    }
  },
  "cells": [
    {
      "cell_type": "markdown",
      "source": [
        "**Author - Surender Siwach**\n",
        "\n",
        "Email - surender@bhu.ac.in\n"
      ],
      "metadata": {
        "id": "EBnz7HsFmssZ"
      }
    },
    {
      "cell_type": "markdown",
      "source": [
        "The nuclear forces are almost charge independent. For nucleon only there is a proton and a neutron. Isospin is the quantum number which differentiate between a proton and a neutron.\n",
        "* Proton have a isospin along z-direction of $ + \\frac{1}{2}$ and neutron have a isospin of $- \\frac{1}{2}$ \n",
        "* Discovery of neutron - 1932\n",
        "* Heisenberg proposes the first Phenomenology - 1935\n",
        "* Discovery of pion in cosmic rays - 1947\n",
        "* Measuring Quadrupole moment of deutron - Yukawa and Rabi (Nobel Prize)\n",
        "* Taketani, Nakamura, Sasaki - 3 ranges, One pion exchange potential\n",
        "* Multipion exchage : Taketani, Machida, Onuma : 1952\n",
        "* Pion Theories : Watson - 1953\n",
        "\n"
      ],
      "metadata": {
        "id": "8y2KAuPwkP5H"
      }
    },
    {
      "cell_type": "markdown",
      "source": [
        "# Phenomenology of nuclear force\n",
        "\n",
        "* Many pions - Multi-pions resonance : One Boson Exchange Model\n",
        "* Refined Meson Theories\n",
        "* Sophisticated model for two pion exchange\n",
        " \n",
        "\n",
        "1.   Paris Potential \n",
        "2.   Bonn Potential \n",
        "\n",
        "* Quark Cluster Model: Begin of effective field theory studies.\n",
        "\n",
        "1990's \n",
        "* High precision NN potentials \n",
        "* Argonne V18 potential, CD Bonn potential\n",
        "* Advances in Effective field theories\n",
        "\n",
        "\n",
        "\n",
        "\n",
        "\n"
      ],
      "metadata": {
        "id": "1XcFBhPdoRdT"
      }
    },
    {
      "cell_type": "markdown",
      "source": [
        "* The existence of deutron with $J^{\\pi} = 1^+$ indicates that the force between protons and neutrons is attractive at least for the $^3S_1$ partial wave. \n",
        "\n",
        "* Interference between Couloumb and nuclear scattering for the proton-proton partial wave $^1S_0$ shows that NN force is attractive at least for the $^1S_0$ partial wave.\n",
        "* It is short range and strong intermediate attraction.\n",
        "* Spin dependent, scattering lengths for triplet and singlet states are different\n",
        "* Spin-orbit force : Observation of large polarizations of scattered nucleons perpendicular to the plane of scattering\n",
        "\n",
        "* Strong repulsive core : The s-wave phase shift becomes negative at $\\approx$ 250 MeV implying that the singlet S has a hard core with range 0.4-0.5 fm.\n",
        "* Charge independence. Two nucleons in a given two-body state always experience the same force. \n",
        "* Modern interactions break charge and isospin symmetry lightly. That means that the pp, neutron neutron and pn parts of the interaction will be different for the same quantum numbers.\n",
        "\n",
        "* Non central : This is a tensor force. \n"
      ],
      "metadata": {
        "id": "faivE9Uqpsxb"
      }
    },
    {
      "cell_type": "markdown",
      "source": [
        "# Short range Evidence \n",
        "Binding energy of $^2H$ - Deutron, $^3H$ , $^4He$ shows that the nuclear force is of finite range around 1-2 fm and are very strong within that range.\n",
        "\n",
        "\n",
        "For nuclei with $A > 4$ the energy saturates : Volume and binding energies of nuclei are proptioanl to the mass number A\n",
        "\n",
        "Nuclei are also bound. The average distance between nucleons in the nuclei is about 2 fm which must roughly correspond to the range of the attractive part.\n",
        "\n"
      ],
      "metadata": {
        "id": "pg-YLMmKsgGb"
      }
    },
    {
      "cell_type": "markdown",
      "source": [
        "# Charge dependence\n",
        "* After correcting for EM interaction the forces between nucleons (pp, nn, and np) in the same state are almost the same.\n",
        "* Charge independence is slightly broken\n",
        "* Charge symmetry - equal between pp and nn.\n",
        "\n"
      ],
      "metadata": {
        "id": "M4k80W-Jtp8s"
      }
    },
    {
      "cell_type": "markdown",
      "source": [
        "# Scattering Lenths\n",
        "* $a_{pp}$ = -17.3 $\\pm$ 0.4 $fm$\n",
        "* $a_{nn}$ = -18.8 $\\pm$ 0.5 $fm$\n",
        "* $a_{pn}$ = -17.3 $\\pm$ 0.02 $fm$ Charge independence breaking\n",
        "\n"
      ],
      "metadata": {
        "id": "enmZqywnuUo9"
      }
    },
    {
      "cell_type": "markdown",
      "source": [
        "# Symmetries of Nucleon-Nucleon Force\n",
        "\n"
      ],
      "metadata": {
        "id": "nv3jdt58u_M1"
      }
    },
    {
      "cell_type": "markdown",
      "source": [
        "* Translation Invariance\n",
        "* Galilean Invariance\n",
        "* Rotation invariance in space\n",
        "* Space reflection invariance\n",
        "* Time reversal invariance\n",
        "* Invariance under the exchange of particle 1 and 2\n",
        "* Almost isospin symmetry\n"
      ],
      "metadata": {
        "id": "ZV8XAYaIB3N_"
      }
    },
    {
      "cell_type": "markdown",
      "source": [
        "# Form of the nuclear force\n",
        "The nuclear two-body force in terms of some operators, the central part, the spin-spin part, and the central force.\n",
        "\n",
        "\\begin{align}\n",
        "V(r) = \\biggl\\{ C_c + C_{\\sigma}\\sigma_1 \\cdot \\sigma_2 + C_T \\biggl(1 + \\frac{3}{m_{\\alpha}r }+ \\frac{3}{(m_{\\alpha }r)^2}\\biggr)S_{12}(r) + C_{SL}\\biggl(\\frac{1}{m_{\\alpha r}}+ \\frac{1}{(m_{\\alpha }r)^2}\\biggr)\\vec{L}\\cdot \\vec{S}\\biggr\\} \\frac{e^{-m_{\\alpha}r}}{m_{\\alpha}r}\n",
        "\\end{align}\n",
        "\n",
        "we derive nuclear force using field theroy concept, we also need some relativistic quantum mechanics.  "
      ],
      "metadata": {
        "id": "x7wEh2bkCxKC"
      }
    },
    {
      "cell_type": "markdown",
      "source": [
        "# Relative and Center of Mass system, Quantum numbers\n",
        "\n",
        "When solving the scattering equation or solving the two nucleon problem it is convenient to rewrite the Schroedinger equation, due to the symmetry of the Hamiltonian, in relative and center of mass coordinates. This will also define the quantum numbers of the relative and center-of-mass system. \n",
        "# Center of Mass Momentum \n",
        "\\begin{align} \n",
        "\\vec{K} = \\sum_i^A k_i\n",
        "\\end{align}\n",
        "\n",
        "With $\\hbar = c = 1$ the wave number $k_i = p_i $with $p_i$ the pertinent momentum of a single-particle state.\n",
        "\n",
        "# Relative Momentum\n",
        "\n",
        "\\begin{align}\n",
        "k_{ij} = \\frac{1}{2}(k_i - k_j)\n",
        "\\end{align}\n",
        "\n",
        "\\begin{align}\n",
        "\\vec{R} = \\frac{1}{A}\\sum_{i= 1}^A \\vec{r_i}\n",
        "\\end{align}\n",
        "\n",
        "So the two particle energy would be look like as\n",
        "\n",
        "\\begin{align}\n",
        "\\frac{k_1^2}{2m_n} + \\frac{k_2^2}{2m_n} = \\frac{k^2}{m_n}  + \\frac{\\bf{K}^2}{4m_n}\n",
        "\\end{align}\n",
        "\n",
        "where $m_n $ is the average mass of proton and neutron.\n",
        "\n",
        "\n",
        "The two-nucleon interaction depends only on the relative distance, this means that we can separate Schroendinger's equation in an equation for the center-of-mass motion and one for the relative motion.\n",
        "\n",
        "For that we need to redefine the two body quantum numbers.\n",
        "Previously we had a two body state vector defined as $|(j_1 j_2 ) JM_J>$ in a coupled basis. We now define the quantum number for the relative motion. We have new orbital momenta i.e. \\begin{align} l_1 + l_2 = \\lambda = l + L\\end{align}\n",
        "where l is the orbital momentum associated with the relative motion and L is the corresponding COM. The total spin $S$ will be \\begin{align} J = l + L + S\\end{align}\n",
        "\n",
        "\\begin{align}\n",
        "J_{rel} = l + S \\end{align}\n",
        "\n",
        "where $J_{rel}$ is the total angular momentum of the relative motion.\n",
        "\n",
        "The total two-nucleon state function has to be anti-symmetric. The total function contains a **spatial part**, a **spin part** and an **isospin part**. If **isospin is conserved**, this leads to in case we have an **s-wave** with spin S = 0 to an isospin two-body state with T = 1 since the spatial part is symmetric and the spin part is anti-symmetric.\n",
        "For the projection of $T$ and $T_z = -1, 0, 1$ we can have a $pp$, $nn$ and a $pn$ state. For l = 0 and S = 1 **triplet state** $^3S_1$ stae we must have T = 0. Therefore we have only one state i.e. a $pn$ state.\n",
        "\n"
      ],
      "metadata": {
        "id": "uaiaGmBtKf6P"
      }
    },
    {
      "cell_type": "markdown",
      "source": [
        "<table border=\"1\">\n",
        "<thead>\n",
        "<tr><th align=\"center\">$^{2S+1}l_J$</th> <th align=\"center\">$J$</th> <th align=\"center\">$l$</th> <th align=\"center\">$S$</th> <th align=\"center\">$T$</th> <th align=\"center\">$\\vert pp\\rangle$</th> <th align=\"center\">$\\vert pn\\rangle$</th> <th align=\"center\">$\\vert nn\\rangle$</th> </tr>\n",
        "</thead>\n",
        "<tbody>\n",
        "<tr><td align=\"center\">   $^{1}S_0$       </td> <td align=\"center\">   0      </td> <td align=\"center\">   0      </td> <td align=\"center\">   0      </td> <td align=\"center\">   1      </td> <td align=\"center\">   yes                  </td> <td align=\"center\">   yes                  </td> <td align=\"center\">   yes                  </td> </tr>\n",
        "<tr><td align=\"center\">   $^{3}S_1$       </td> <td align=\"center\">   1      </td> <td align=\"center\">   0      </td> <td align=\"center\">   1      </td> <td align=\"center\">   0      </td> <td align=\"center\">   no                   </td> <td align=\"center\">   yes                  </td> <td align=\"center\">   no                   </td> </tr>\n",
        "<tr><td align=\"center\">   $^{3}P_0$       </td> <td align=\"center\">   0      </td> <td align=\"center\">   1      </td> <td align=\"center\">   1      </td> <td align=\"center\">   1      </td> <td align=\"center\">   yes                  </td> <td align=\"center\">   yes                  </td> <td align=\"center\">   yes                  </td> </tr>\n",
        "<tr><td align=\"center\">   $^{1}P_1$       </td> <td align=\"center\">   1      </td> <td align=\"center\">   1      </td> <td align=\"center\">   0      </td> <td align=\"center\">   0      </td> <td align=\"center\">   no                   </td> <td align=\"center\">   yes                  </td> <td align=\"center\">   no                   </td> </tr>\n",
        "<tr><td align=\"center\">   $^{3}P_1$       </td> <td align=\"center\">   1      </td> <td align=\"center\">   1      </td> <td align=\"center\">   1      </td> <td align=\"center\">   1      </td> <td align=\"center\">   yes                  </td> <td align=\"center\">   yes                  </td> <td align=\"center\">   yes                  </td> </tr>\n",
        "<tr><td align=\"center\">   $^{3}P_2$       </td> <td align=\"center\">   2      </td> <td align=\"center\">   1      </td> <td align=\"center\">   1      </td> <td align=\"center\">   1      </td> <td align=\"center\">   yes                  </td> <td align=\"center\">   yes                  </td> <td align=\"center\">   yes                  </td> </tr>\n",
        "<tr><td align=\"center\">   $^{3}D_1$       </td> <td align=\"center\">   1      </td> <td align=\"center\">   2      </td> <td align=\"center\">   1      </td> <td align=\"center\">   0      </td> <td align=\"center\">   no                   </td> <td align=\"center\">   yes                  </td> <td align=\"center\">   no                   </td> </tr>\n",
        "<tr><td align=\"center\">   $^{3}F_2$       </td> <td align=\"center\">   2      </td> <td align=\"center\">   3      </td> <td align=\"center\">   1      </td> <td align=\"center\">   1      </td> <td align=\"center\">   yes                  </td> <td align=\"center\">   yes                  </td> <td align=\"center\">   yes                  </td> </tr>\n",
        "</tbody>\n",
        "</table>\n"
      ],
      "metadata": {
        "id": "OfKma0pjRMRX"
      }
    },
    {
      "cell_type": "markdown",
      "source": [
        "The **tensor force** is given by :\n",
        "\n",
        "$$\n",
        "S_{12} (\\hat r) = \\frac{3}{r^2}\\left(\\mathbf{\\sigma}_1\\cdot \\mathbf{r}\\right) \\left(\\mathbf{\\sigma}_2\\cdot \\mathbf{r}\\right) -\\mathbf{\\sigma}_1\\cdot\\mathbf{\\sigma}_2\n",
        "$$\n",
        "Where \n",
        "$$\n",
        "\\sigma_x =\\begin{Bmatrix} 0 & 1 \\\\ 1 & 0 \\end{Bmatrix},\n",
        "$$\n",
        "\n",
        " $$\n",
        "\\sigma_y =\\begin{Bmatrix} 0 & -\\imath \\\\ \\imath & 0 \\end{Bmatrix},\n",
        "$$\n",
        "\n",
        "\n",
        "$$\n",
        "\\sigma_z =\\begin{Bmatrix} 1 & 0 \\\\ 0 & -1 \\end{Bmatrix},\n",
        "$$"
      ],
      "metadata": {
        "id": "5gy6CZYFbC0B"
      }
    },
    {
      "cell_type": "markdown",
      "source": [
        "with the properties $$\\sigma = 2S$$ $$\\sigma_x^2 = \\sigma_y^2 = \\sigma_z^2= 1$$\n",
        "\n",
        "with obeying the commutation and anti-commutation relations $\\{\\sigma_x,\\sigma_y\\} =0$\n",
        "$[\\sigma_x,\\sigma_y] =\\imath\\sigma_z$"
      ],
      "metadata": {
        "id": "2tUNFGkEcKjY"
      }
    },
    {
      "cell_type": "markdown",
      "source": [
        " Expectation value of $$\\langle\\sigma_1 \\cdot \\sigma_2\\rangle = 2 (S^2 -s_1^2 - s^2_2) = 2S(S+1) -3$$\n",
        " \n",
        " Where $s_1 = s_2 = \\frac{1}{2}$\n",
        " \n",
        " \n",
        " Then its leads to \n",
        "\n",
        "\n",
        " $$\n",
        "\\left\\{ \\begin{array}{cc} \\langle\\mathbf{\\sigma}_1\\cdot\\mathbf{\\sigma}_2\\rangle=1 &  \\mathrm{if} \\hspace{0.2cm} S=1\\\\\n",
        "\\langle\\mathbf{\\sigma}_1\\cdot\\mathbf{\\sigma}_2\\rangle=-3 & \\mathrm{if} \\hspace{0.2cm} S=0\\\\\\end{array}\\right.\n",
        "$$\n",
        "\n",
        "The expectation value of spin-orbit term is\n",
        "\n",
        "$$\n",
        "\\langle \\mathbf{L\\cdot}\\mathbf{S} \\rangle = \\frac{1}{2}\\left( J(J+1)-l(l+1)-S(S+1)\\right),\n",
        "$$\n",
        "\n",
        "which means that for s-wave with either $S = 0$ and therby $J= 0 $ or $S = 1 $ the expectatation value for the spin-orbit force is zero.  \n",
        "With the above **phenomenological model**, the\n",
        "only contributions to the expectation value of the potential energy for $s$-waves stem  from the central and the spin-spin components since the expectation value of the **tensor force is also zero**.\n"
      ],
      "metadata": {
        "id": "2l9nW6oQd0yz"
      }
    },
    {
      "cell_type": "markdown",
      "source": [
        "For $s= \\frac{1}{2}$ spin value for two nucleons, the expectation value of the tensor force operator is \n"
      ],
      "metadata": {
        "id": "w7rQy6LClzcn"
      }
    },
    {
      "cell_type": "markdown",
      "source": [],
      "metadata": {
        "id": "WLdFKNFjn3JS"
      }
    },
    {
      "cell_type": "markdown",
      "source": [
        "When we add isospin to our simple $V_4$ interaction model, we now have 8 operator, popularly dubbed as $V_8$ interaction model. \n",
        "The potential will be look like as\n",
        "\n",
        "\\begin{align}\n",
        "V(r) = \\biggl\\{ C_c + C_{\\sigma}\\sigma_1 \\cdot \\sigma_2 + C_T \\biggl(1 + \\frac{3}{m_{\\alpha}r }+ \\frac{3}{(m_{\\alpha }r)^2}\\biggr)S_{12}(r) + C_{SL}\\biggl(\\frac{1}{m_{\\alpha r}}+ \\frac{1}{(m_{\\alpha }r)^2}\\biggr)\\vec{L}\\cdot \\vec{S}\\biggr\\} \\frac{e^{-m_{\\alpha}r}}{m_{\\alpha}r} + \\biggl\\{ C_{c\\tau }+ C_{\\sigma \\tau}\\sigma_1 \\cdot \\sigma_2 + C_{T\\tau} \\biggl(1 + \\frac{3}{m_{\\alpha}r }+ \\frac{3}{(m_{\\alpha }r)^2}\\biggr)S_{12}(r) + C_{SL \\tau}\\biggl(\\frac{1}{m_{\\alpha }r}+ \\frac{1}{(m_{\\alpha }r)^2}\\biggr)\\vec{L}\\cdot \\vec{S}\\biggr\\}\\tau_1 \\cdot \\tau_2 \\frac{e^{-m_{\\alpha}r}}{m_{\\alpha}r}\n",
        "\\end{align}\n"
      ],
      "metadata": {
        "id": "JDxzZkLhpqoC"
      }
    },
    {
      "cell_type": "markdown",
      "source": [
        "One Boson Exchange models dominates from 1950's\n",
        "These model include several low-mass mesons i.e. with mass below 1GeV some of the phenomenological potentials are \n",
        "* Gammel-Thaler potential\n",
        "* Hamada-Johnston potential\n",
        "* Reid potential - soft core\n",
        "* Argonne $V_{14}$ potential iwht 14 operators and the $V_{18}$ potential\n",
        "Models based on chiral perturbation theory. These are effective models with nucleons and pions as degrees of freedom only. \n",
        "\n"
      ],
      "metadata": {
        "id": "2lsuCE_7yHbH"
      }
    },
    {
      "cell_type": "markdown",
      "source": [
        "The total two-nucleon state function has to be anti-symmetric. The total two-nucleon state function has to be anti-symmetric. The total function contains a **spatial part**, a **spin part** and an **isospin part**. If **isospin is conserved**, this leads to in case we have an **s-wave** with spin S = 0 to an isospin two-body state with T = 1 since the spatial part is symmetric and the spin part is anti-symmetric.\n",
        "For the projection of $T$ and $T_z = -1, 0, 1$ we can have a $pp$, $nn$ and a $pn$ state. For l = 0 and S = 1 **triplet state** $^3S_1$ stae we must have T = 0. Therefore we have only one state i.e. a $pn$ state.\n"
      ],
      "metadata": {
        "id": "t6zPiUeazM56"
      }
    },
    {
      "cell_type": "markdown",
      "source": [
        "# One Pion Exchange\n",
        "The one-pion exchange contribution can be written as\n",
        "$$\n",
        "V_{\\pi}(\\mathbf{r})= -\\frac{f_{\\pi}^{2}}{4\\pi m_{\\pi}^{2}}\\mathbf{ \\tau}_1\\cdot\\mathbf{\\tau}_2\n",
        "\\frac{1}{3}\\left\\{\\mathbf{ \\sigma}_1\\cdot\\mathbf{ \\sigma}_2+\\left( 1 + {3\\over m_\\pi r} + {3\\over\\left(m_\\pi r\\right)^2}\\right) S_{12} (\\hat r)\\right\\} \\frac{e^{-m_\\pi r}}{m_\\pi r}.\n",
        "$$"
      ],
      "metadata": {
        "id": "y05LslMmzfDY"
      }
    },
    {
      "cell_type": "markdown",
      "source": [
        "* If we have $S = 0 $ an $T = 0$ the orbital momentum has to be an odd number in order for the toal anti-symmetry to be obeyed. For $S = 0$ tensor force component is zero, meaning that the only contribution is $$\n",
        "V_{\\pi}(\\mathbf{r})=\\frac{3f_{\\pi}^{2}}{4\\pi m_{\\pi}^{2}}\\frac{e^{-m_\\pi r}}{m_\\pi r},\n",
        "$$\n",
        "\n",
        "as we have $\\langle\\mathbf{ \\sigma}_1\\cdot\\mathbf{ \\sigma}_2\\rangle=-3$  i.e. we obtain a repulsive contribution to partial wave like $ ^1P_0$ \n",
        "\n",
        "* For $S = 0$ tensor contribution = 0\n",
        "For the combination of T = 1 and even l values we get an attractive contribution\n",
        "$$\n",
        "V_{\\pi}(\\mathbf{r})=-\\frac{f_{\\pi}^{2}}{4\\pi m_{\\pi}^{2}}\\frac{e^{-m_\\pi r}}{m_\\pi r}.\n",
        "$$\n",
        "\n",
        "* For S  = 1 and T = 0, l can have only even values in order to obey the anti-symmtery requirements and we get\n",
        "$$\n",
        "V_{\\pi}(\\mathbf{r})= -\\frac{f_{\\pi}^{2}}{4\\pi m_{\\pi}^{2}}\n",
        "\\left(1+( 1 + {3\\over m_\\pi r} + {3\\over\\left(m_\\pi r\\right)^2}) S_{12} (\\hat r)\\right) \\frac{e^{-m_\\pi r}}{m_\\pi r}\\\\\n",
        "$$\n",
        "\n",
        "\n",
        "\n",
        "* For $S=1$ and $T=1$, $l$ can only take odd values, resulting in a repulsive contribution\n",
        "$$\n",
        "\\frac{1}{3}\\frac{f_{\\pi}^{2}}{4\\pi m_{\\pi}^{2}}\\left(1+( 1 + {3\\over m_\\pi r} + {3\\over\\left(m_\\pi r\\right)^2}) S_{12} (\\hat r)\\right) \\frac{e^{-m_\\pi r}}{m_\\pi r}.\n",
        "$$\n"
      ],
      "metadata": {
        "id": "ESxuplQY0TCL"
      }
    },
    {
      "cell_type": "markdown",
      "source": [
        "# Deriation of non-relativistic expressions\n",
        "The central part of one-pion exchange interaction, arising from the spin-spin term, is thus attractive for s-wave and all even l values. For p-waves and all other odd values it is repulsive. However its overall strenth is weak. "
      ],
      "metadata": {
        "id": "09XpJXuj7TGt"
      }
    },
    {
      "cell_type": "markdown",
      "source": [
        "$$\n",
        "{\\cal L}_{ps} =g^{ps}\\overline{\\Psi}\\gamma^5\\Psi\\phi^{(ps)},\n",
        "$$\n",
        "\n",
        "$$\n",
        "{\\cal L}_{s} =g^{s}\\overline{\\Psi}\\Psi\\phi^{(s)},\n",
        "$$\n",
        "\n",
        "and \n",
        "$$\n",
        "{\\cal L}_{v} =g^{v}\\overline{\\Psi}\\gamma_{\\mu}\\Psi\\phi_{\\mu}^{(v)}\n",
        "   +g^{t}\\overline{\\Psi}\\sigma^{\\mu\\nu}\\Psi\\left\n",
        "   (\\partial_{\\mu}\\phi_{\\nu}^{(v)}\n",
        "   -\\partial_{\\nu}\\phi_{\\mu}^{(v)}\\right),\n",
        "$$"
      ],
      "metadata": {
        "id": "Myey5Sa4Ou5V"
      }
    },
    {
      "cell_type": "markdown",
      "source": [
        "* $ps$ - Pseudo scaler \n",
        "* $s$ - Scaler\n",
        "* $v$ -  Vector\n",
        "\n",
        "The factors $g^v$ and $g^t$ are the vector and tensor coupling constants. \n"
      ],
      "metadata": {
        "id": "qe7LjtlrPINP"
      }
    },
    {
      "cell_type": "markdown",
      "source": [
        "For spin $\\frac{1}{2}$ the field $\\psi$ are expanded in terms of the Dirac spinors\n",
        "\n",
        "$$\n",
        "u(k\\sigma)=\\sqrt{\\frac{E(k)+m}{2m}}\n",
        "\t  \\left(\\begin{array}{c} \\chi\\\\ \\\\\n",
        "\t  \\frac{\\mathbf{\\sigma}\\mathbf{k}}{E(k)+m}\\chi\n",
        "\t  \\end{array}\\right)\n",
        "$$"
      ],
      "metadata": {
        "id": "yBsn_vAnQD5O"
      }
    },
    {
      "cell_type": "markdown",
      "source": [
        "With $\\chi$ is the familiar Pauli Spinor and $E(k) =\\sqrt{m^2 +|\\mathbf{k}|^2}$ The positive part of the field $\\Psi$ reads $$\n",
        "\\Psi (x)={\\displaystyle \\frac{1}{(2\\pi )^{3/2}}\n",
        "        \\sum_{\\mathbf{k}\\mathbf{\\sigma}}u(k\\mathbf{\\sigma})\\exp{-(ikx)}a_{\\mathbf{k}\\mathbf{\\sigma}}},\n",
        "$$\n",
        "\n",
        "with 'a' being a fermion annihilation operator.\n"
      ],
      "metadata": {
        "id": "sJwtfB1FRaIJ"
      }
    },
    {
      "cell_type": "markdown",
      "source": [
        "Expanding the free Dirac spinors in terms of $1/m$ ($m $ is the mass of relevant baryon), results in familiar non-relativistic expressions for baryon-baryon potentials. The configuration space version of the interaction can be approximated as:\n",
        "\n",
        "\\begin{align}\n",
        "V(r) = \\biggl\\{ C_c^0 + C_c^1 + C_{\\sigma}\\sigma_1 \\cdot \\sigma_2 + C_T \\biggl(1 + \\frac{3}{m_{\\alpha}r }+ \\frac{3}{(m_{\\alpha }r)^2}\\biggr)S_{12}(r) + C_{SL}\\biggl(\\frac{1}{m_{\\alpha r}}+ \\frac{1}{(m_{\\alpha }r)^2}\\biggr)\\vec{L}\\cdot \\vec{S}\\biggr\\} \\frac{e^{-m_{\\alpha}r}}{m_{\\alpha}r} \n",
        "\\end{align}\n"
      ],
      "metadata": {
        "id": "Ojxna1EnSKdW"
      }
    },
    {
      "cell_type": "markdown",
      "source": [
        "where $m_{\\alpha}$ is the mass of the relevant meson and $S_{12}$ is the familiar tensor force.\n"
      ],
      "metadata": {
        "id": "9DOzrdEVUjjj"
      }
    },
    {
      "cell_type": "markdown",
      "source": [
        "# Non relavistic one-pion exchange interaction\n",
        "\n",
        "Let $p_{1}$, $p_{1}'$, $p_{2}$, $p_{2}'$ and $k=p_{1}-p_{1}'$ denote four-momenta. The vertices are given by the the pseudovector Langrangian.\n",
        "\n",
        "\n",
        "$$ {\\cal L}_{pv} = \\frac{f_{\\pi}}{m_{\\pi}} \\overline{\\psi} \\gamma_5 \\gamma_{\\mu} \\psi \\partial^{\\mu} \\phi_{\\pi} $$\n",
        "\n",
        "From Feynmann diagram rules we can write the two body interaction as\n",
        "\n",
        "$$\n",
        "V^{pv}=\\frac{f_{\\pi}^{2}}{m_{\\pi}^{2}}\\frac{\\overline{u}(p_{1}')\\gamma_{5}\n",
        "\\gamma_{\\mu}(p_{1}-p_{1}')^{\\mu}u(p_{1})\\overline{u}(p_{2}')\\gamma_{5}\n",
        "\\gamma_{\\nu}(p_{2}'-p_{2})^{\\nu}u(p_{2})}{(p_{1}-p_{1}')^{2}-m_{\\pi}^{2}}.\n",
        "$$\n",
        "\n",
        "The factors $p_1 - p_{1}' = p_2 - p_{2}'$ are both four-momentum of the exchanged mesons and come from the derivative of the meson field in the interaction Langrangian.\n",
        "\n",
        "The Dirac spinors obey :\n",
        "$$\\gamma_{\\mu} p^{\\mu} u(p) = m u(p)$$\n",
        "$$ \\overline{u}(p)\\gamma_{\\mu} p^{\\mu}  = m \\overline{u}(p)$$\n",
        "\n",
        "Using these relations, together with $\\{\\gamma_{5},\\gamma_{\\mu}\\}=0$, we find\n",
        "$$\\overline{u}(p_1') \\gamma_5\\gamma_{\\mu}(p_1 - p_1')^{\\mu} u(p_1) = m\\overline{u}(p_1')\\gamma_5 u(p_1) + \\overline{u}(p_1)\\gamma_{\\mu} p_1'^u \\gamma_5 u(p_1) = 2m\\overline{u}(p_1')\\gamma_5 u(p_1) $$\n",
        "\n",
        "and \n",
        "\n",
        "$$\n",
        "\\overline{u}(p_{2}')\\gamma_{5}\\gamma_{\\mu}(p_{2}'-p_{2})^{\\mu}=\n",
        "-2m\\overline{u}(p_{2}')\\gamma_{5}u(p_{1}).\n",
        "$$\n"
      ],
      "metadata": {
        "id": "PW4IhBOFU1mD"
      }
    },
    {
      "cell_type": "markdown",
      "source": [
        "we get\n",
        "\n",
        "$$\n",
        "V^{pv}=-\\frac{f_{\\pi}^{2}}{m_{\\pi}^{2}}4m^{2}\\frac{\\overline{u}(p_{1}')\n",
        "\\gamma_{5}u(p_{1})\\overline{u}(p_{2}')\\gamma_{5}u(p_{2})}{(p_{1}-p_{1}')\n",
        "^{2}-m_{\\pi}^{2}}.\n",
        "$$"
      ],
      "metadata": {
        "id": "NZy6-ekWrEUA"
      }
    },
    {
      "cell_type": "markdown",
      "source": [
        "By inserting expressions for the Dirac spinors we have\n",
        "\n",
        "$$\n",
        "\\begin{eqnarray*}\n",
        "\\overline{u}(p_{1}')\\gamma_{5}u(p_{1})&=&\\sqrt{\\frac{(E_{1}'+m)(E_{1}+m)}\n",
        "{4m^{2}}}\\left(\\begin{array}{cc}\\chi^{\\dagger}&-\\frac{\\sigma_{1}\\cdot{\n",
        "\\bf p_{1}}}{E_{1}'\n",
        "+m}\\chi^{\\dagger}\\end{array}\\right)\\left(\\begin{array}{cc}0&1\\\\1&0\\end{array}\n",
        "\\right)\\nonumber \\\\\n",
        " &&\\times \\left(\\begin{array}{c}\\chi\\\\ \\frac{\\sigma_{1}\\cdot\\mathbf{p_{1}}}{E_{1}+m}\\chi\n",
        "\\end{array}\\right) \n",
        "\\nonumber \\\\\n",
        " &=&\\sqrt{\\frac{(E_{1}'+m)(E_{1}+m)}{4m^{2}}}\\left(\\frac{\\sigma_{1}\\cdot\n",
        "\\mathbf{p_{1}}}{E_{1}+m}-\\frac{\\sigma_{1}\\cdot\\mathbf{p_{1}'}}{E_{1}'+m}\\right) \n",
        "\\nonumber \n",
        "\\end{eqnarray*}\n",
        "$$"
      ],
      "metadata": {
        "id": "gSFrRMd3rJ7N"
      }
    },
    {
      "cell_type": "markdown",
      "source": [
        "Similarly \n",
        "\n",
        "$$\n",
        "\\overline{u}(p_{2}')\\gamma_{5}u(p_{2})=\\sqrt{\\frac{(E_{2}'+m)(E_{2}+m)}\n",
        "{4m^{2}}}\\left(\\frac{\\sigma_{2}\\cdot \\mathbf{p}_{2}}{E_{2}+m}-\n",
        "\\frac{\\sigma_{2}\\cdot\\mathbf{p'}_{2}}{E_{2}'+m}\\right).\n",
        "$$"
      ],
      "metadata": {
        "id": "wkG-Pk3BvVp3"
      }
    },
    {
      "cell_type": "markdown",
      "source": [
        "In the CM system we have $\\mathbf{p}_{2}=-\\mathbf{p}_{1}$, $\\mathbf{p'}_{2}=\n",
        "-\\mathbf{p'}_{1}$ and so $E_{2}=E_{1}$, $E_{2}'=E_{1}'$.  \n",
        "We can then write down the relativistic contribution \n",
        "to the NN potential in the CM system:\n",
        "\n",
        "$$\n",
        "\\begin{eqnarray}\n",
        "V^{pv}&=&-\\frac{f_{\\pi}^{2}}{m_{\\pi}^{2}}4m^{2}\\frac{1}{(p_{1}-p_{1}')^{2}-\n",
        "m_{\\pi}^{2}}\\frac{(E_{1}+m)(E_{1}'+m)}{4m^{2}} \\nonumber \\\\ \n",
        " &\\times&\\left(\\frac{\\sigma_{1}\\cdot\\mathbf{p}_{1}}{E_{1}+m}-\\frac{\\sigma_{1}\n",
        "\\cdot\\mathbf{p'}_{1}}{E_{1}'+m}\\right)\\left(\\frac{\\sigma_{2}\\cdot\\mathbf{p}_{1}}\n",
        "{E_{1}+m}-\\frac{\\sigma_{2}\\cdot\\mathbf{p'}_{1}}{E_{1}'+m}\\right). \\nonumber\n",
        "\\end{eqnarray}\n",
        "$$"
      ],
      "metadata": {
        "id": "dXGJeb-krarO"
      }
    },
    {
      "cell_type": "markdown",
      "source": [
        "In the non-relativistic limit we have to lowest order\n",
        "\n",
        "$$\n",
        "E_{1}=\\sqrt{\\mathbf{p}_{1}^{2}+m^{2}}\\approx m \\approx E_{1}'\n",
        "$$"
      ],
      "metadata": {
        "id": "SPjCLh4jx7g2"
      }
    },
    {
      "cell_type": "markdown",
      "source": [
        "and then $(p_{1}-p_{1}')^{2}=-\\mathbf{k}^{2}$, so we get \n",
        "for the contribution to the NN potential"
      ],
      "metadata": {
        "id": "oR6iQze30XPN"
      }
    },
    {
      "cell_type": "markdown",
      "source": [
        "$$\n",
        "\\begin{eqnarray}\n",
        "V^{pv}&=&-\\frac{f_{\\pi}^{2}}{m_{\\pi}^{2}}4m^{2}\\frac{1}{\\mathbf{k}^{2}+m^{2}}\n",
        "\\frac{2m\\cdot 2m}{4m^{2}}\\frac{\\sigma_{1}}{2m}\\cdot(\\mathbf{p}_{1}-\\mathbf{p'}_{1})\n",
        "\\frac{\\sigma_{2}}{2m}\\cdot (\\mathbf{p}_{1}-\\mathbf{p'}_{1}) \\nonumber \\\\ \n",
        " &=&-\\frac{f_{\\pi}^{2}}{m_{\\pi}^{2}}\n",
        "\\frac{(\\sigma_{1}\\cdot\\mathbf{k})(\\sigma_{2}\\cdot\\mathbf{k})}{\\mathbf{k}^{2}+m_{\\pi}^{2}}.\n",
        "\\nonumber\n",
        "\\end{eqnarray}\n",
        "$$"
      ],
      "metadata": {
        "id": "z7c5fBbl2Ebq"
      }
    },
    {
      "cell_type": "markdown",
      "source": [
        "Here we omitted exchange terms and the isospin term $\\tau_1 \\cdot \\tau_2$"
      ],
      "metadata": {
        "id": "e-i39G_72Hb8"
      }
    },
    {
      "cell_type": "markdown",
      "source": [
        "We have $$\n",
        "V^{pv}(k)=-\\frac{f_{\\pi}^{2}}{m_{\\pi}^{2}}\n",
        "\\frac{(\\sigma_{1}\\cdot\\mathbf{k})(\\sigma_{2}\\cdot\\mathbf{k})}{\\mathbf{k}^{2}+m_{\\pi}^{2}}.\n",
        "$$\n",
        "\n",
        "And in coordinate space we have \n",
        "\n",
        "$$\n",
        "V^{pv}(r)=\\int\\frac{d^3k}{(2\\pi)^3}e^{i\\mathbf{kr}}V^{pv}(k)\n",
        "$$\n",
        "\n",
        "\n",
        "resulting in \n",
        "\n",
        "$$\n",
        "V^{pv}(r)=-\\frac{f_{\\pi}^{2}}{m_{\\pi}^{2}}\n",
        "\\sigma_{1}\\cdot{\\nabla}\\sigma_{2}\\cdot{\\nabla}\n",
        "\\int\\frac{d^3k}{(2\\pi)^3}e^{i\\mathbf{kr}}\\frac{1}{\\mathbf{k}^{2}+m_{\\pi}^{2}}.\n",
        "$$"
      ],
      "metadata": {
        "id": "HljadgLp2nzW"
      }
    },
    {
      "cell_type": "markdown",
      "source": [
        "\n",
        "$$\n",
        "V^{pv}(r)=-\\frac{f_{\\pi}^{2}}{m_{\\pi}^{2}}\\sigma_{1}\\cdot{\\nabla}\\sigma_{2}\\cdot{\\nabla}\\frac{e^{-m_{\\pi}r}}{r}.\n",
        "$$"
      ],
      "metadata": {
        "id": "tLwfoRwb_OkW"
      }
    },
    {
      "cell_type": "markdown",
      "source": [
        "$$\n",
        "V^{pv}(r)=-\\frac{f_{\\pi}^{2}}{m_{\\pi}^{2}}\\sigma_{1}\\cdot{\\nabla}\\sigma_{2}\\cdot{\\nabla}\\frac{e^{-m_{\\pi}r}}{r}.\n",
        "$$"
      ],
      "metadata": {
        "id": "xaH2Z7rP_S1T"
      }
    },
    {
      "cell_type": "markdown",
      "source": [
        "we arrive at the famous one-pion exchange potential with central and tensor parts"
      ],
      "metadata": {
        "id": "S5k0F4K3_VHM"
      }
    },
    {
      "cell_type": "markdown",
      "source": [
        "$$\n",
        "V(\\mathbf{r})= -\\frac{f_{\\pi}^{2}}{m_{\\pi}^{2}}\\left\\{C_{\\sigma}\\mathbf{\\sigma}_1\\cdot\\mathbf{\\sigma}_2+ C_T \\left( 1 + \\frac{3}{m_\\alpha r} + \\frac{3}{\\left(m_\\alpha r\\right)^2}\\right) S_{12}(\\hat r)\\right\\}\\frac{\\exp^{-m_\\pi r}}{m_\\pi r}.\n",
        "$$"
      ],
      "metadata": {
        "id": "rm8_NT71_Xe8"
      }
    },
    {
      "cell_type": "markdown",
      "source": [
        "For the full potential add the exchange part and the $\\mathbf{\\tau}_1\\cdot\\mathbf{\\tau}_2$ term as well. (Subtle point: there is a divergence which gets cancelled by using cutoffs) This leads to coefficients $C_{\\sigma}$ and $C_T$ which are fitted to data.\n"
      ],
      "metadata": {
        "id": "I5yRFUc9_vE8"
      }
    },
    {
      "cell_type": "markdown",
      "source": [
        "When we perform similar non-relativistic expansions for scalar and vector mesons we obtain\n",
        "* For the $\\sigma$ meson"
      ],
      "metadata": {
        "id": "2nj2bACK_x10"
      }
    },
    {
      "cell_type": "markdown",
      "source": [
        "$$\n",
        "V^{\\sigma}= g_{\\sigma NN}^{2}\\frac{1}{\\mathbf{k}^{2}+m_{\\sigma}^{2}}\\left (-1+\\frac{\\mathbf{q}^{2}}{2M_N^2}\n",
        "-\\frac{\\mathbf{k}^{2}}{8M_N^2}-\\frac{\\mathbf{LS}}{2M_N^2}\\right).\n",
        "$$"
      ],
      "metadata": {
        "id": "84s5INNP_0KT"
      }
    },
    {
      "cell_type": "markdown",
      "source": [
        "We note an **attractive central force and spin-orbit force** This term has an intermediate range.\n",
        "**We have defined $1/2(p_{1}+p_{1}')=\\mathbf{q}$**.\n",
        "For the full potential add the exchange part and the isospin dependence as well.\n",
        "\n"
      ],
      "metadata": {
        "id": "Xcv1fTRy_4eI"
      }
    },
    {
      "cell_type": "markdown",
      "source": [
        "* We obtain\n",
        "for the **$\\omega$ meson**"
      ],
      "metadata": {
        "id": "FzmRuSB6_7gq"
      }
    },
    {
      "cell_type": "markdown",
      "source": [
        "$$\n",
        "V^{\\omega}= g_{\\omega NN}^{2}\\frac{1}{\\mathbf{k}^{2}+m_{\\omega}^{2}}\\left (1-3\\frac{\\mathbf{LS}}{2M_N^2}\\right).\n",
        "$$"
      ],
      "metadata": {
        "id": "a_w-Tul1_-JU"
      }
    },
    {
      "cell_type": "markdown",
      "source": [
        "* Finally \n",
        "for the **$\\rho$ meson**"
      ],
      "metadata": {
        "id": "3jV11yYjACcF"
      }
    },
    {
      "cell_type": "markdown",
      "source": [
        "$$\n",
        "V^{\\rho}= g_{\\rho NN}^{2}\\frac{\\mathbf{k}^{2}}{\\mathbf{k}^{2}+m_{\\rho}^{2}}\\left (\n",
        "-2\\sigma_{1}\\sigma_{2}+S_{12}(\\hat{k})\\right)\\tau_{1}\\tau_{2}.\n",
        "$$"
      ],
      "metadata": {
        "id": "5-1dxZKeAEwR"
      }
    },
    {
      "cell_type": "markdown",
      "source": [
        "We note a tensor force with sign opposite to that of the pion. This term has  short range. For the full potential add the exchange part and the isospin dependence as well.\n",
        "\n"
      ],
      "metadata": {
        "id": "N4520kYUAJLo"
      }
    },
    {
      "cell_type": "markdown",
      "source": [
        "* Can we use one-boson exchage(OBE) picture to cinstruct a nucleons-nucleons interaction ?\n",
        "* Non-relavistic approximation yields amongst other things a spin-orbit force which is much stronger than in atoms.\n",
        "* At large intermediate distance pion exchange dominates while pion resonance dominate at intermediate and short range.\n",
        "* Potentials parametrized to fit selected tow-nucleon data, binding energies and scattering phase shifts.\n",
        "* Chiral peturbation theory gives an effective theory that allows a systematic expansion in terms of contrallable parameters. Good basis for many-body physics."
      ],
      "metadata": {
        "id": "_hWZ00bBAK3M"
      }
    },
    {
      "cell_type": "markdown",
      "source": [
        "## Lippman-Schwinger equation of two-nucleons scattering\n",
        "The Lippmann–Schwinger equation (named after Bernard Lippmann and Julian Schwinger) is one of the most used **equations to describe particle collisions** – or, more precisely, scattering – in quantum mechanics. It may be used in scattering of molecules, atoms, neutrons, photons or any other particles and is important mainly in atomic, molecular, and optical physics, nuclear physics and particle physics, but also for seismic scattering problems in geophysics. **It relates the scattered wave function with the interaction that produces the scattering (the scattering potential) and therefore allows calculation of the relevant experimental parameters (scattering amplitude and cross sections)**."
      ],
      "metadata": {
        "id": "JK90tqJYUDWB"
      }
    },
    {
      "cell_type": "markdown",
      "source": [
        "The Schroedinger equation in abstract vector representation is\n",
        "\n",
        "$$\n",
        "\\left( \\hat{H}_0 + \\hat{V} \\right) \\vert \\psi_n \\rangle = E_n \\vert\\psi_n \\rangle.\n",
        "$$\n",
        "\n",
        "In our case for the two body problem $\\hat{H}_0$ is just the kinetic energy. We rewrite it as\n",
        "$$\n",
        "\\left( \\hat{H}_0 -E_n \\right)\\vert\\psi_n \\rangle =-\\hat{V}\\vert \\psi_n \\rangle .\n",
        "$$\n",
        "\n",
        "We assume that the invers of $\\left( \\hat{H}_0 -E_n\\right)$ exists and rewrite this equation as\n",
        "\n",
        "$$\n",
        "\\vert\\psi_n \\rangle =\\frac{1}{\\left( E_n -\\hat{H}_0\\right)}\\hat{V}\\vert \\psi_n \\rangle .\n",
        "$$\n",
        "\n",
        "is normally solved in an iterative fashion. \n",
        "We assume first that\n",
        "\n",
        "$$\n",
        "\\vert\\psi_n \\rangle = \\vert\\phi_n \\rangle,\n",
        "$$\n",
        "\n",
        "where $\\vert\\phi_n \\rangle$ are the eigenfunctions of\n",
        "\n",
        "$$\n",
        "\\hat{H}_0\\vert \\phi_n \\rangle=\\omega_n\\vert \\phi_n \\rangle\n",
        "$$\n",
        "\n",
        "the so-called unperturbed problem. In our case, these will simply be the kinetic energies of the relative motion."
      ],
      "metadata": {
        "id": "Bk_rDLgQgTo_"
      }
    },
    {
      "cell_type": "markdown",
      "source": [
        "Inserting  $\\vert\\phi_n \\rangle$  on the right-hand side of eq. we have\n",
        "$$\n",
        "\\vert \\psi_n \\rangle =\\frac{1}{( E_n -\\hat{H}_0)}\\hat{V}\\vert \\psi_n \\rangle,\n",
        "$$\n",
        "\n",
        "which yields $$\n",
        "\\vert \\psi_n \\rangle =\\vert\\phi_n \\rangle+\\frac{1}{\\left( E_n -\\hat{H}_0\\right)}\\hat{V}\\vert \\phi_n \\rangle,\n",
        "$$\n",
        "\n",
        "as our first iteration\n",
        "\n",
        "$$\n",
        "\\vert \\psi_n \\rangle =\\vert\\phi_n \\rangle+\\frac{1}{\\left( E_n -\\hat{H}_0\\right)}\\hat{V}\\vert \\phi_n \\rangle+\\frac{1}{( E_n -\\hat{H}_0)}\\hat{V}\\frac{1}{\\left( E_n -\\hat{H}_0\\right)}\\hat{V}\\vert \\phi_n \\rangle,\n",
        "$$\n",
        "\n",
        "and contuining like this\n",
        "\n",
        "$$\n",
        "\\vert \\psi_n \\rangle =\\sum_{i=0}^{\\infty}\\left[\\frac{1}{( E_n -\\hat{H}_0)}\\hat{V}\\right]^i\\vert \\phi_n \\rangle.\n",
        "$$\n",
        "\n",
        "which can be written as\n",
        "\n",
        "$$\n",
        "\\vert \\psi_n \\rangle =\\vert\\phi_n \\rangle+\\frac{1}{( E_n -\\hat{H}_0)}\n",
        "\\hat{V}\\left(1+ \\frac{1}{(E_n -\\hat{H}_0)}\\hat{V}+\\frac{1}{(E_n -\\hat{H}_0)}\\hat{V}\\frac{1}{(E_n -\\hat{H}_0)}\\hat{V}+\\dots\\right]\\vert \\phi_n \\rangle,\n",
        "$$\n",
        "\n"
      ],
      "metadata": {
        "id": "pu4oYW5nitP4"
      }
    },
    {
      "cell_type": "markdown",
      "source": [
        "and continuing we obtain\n",
        "\n",
        "$$\n",
        "\\vert \\psi_n \\rangle =\\vert\\phi_n \\rangle+\\frac{1}{(E_n -\\hat{H}_0)}\\hat{V}\\vert \\psi_n \\rangle.\n",
        "$$"
      ],
      "metadata": {
        "id": "EkpD69cUk8Q_"
      }
    },
    {
      "cell_type": "markdown",
      "source": [
        "# In operator form we have\n",
        "$$\n",
        "\\vert \\psi_n \\rangle =\\vert\\phi_n \\rangle+\\frac{1}{(E_n -\\hat{H}_0)}\\hat{V}\\vert \\psi_n \\rangle.\n",
        "$$\n",
        "\n",
        "We multiply from the left with $\\hat{V}$ and $\\langle \\phi_m \\vert$ and obtain\n",
        "\n",
        "$$\n",
        "\\langle \\phi_m \\vert\\hat{V}\\vert \\psi_n \\rangle =\\langle \\phi_m \\vert\\hat{V}\\vert\\phi_n \\rangle+\\langle \\phi_m \\vert\\hat{V}\\frac{1}{(E_n -\\hat{H}_0)}\\hat{V}\\vert \\psi_n \\rangle.\n",
        "$$\n",
        "\n",
        "we define thereafter the so-called T-matrix as\n",
        "$$\n",
        "\\langle \\phi_m \\vert\\hat{T}\\vert \\phi_n \\rangle=\\langle \\phi_m \\vert\\hat{V}\\vert \\psi_n \\rangle.\n",
        "$$\n",
        "\n",
        "we can rewrite out equation as\n",
        "\n",
        "$$\n",
        "\\langle \\phi_m \\vert\\hat{T}\\vert \\phi_n \\rangle =\\langle \\phi_m \\vert\\hat{V}\\vert\\phi_n \\rangle+\\langle \\phi_m \\vert\\hat{V}\\frac{1}{(E_n -\\hat{H}_0)}\\hat{T}\\vert \\phi_n \\rangle.\n",
        "$$\n",
        "\n",
        "This is called the Lippman-Schwinger equation. Inserting completness relation\n",
        "\n",
        "$$\n",
        "\\mathbf{1} = \\sum_n \\vert \\phi_n\\rangle\\langle \\phi_n \\vert, \\:\\: \\langle \\phi_n\\vert \\phi_{n'} \\rangle = \\delta_{n,n'}\n",
        "$$\n",
        "\n",
        "We have \n",
        "\n",
        "$$\n",
        "\\langle \\phi_m \\vert\\hat{T}\\vert \\phi_n \\rangle =\\langle \\phi_m \\vert\\hat{V}\\vert\\phi_n \\rangle+\\sum_k \\langle \\phi_m \\vert\\hat{V}\\vert \\phi_k\\rangle\\frac{1}{(E_n -\\omega_k)}\\langle \\phi_k \\vert\\hat{T}\\vert \\phi_n \\rangle,\n",
        "$$\n",
        "\n",
        "which is an integral equation that can actually be solved by matrix inversion easily. The unknown quantity is the  **$T$-matrix**.\n"
      ],
      "metadata": {
        "id": "3A-ncXYOS-tN"
      }
    },
    {
      "cell_type": "markdown",
      "source": [
        "To solve the Lipmann-Schwinger equation we introduce partial wave decomposition. With a partial wave decomposition we can reduce a 3-D dimensional integral equation to a one-dimsional one.\n",
        "\n",
        "$$\n",
        "\\left(T + V\\right)\\vert\\psi_n\\rangle = E_n\\vert\\psi_n \\rangle\n",
        "$$\n",
        "\n",
        "Here T is the kinetic energy operator and V is the potential operator. The eigenstates form a complete orthonormal set according to \n",
        "\n",
        "$$\n",
        "\\mathbf{1}=\\sum_n\\vert\\psi_n\\rangle\\langle\\psi_n\\vert, \\:\\: \\langle\\psi_n\\vert\\psi_{n'}\\rangle =\\delta_{n,n'}\n",
        "$$\n",
        "\n"
      ],
      "metadata": {
        "id": "Y0J5a8_zVxy_"
      }
    },
    {
      "cell_type": "markdown",
      "source": [
        "The most commonly used representations are the coordinate and the momentum space representations. They define completeness relations.\n",
        "\n",
        "$$\n",
        "\\begin{eqnarray*}\n",
        " \\mathbf{1}&=&  \\int d\\mathbf{r} \\:\\vert\\mathbf{r} \\rangle \\langle \\mathbf{r}\\vert, \\:\\: \\langle  \\mathbf{r}\\vert  \\mathbf{r'} \\rangle = \\delta ( \\mathbf{r}-\\mathbf{r'}) \\\\\n",
        "\\mathbf{1} &=& \\int d\\mathbf{k} \\:\\vert  \\mathbf{k}\\rangle \\langle \\mathbf{k}\\vert, \\:\\: \\langle\\mathbf{k}\\vert  \\mathbf{k'} \\rangle = \\delta ( \\mathbf{k}-\\mathbf{k'}) \n",
        "\\end{eqnarray*}\n",
        "$$"
      ],
      "metadata": {
        "id": "NHPsMNuRdRYK"
      }
    },
    {
      "cell_type": "markdown",
      "source": [
        "The basis state in both $r$ and $k$ space are dirac-delta function normalized. From this it follows that the plane-wave state are given by\n",
        "\n",
        "$$\n",
        "\\langle\\mathbf{r}\\vert\\mathbf{k} \\rangle =\\left(\\frac{1}{2\\pi}\\right)^{3/2}\\exp\\left(i\\mathbf{k\\cdot r} \\right)\n",
        "$$\n",
        "\n",
        "which is a transformation function defining the mapping from the abstract  $\\vert\\mathbf{r}\\rangle $ space. \n",
        "\n",
        "That the r-space basis state are delta function normalized follows from.\n",
        "\n",
        "$$\n",
        "\\delta ( \\mathbf{r}-\\mathbf{r'}) = \\langle \\mathbf{r} \\vert \\mathbf{r}'\\rangle = \\langle \\mathbf{r} \\vert \\mathbf{1} \\vert \\mathbf{r}'\\rangle = \\int d\\mathbf{k} \\langle \\mathbf{r}\\vert \\mathbf{k} \\rangle \\langle \\mathbf{k}\\vert \\mathbf{r}' \\rangle =\\left( {1\\over 2\\pi}\\right)^3 \\int d\\mathbf{k} e^{i \\mathbf{k}(\\mathbf{r} - \\mathbf{r}')}\n",
        "$$\n",
        "\n",
        "\n",
        "and the same for the momentum space basis states, \n",
        "\n",
        "$$\n",
        "\\delta ( \\mathbf{k}-\\mathbf{k'}) = \\langle \\mathbf{k} \\vert \\mathbf{k}'\\rangle = \\langle \\mathbf{k} \\vert \\mathbf{1} \\vert \\mathbf{k}'\\rangle =\\int d\\mathbf{r} \\langle \\mathbf{k}\\vert \\mathbf{r} \\rangle \\langle \\mathbf{r}\\vert \\mathbf{k}' \\rangle = \\left( {1\\over 2\\pi}\\right)^3 \\int d\\mathbf{r} e^{i \\mathbf{r}(\\mathbf{k} - \\mathbf{k}')}\n",
        "$$\n",
        "\n",
        "Projecting on momentum states, we obtain the momentum space Schroedinger equation as \n",
        "\n",
        "\n",
        "<div id=\"eq:momspace1\"></div>\n",
        "\n",
        "$$\n",
        "\\begin{equation}\n",
        "\\frac{\\hbar^2}{2\\mu}k^2\\psi_n(\\mathbf{k})+\\int d\\mathbf{k'}V(\\mathbf{k}, \\mathbf{k'}) \\psi_n(\\mathbf{k'})=E_n \\psi_n(\\mathbf{k}) \\tag{1}\n",
        "\\end{equation}\n",
        "$$\n",
        "\n",
        "\n",
        "\n",
        "Here the notation $\\psi_n(\\mathbf{k}) =\\langle\\mathbf{k}\\vert\\psi_n\\rangle $ and \n",
        "$\\langle\\mathbf{k}\\vert V\\vert\\mathbf{k}' \\rangle =V(\\mathbf{k}, \\mathbf{k'})$ has been introduced.\n",
        "The potential in momentum space is given by a double Fourier-transform \n",
        "of the potential in coordinate space, i.e."
      ],
      "metadata": {
        "id": "180rfnEodnIL"
      }
    },
    {
      "cell_type": "markdown",
      "source": [
        "The potential in momentum space is given by a double Fourier-transform of the potential in coordinate space\n",
        "\n",
        "$$\n",
        "V(\\mathbf{k},\\mathbf{k'}) = \\left( \\frac{1}{2\\pi}\\right)^3\\int d\\mathbf{r}\\int d\\mathbf{r}'\\exp{-i\\mathbf{kr}}V(\\mathbf{r},\\mathbf{r}')\\exp{i\\mathbf{k}'\\mathbf{r}'}\n",
        "$$"
      ],
      "metadata": {
        "id": "I-_ezOG_h7s4"
      }
    },
    {
      "cell_type": "markdown",
      "source": [
        "We assumed that the potential ineraction **does not contain any spin dependence**. Instead of a differential equation in coordinate space, **the Schroendinger equation becomes an integral equation in momentum space**. This has \n",
        "many tractable features. \n",
        "* Firstly, most realistic **nucleon-nucleon interactions** derived from field-theory are given explicitly in **momentum** space. \n",
        "* Secondly, **the boundary conditions** imposed on the differential equation in coordinate space are automatically built into the **integral equation**. \n",
        "* And last, but not least, **integral equations** are easy to numerically implement, and **convergence is obtained by just increasing the number of integration points**. \n",
        "* Instead of solving the **three-dimensional** integral equation, an  infinite set of 1-dimensional equations can be obtained via a  partial wave expansion.\n",
        "\n",
        "\n"
      ],
      "metadata": {
        "id": "nvPtFv3fiR8z"
      }
    },
    {
      "cell_type": "markdown",
      "source": [
        "The wave function $\\psi_n(k)$ can be expanded in a complete set of spherical harmonics, i.e.\n",
        "\n"
      ],
      "metadata": {
        "id": "ht4E1KWylYD_"
      }
    },
    {
      "cell_type": "markdown",
      "source": [
        "<!-- Equation labels as ordinary links -->\n",
        "<div id=\"eq:part_wave1\"></div>\n",
        "\n",
        "$$\n",
        "\\begin{equation}\n",
        "  \\psi_n(\\mathbf{k}) = \\sum _{lm} \\psi_{nlm}(k)Y_{lm}(\\hat{k}) \\hspace{1cm} \\psi_{nlm}(k) = \\int d\\hat{k} Y_{lm}^*(\\hat{k})\\psi_n(\\mathbf{k}) \\tag{2}\n",
        "\\end{equation}\n",
        "$$\n",
        "\n"
      ],
      "metadata": {
        "id": "9RB7gLiFmACY"
      }
    },
    {
      "cell_type": "markdown",
      "source": [
        "By inseting equation (2) in (1) and projecting from the left $Y_{lm}(k)$ the 3D Schroedinger equation (1) is reduced to an infinite set of 1-dim angular momentum coupled integral equations. \n",
        "\n",
        "$$\n",
        "\\begin{equation}\n",
        "  \\left( \\frac{\\hbar^2}{2\\mu} k^2-E_{nlm}\\right)\\psi_{nlm}(k) = -\\sum_{l'm'}\\int_{0}^\\infty dk' {k'}^2 V_{lm, l'm'}(k,k') \\psi_{nl'm'}(k')  \\tag{3}\n",
        "\\end{equation}\n",
        "$$"
      ],
      "metadata": {
        "id": "yCrD3M0VnjlF"
      }
    },
    {
      "cell_type": "markdown",
      "source": [
        "where the angular momentum projected potential takes the form\n",
        "\n",
        "$$\n",
        "\\begin{equation}\n",
        "  V_{lm, l'm'}(k,k') = \\int d{\\hat{k}} \\int d{\\hat{k}'}Y_{lm}^*(\\hat{k})V(\\mathbf{k}\\mathbf{k'})Y_{l'm'}(\\hat{k}') \\tag{4}\n",
        "\\end{equation}\n",
        "$$"
      ],
      "metadata": {
        "id": "dy-E4M4dpFnP"
      }
    },
    {
      "cell_type": "markdown",
      "source": [
        "\n",
        "Here $d\\hat{k} = d\\theta\\sin(\\theta)d\\varphi$.\n",
        "Note that we discuss only the orbital momentum, we will include angular momentum and spin later.\n",
        "\n",
        "The potential is often given in position space. It is then convenient to establish \n",
        "the connection between $V_{lm, l'm'}(k,k')$ and $V_{lm, l'm'}(r,r')$. Inserting \n",
        "the completeness relation for the position quantum numbers in equation [(4)](#eq:pot1) results in"
      ],
      "metadata": {
        "id": "kz6JpmVaqStl"
      }
    },
    {
      "cell_type": "markdown",
      "source": [
        "$$\n",
        "\\begin{equation}\n",
        "V =\\int d\\mathbf{r}\\int d\\mathbf{r}'\\left\\{\\int d{\\hat{k}}Y_{lm}^*(\\hat{k})\\langle \\mathbf{k}\\vert \\mathbf{r}\\rangle\\right\\}\\langle\\mathbf{r}\\vert V\\vert\\mathbf{r}'\\rangle\\left\\{\\int d\\hat{k}'Y_{lm}(\\hat{k}')\\langle\\mathbf{r'}\\vert\\mathbf{k}'\\rangle\\right\\}\n",
        "\\tag{5}\n",
        "\\end{equation}\n",
        "$$"
      ],
      "metadata": {
        "id": "5jR6DTTtqpvy"
      }
    },
    {
      "cell_type": "markdown",
      "source": [
        "Since the plane waves depend only on the absolute values of position and momentum, $\\vert\\mathbf{k}\\vert$ and \n",
        "$\\vert\\mathbf{r}\\vert$,\n",
        "and the angle between them, $\\theta_{kr}$, they may be expanded in terms of bipolar harmonics of \n",
        "zero rank, i.e.\n",
        "\n",
        "$$\n",
        "\\exp{(i \\mathbf{k}\\cdot \\mathbf{r})} = 4\\pi\\sum_{l=0}^{\\infty} i^l j_l(kr)\\left( Y_l(\\hat{k}) \\cdot Y_l(\\hat{r}) \\right)= \\sum_{l=0}^{\\infty} (2l+1)i^l j_l(kr) P_l(\\cos \\theta_{kr})\n",
        "$$"
      ],
      "metadata": {
        "id": "QLFOsAX8sBWp"
      }
    },
    {
      "cell_type": "markdown",
      "source": [
        "where the addition theorem for spherical harmonics has been used in order to write the expansion in terms of Legendre polynomials. The spherical Bessel functions, $j_l(z)$,  \n",
        "are given in terms of Bessel functions of the first kind with half integer orders,\n",
        "\n",
        "$$\n",
        "j_l(z) = \\sqrt{\\pi \\over 2 z} J_{l+1/2}(z).\n",
        "$$\n",
        "\n",
        "Inserting the plane-wave expansion\n",
        "into the brackets of equation [(5)](#eq:pot2) yields,"
      ],
      "metadata": {
        "id": "H_cl9MM0sVy3"
      }
    },
    {
      "cell_type": "markdown",
      "source": [
        "$$\n",
        "\\begin{eqnarray*}\n",
        "  \\nonumber\n",
        "  \\int d{\\hat{k}}  Y_{lm}^*(\\hat{k})\\langle \\mathbf{k}\\vert \\mathbf{r} \\rangle & = &  \n",
        "  \\left( {1\\over 2\\pi} \\right) ^{3/2}4\\pi i^{-l} j_l(kr) Y_{lm}^*(\\hat{r}), \\\\  \n",
        "  \\nonumber\n",
        "  \\int d{\\hat{k}'}\\:   Y_{lm}(\\hat{k}') \\langle \\mathbf{r'}\\vert \\mathbf{k}' \\rangle & = &  \n",
        "  \\left( {1\\over 2\\pi} \\right) ^{3/2}4\\pi i^{l'} j_{l'}(k'r') Y_{l'm'}(\\hat{r}). \n",
        "\\end{eqnarray*}\n",
        "$$"
      ],
      "metadata": {
        "id": "hddj2sXLr8l0"
      }
    },
    {
      "cell_type": "markdown",
      "source": [
        "The connection between the momentum- and position space angular momentum projected potentials are then given,"
      ],
      "metadata": {
        "id": "FN43O0d0qNRU"
      }
    },
    {
      "cell_type": "markdown",
      "source": [
        "$$\n",
        "V_{lm, l'm'}(k,k')=\\frac{2}{\\pi}i^{l'-l}\\int_0^\\infty drr^2 \\int_0^\\infty dr'{r'}^2j_l(kr) V_{lm,l'm'}(r,r') j_{l'}(k'r') \\tag{6}\n",
        "$$"
      ],
      "metadata": {
        "id": "llluecj7fvrR"
      }
    },
    {
      "cell_type": "markdown",
      "source": [
        "which is known as a double Fourier-Bessel transform. The position space angular \n",
        "momentum projected potential is given by$$\n",
        "V_{lm, l'm'}(r,r') = \\int d{\\hat{r}} \\int d{\\hat{r}'}Y_{lm}^*(\\hat{r})V(\\mathbf{r}, \\mathbf{r'})Y_{l'm'}(\\hat{r}') \\tag{7}\n",
        "$$"
      ],
      "metadata": {
        "id": "BvS31QF6fz86"
      }
    },
    {
      "cell_type": "markdown",
      "source": [
        "No assumption of locality/non-locality and deformation of the interaction has so far been made. \n",
        "* In position space the Schroendinger equation takes form of an intergro-deffrential equation\n",
        "* In case of a non-local interaction in momentum space the Schroedinger equation is an ordinary integral equation of the Fredholm type eq. (3). \n",
        "This is the advantage of the momentum space approach as compared to position space approach. "
      ],
      "metadata": {
        "id": "MS2RPXt0f8Ei"
      }
    },
    {
      "cell_type": "markdown",
      "source": [
        "If we assume that the interaction is of local character i.e. \n",
        "\n",
        "$$\n",
        "\\langle \\mathbf{r}\\vert V \\vert \\mathbf{r'}\\rangle = V(\\mathbf{r}) \\delta( \\mathbf{r}-\\mathbf{r}' ) = \n",
        "  V(\\mathbf{r}) {\\delta( { r}-{r}' ) \\over r^2} \\delta ( \\cos \\theta - \\cos \\theta' ) \\delta (\\varphi-\\varphi'),\n",
        "$$\n",
        "\n",
        "\n",
        "Then eq(7) reduces to \n",
        "\n",
        "$$\n",
        "\\begin{equation}\n",
        "  V_{lm, l'm'}(r,r') = \\frac{\\delta({r}-{r}')}{r^2}\\int d{\\hat{r}}\\:\n",
        "  Y_{lm}^*(\\hat{r})V(\\mathbf{r})Y_{l'm'}(\\hat{r})\\tag{8}\n",
        "\\end{equation}\n",
        "$$\n",
        "\n",
        "\n",
        "and the eq(6) reduces to \n",
        "\n",
        "<!-- Equation labels as ordinary links -->\n",
        "<div id=\"eq:pot6\"></div>\n",
        "\n",
        "$$\n",
        "\\begin{equation}\n",
        "  V_{lm, l'm'}(k,k') = \\frac{2}{\\pi}i^{l' -l}\\int_0^\\infty drr^2j_l(kr) V_{lm,l'm'}(r) j_{l'}(k'r) \\tag{9}\n",
        "\\end{equation}\n",
        "$$\n",
        "\n"
      ],
      "metadata": {
        "id": "sH0gempefxWh"
      }
    },
    {
      "cell_type": "markdown",
      "source": [
        "If the interaction is central $V(\\mathbf{r}) = V(r)$\n",
        "\n",
        "Then $$\n",
        "\\begin{equation}\n",
        "  V_{lm, l'm'}(r) = V(r) \\int d{\\hat{r}}Y_{lm}^*(\\hat{r})Y_{l'm'}(\\hat{r}) = V(r) \\delta_{l,l'}\\delta_{m,m'}\\tag{10}\n",
        "\\end{equation}\n",
        "$$"
      ],
      "metadata": {
        "id": "qT0TOjZvj3q8"
      }
    },
    {
      "cell_type": "markdown",
      "source": [
        "and \n",
        "\n",
        "$$\n",
        "\\begin{equation}\n",
        "  V_{lm, l'm'}(k,k') = \\frac{2}{\\pi} \\int_0^\\infty drr^2j_l(kr) V(r) j_{l'}(k'r)\\delta_{l,l'}\\delta_{m,m'} = V_l(k,k') \\delta_{l,l'}\\delta_{m,m'}\n",
        "\\tag{11}\n",
        "\\end{equation}\n",
        "$$"
      ],
      "metadata": {
        "id": "CW7H1pnOkT34"
      }
    },
    {
      "cell_type": "markdown",
      "source": [
        "The momentum space representation of the interaction finally reads\n",
        "\n",
        "$$\n",
        "\\begin{equation}\n",
        "  V_{l}(k,k') = {2 \\over \\pi} \\int_0^\\infty dr\\: r^2 \\:\n",
        "  j_l(kr) V(r) j_{l}(k'r).\n",
        " \\tag{12}\n",
        "\\end{equation}\n",
        "$$"
      ],
      "metadata": {
        "id": "1u9P-BQbkdem"
      }
    },
    {
      "cell_type": "markdown",
      "source": [
        "For a local and spherical symmetric potential the coupled momentum space Schroedinger equation (3) decouples in angular momentum \n",
        "\n",
        "$$\n",
        "\\begin{equation}\n",
        "\\frac{\\hbar^2}{2\\mu} k^2 \\psi_{n l}(k) +\\int_{0}^\\infty dk' {k'}^2 V_{l}(k,k') \\psi_{n l }(k')=E_{n l} \\psi_{n l}(k) \n",
        " \\tag{13}\n",
        "\\end{equation}\n",
        "$$"
      ],
      "metadata": {
        "id": "OtMy2BOrkwZ0"
      }
    },
    {
      "cell_type": "markdown",
      "source": [
        "Where  $\\psi_{n l }(k)=\\psi_{nlm}(k)$, sine the equation becomes independent of the projection m for spherical symmetric interactions. The momentum space wave functions $\\psi_{n l}(k)$ defines a complete orthogonal set of functions, which spans the space of functions with a ppositive finite Eucledian norm, $\\sqrt{\\langle\\psi_n\\vert\\psi_n\\rangle}$ which is a Hilbert space. The corresponding normalized wave function in corordinate space is given by the Fourier-Bessel transofrm .\n",
        "\n",
        "$$\n",
        "\\phi_{n l}(r)  = \\sqrt{\\frac{2}{\\pi}}\\int dk k^2 j_l(kr) \\psi_{n l}(k)\n",
        "$$\n",
        "\n",
        "The interaction is spherically symmetric and use the partial wave expansion of the plane waves in terms of spherical harmonics. So we can separate the radial part of the wave function from its angular dependence. The wave function of the relative motion is described in terms of plane wave as.\n",
        "\n",
        "$$\n",
        "\\exp{(\\imath \\mathbf{kr})}=\\langle\\mathbf{r}\\vert\\mathbf{k}\\rangle=4\\pi\\sum_{lm}\\imath^{l}j_{l}(kr)Y_{lm}^{*}(\\mathbf{\\hat{k}})Y_{lm}(\\mathbf{\\hat{r}}),\n",
        "$$\n",
        "\n",
        "where $j_l$ is a spherical Bessel function and $Y_{lm}$ the\n",
        "spherical harmonics.\n"
      ],
      "metadata": {
        "id": "6yBO7XlKj0zJ"
      }
    },
    {
      "cell_type": "markdown",
      "source": [
        "The partial wave basis is useful for defining the operator for the nucleon-nucleon interaction, which is symmetric w.r.t. rotations, parity and isospin transformations. These symmetries imply that the interaaction is diagonal w.rt. the quantum numbers of total relative angular momentum ${\\cal J }$, spin $S$, isospin $T$ . Using the above plane wave expansion, and coupling to find ${\\cal J} $, $S$, and $T$ we get\n",
        "\n",
        "$$\\langle \\textbf{k}'|V|\\textbf{k} \\rangle = 4\\pi \\sum_{STll'm_l m_{l'} {\\cal J}} i^{l + l'} Y^*_{lm}(\\textbf{k}) Y_{l'm'}(\\textbf{k}') $$\n",
        "\n",
        "\n",
        "$$\n",
        "\\langle lm_lSm_S|{\\cal J}M\\rangle \\langle l'm_{l'}Sm_S|{\\cal J}M\\rangle\\langle k'l'S{\\cal J}M\\vert V \\vert klS{\\cal J}M\\rangle,\n",
        "$$\n",
        "\n",
        "\n",
        "where we have defined \n",
        "\n",
        "$$\n",
        "\\langle k'l'S{\\cal J}M\\vert V \\vert klS{\\cal J}M\\rangle=\\int j_{l'}(k'r')\\langle l'S{\\cal J}M\\vert V(r',r)\\vert lS{\\cal J}M\\rangle j_l(kr) {r'}^2 dr' r^2 dr.\n",
        "$$\n",
        "\n",
        "We have omitted the momentum of the center-of-mass motion $\\mathbf{K}$ and the \n",
        "corresponding orbital momentum $L$, since the interaction is diagonal\n",
        "in these variables.\n"
      ],
      "metadata": {
        "id": "WJscJyN9pLKG"
      }
    },
    {
      "cell_type": "markdown",
      "source": [
        "The Lippman-Schwinger equation can be written as\n",
        "\n",
        "$$\n",
        "\\langle \\phi_m \\vert\\hat{T}\\vert \\phi_n \\rangle =\\langle \\phi_m \\vert\\hat{V}\\vert\\phi_n \\rangle+\\sum_k \\langle \\phi_m \\vert\\hat{V}\\vert \\phi_k\\rangle\\frac{1}{(E_n -\\omega_k)}\\langle \\phi_k \\vert\\hat{T}\\vert \\phi_n \\rangle.\n",
        "$$\n",
        "\n",
        "\n",
        "The general structure of the T-matrix in partial waves is\n",
        "\n",
        "\n",
        "\n",
        "\n"
      ],
      "metadata": {
        "id": "CUCIX1812QpG"
      }
    },
    {
      "cell_type": "markdown",
      "source": [
        "$$\n",
        "\\begin{equation}\n",
        "  {\\displaystyle T^{\\alpha}_{ll'(kk'Kw)} = V_{ll'}^{\\alpha}(kk') +\\frac{2}{\\pi}\\sum_{l''m_{l''}M_S}\\int_{0}^{\\infty} d \\mathbf{q}\n",
        "   (\\langle l''m_{l''}Sm_S|{\\cal J}M\\rangle)^2\n",
        "   \\frac{Y_{l''m_{l''}}^*(\\hat{\\mathbf{q}})\n",
        "   Y_{l''m_{l''}}(\\hat{\\mathbf{q}}) V_{ll''}^{\\alpha}(kq)\n",
        "   T_{l''l'}^{\\alpha}(qk'K\\omega)}\n",
        "   {\\omega -H_0}}\\tag{14}\n",
        "\\end{equation}\n",
        "$$"
      ],
      "metadata": {
        "id": "RZBa2vEForV2"
      }
    },
    {
      "cell_type": "markdown",
      "source": [
        "The shorthand notation we can write\n",
        "\n",
        "$$\n",
        "T_{ll'}^{\\alpha}(kk'K\\omega)=\n",
        "   \\langle kKlL{\\cal J}S\\vert T(\\omega)\\vert k'Kl'L{\\cal J}S\\rangle,\n",
        "$$"
      ],
      "metadata": {
        "id": "UuqeZ4Ek7gXk"
      }
    },
    {
      "cell_type": "markdown",
      "source": [
        "which denotes $T$-matrix with momenta $k$ and $k'$ and orbital momenta $l$ and $l'$ of the relative motion, and $K$ is the corresponding momentum of the center-of-mass motion. Further L, ${\\cal J}$, S, and T are the orbital momentm of the center-of-mass, the total angular momentum, spin and isospin. Due to nuclear tensor force, the interaction is not diagonal in $ll'$\n",
        "\n",
        "Using the orthogonality properties of Clebsch-Gordan coefficients and the spherical harmonics, we obtain the well-known one-dimensional angle independent integral equation.\n",
        "\n",
        "$$\n",
        "T_{ll'}^{\\alpha}(kk'K\\omega)=V_{ll'}^{\\alpha}(kk')\n",
        "   +\\frac{2}{\\pi}\\sum_{l''}\\int_{0}^{\\infty} dqq^2\n",
        "   \\frac{V_{ll''}^{\\alpha}(kq)\n",
        "   T_{l''l'}^{\\alpha}(qk'K\\omega)}\n",
        "   {\\omega -H_0}.\n",
        "$$\n",
        "\n",
        "Inserting the denominator we arrive at\n",
        "\n",
        "$$\n",
        "\\hat{T}_{ll'}^{\\alpha}(kk'K)=\\hat{V}_{ll'}^{\\alpha}(kk')\n",
        "   +\\frac{2}{\\pi}\\sum_{l''}\\int_{0}^{\\infty} dqq^2\n",
        "   \\hat{V}_{ll''}^{\\alpha}(kq)\n",
        "   \\frac{1}{k^2-q^2 +i\\epsilon}\n",
        "   \\hat{T}_{l''l'}^{\\alpha}(qk'K).\n",
        "$$"
      ],
      "metadata": {
        "id": "rgKNq3CL70qD"
      }
    },
    {
      "cell_type": "markdown",
      "source": [
        "To parametrize the nucleon-nucleon interaction we solve the Lippmann-Scwhinger equation\n",
        "\n",
        "$$\n",
        "T_{ll'}^{\\alpha}(kk'K)=V_{ll'}^{\\alpha}(kk')\n",
        "   +\\frac{2}{\\pi}\\sum_{l''}\\int_{0}^{\\infty} dqq^2\n",
        "   V_{ll''}^{\\alpha}(kq)\n",
        "   \\frac{1}{k^2-q^2 +i\\epsilon}\n",
        "   T_{l''l'}^{\\alpha}(qk'K).\n",
        "$$\n",
        "\n",
        "The shorthand notation \n",
        "\n",
        "$$\n",
        "T(\\hat{V})_{ll'}^{\\alpha}(kk'K\\omega)=\\langle kKlL{\\cal J}S\\vert T(\\omega)\\vert k'Kl'L{\\cal J}S\\rangle,\n",
        "$$\n",
        "\n",
        "denotes the $TV$ matrix with momenta k and k' and orbital momenta $l$ and $l'$ of the relative motion, and K is the correspongind momentum o fhte center-of-mass motion.\n",
        "\n"
      ],
      "metadata": {
        "id": "Hb2yLApUKLFo"
      }
    },
    {
      "cell_type": "markdown",
      "source": [
        "For scattering states, the energy is positive, E $\\gt$ 0. The Lippman-Schwinger equation is an integral equation where we have to deal with the amplitude $R(k,k')$ defined through the integral equation for one partial wave( with no coupled channel)\n",
        "\n",
        "$$\n",
        "\\begin{equation}\n",
        "    R_l(k,k') = V_l(k,k') +\\frac{2}{\\pi}{\\cal P}\n",
        "                \\int_0^{\\infty}dqq^2V_l(k,q)\\frac{1}{E-q^2/m}R_l(q,k').\\tag{15}\n",
        "\\end{equation}\n",
        "$$"
      ],
      "metadata": {
        "id": "105r6czfNb-t"
      }
    },
    {
      "cell_type": "markdown",
      "source": [
        "For negative energies and intermediate states scattering states blocked by occupied states below Fermi Level.\n"
      ],
      "metadata": {
        "id": "bB_TC2PRRJWE"
      }
    },
    {
      "cell_type": "markdown",
      "source": [
        "The symbol ${\\cal P}$ in the previous slide indicates that Cauchy's principal-value prescription\n",
        "is used in order to avoid the singularity arising from the zero of the denominator.\n",
        "\n",
        "\n",
        "The total kinetic energy of the two \n",
        "incoming particles in the center-of-mass system\n",
        "is\n",
        "\n",
        "$$\n",
        "E=\\frac{k_0^2}{m_n}.\n",
        "$$\n",
        "\n",
        "The matrix $R_l(k,k')$ relates to the \n",
        "the  phase shifts through its diagonal elements as\n",
        "\n",
        "$$\n",
        "\\begin{equation}\n",
        "     R_l(k_0,k_0)=-\\frac{tan\\delta_l}{mk_0}.\n",
        " \\tag{16}\n",
        "\\end{equation}\n",
        "$$"
      ],
      "metadata": {
        "id": "dQw_aqw1Rji7"
      }
    },
    {
      "cell_type": "markdown",
      "source": [
        "From now on we will drop the subscript $l$ in all equations.\n",
        "In order to solve the Lippman-Schwinger equation \n",
        "in momentum space, we need first to write \n",
        "a function which sets up the mesh points. \n",
        "We need to do that since we are going to approximate an integral\n",
        "through\n",
        "\n",
        "$$\n",
        "\\int_a^bf(x)dx\\approx\\sum_{i=1}^Nw_if(x_i),\n",
        "$$\n",
        "\n",
        "where we have fixed $N$ lattice points through the corresponding weights $w_i$ and points $x_i$. Typically obtained via methods like Gaussian quadrature.\n"
      ],
      "metadata": {
        "id": "nq2Tiv60R63j"
      }
    },
    {
      "cell_type": "markdown",
      "source": [
        "If you use Gauss-Legendre the points are determined for the interval $x_i \\in [-1, 1]$. You map these points over the limits in your integrals. We can than use the following mapping \n",
        "\n",
        "$$\n",
        "k_i=const\\times tan\\left\\{\\frac{\\pi}{4}(1+x_i)\\right\\},\n",
        "$$\n",
        "\n",
        "$$\n",
        "\\omega_i= const \\times \\frac{\\pi}{4} \\times \\frac{w_i}{cos^2\\left(\\frac{\\pi}{4}(1+x_i)\\right)}.\n",
        "$$\n",
        "\n",
        "If we choose units $fm^{-1}$ for $k$, set $const = 1$. If you choose to work with $MeV$ set $const = 200 ( \\hbar c = 197 MeV fm)$\n",
        "\n",
        "The principal value integral is rather integral tricky to evaluate numerically, mainly since computer have limited precision. "
      ],
      "metadata": {
        "id": "wvoYn_ZV70zH"
      }
    },
    {
      "cell_type": "markdown",
      "source": [
        "The prinicipal value integral is rather tricky to evaluate due to computational limit. To solve the this we indroduce calcular relation\n",
        "\n",
        "$$\n",
        "\\int_{-\\infty}^{\\infty} \\frac{dk}{k-k_0} =0.\n",
        "$$\n",
        "\n",
        "It means that the curve $1/(k-k_0)$ has equal and opposite\n",
        "areas on both sides of the singular point $k_0$. If we break\n",
        "the integral into one over positive $k$ and one over \n",
        "negative $k$, a change of variable $k\\rightarrow -k$ \n",
        "allows us to rewrite the last equation as\n",
        "\n",
        "$$\n",
        "\\int_{0}^{\\infty} \\frac{dk}{k^2-k_0^2} =0.\n",
        "$$\n",
        "\n",
        "\n",
        "We can then express a principal values integral\n",
        "as\n",
        "\n",
        "$$\n",
        "\\begin{equation}\n",
        "  {\\cal P}\\int_{0}^{\\infty} \\frac{f(k)dk}{k^2-k_0^2} =\n",
        "  \\int_{0}^{\\infty} \\frac{(f(k)-f(k_0))dk}{k^2-k_0^2},\n",
        " \\tag{17}\n",
        "\\end{equation}\n",
        "$$\n",
        "\n",
        "where the right-hand side is no longer singular at \n",
        "$k=k_0$, it is proportional to the derivative $df/dk$,\n",
        "and can be evaluated numerically as any other integral.\n",
        "\n"
      ],
      "metadata": {
        "id": "_IIRrtmAx7EB"
      }
    },
    {
      "cell_type": "markdown",
      "source": [
        "We can then use this trick to obtain\n",
        "\n",
        "$$\n",
        "\\begin{equation}\n",
        "    R(k,k') = V(k,k') +\\frac{2}{\\pi}\n",
        "                \\int_0^{\\infty}dq\n",
        "                \\frac{q^2V(k,q)R(q,k')-k_0^2V(k,k_0)R(k_0,k')  }\n",
        "                     {(k_0^2-q^2)/m}.\n",
        " \\tag{18}\n",
        "\\end{equation}\n",
        "$$"
      ],
      "metadata": {
        "id": "L3kn764GO4kC"
      }
    },
    {
      "cell_type": "markdown",
      "source": [
        "\n",
        "\n",
        "This is the equation to solve numerically in order\n",
        "to calculate the phase shifts. We are interested in obtaining\n",
        "$R(k_0,k_0)$.\n"
      ],
      "metadata": {
        "id": "qRMpD6FrVCKz"
      }
    },
    {
      "cell_type": "markdown",
      "source": [
        "Using the mesh points $k_j$ and the weights $\\omega_j$, we reach\n",
        "$$\n",
        "R(k,k') = V(k,k') +\\frac{2}{\\pi}\n",
        "          \\sum_{j=1}^N\\frac{\\omega_jk_j^2V(k,k_j)R(k_j,k')}\n",
        "                           {(k_0^2-k_j^2)/m}\n",
        "           -\\frac{2}{\\pi}k_0^2V(k,k_0)R(k_0,k')\n",
        "          \\sum_{n=1}^N\\frac{\\omega_n}\n",
        "                           {(k_0^2-k_n^2)/m}.\n",
        "$$\n",
        "\n",
        "This equation contains now the unknowns $R(k_i,k_j)$\n",
        "(with dimension $N\\times N$) and $R(k_0,k_0)$.\n",
        "\n",
        "* We can turn it into an equation with dimension $(N+1)\\times (N+1)$ with  a mesh which contains the original mesh points $k_j$ for $j=1,N$ and the point which corresponds to the energy $k_0$. Consider the latter as the 'observable' point.\n",
        "The mesh points become then $k_j$ for $j=1,n$ and\n",
        "$k_{N+1}=k_0$. \n",
        "\n",
        "With these new mesh points we define the matrix\n",
        "\n",
        "$$\n",
        "\\begin{equation}\n",
        "      A_{i,j}=\\delta_{i,j}-V(k_i,k_j)u_j,\n",
        " \\tag{19}\n",
        "\\end{equation}\n",
        "$$\n",
        "\n",
        "where $\\delta$ is the Kronecker $\\delta$\n",
        "and\n",
        "$$\n",
        "u_j=\\frac{2}{\\pi}\\frac{\\omega_jk_j^2}{(k_0^2-k_j^2)/m}\\hspace{1cm} j=1,N\n",
        "$$\n",
        "\n",
        "and \n",
        "\n",
        "$$\n",
        "u_{N+1}=-\\frac{2}{\\pi}\\sum_{j=1}^N\\frac{k_0^2\\omega_j}{(k_0^2-k_j^2)/m}.\n",
        "$$\n",
        "\n"
      ],
      "metadata": {
        "id": "WOVqmTRPVOfS"
      }
    },
    {
      "cell_type": "markdown",
      "source": [
        "The first task is then to \n",
        "set up the matrix $A$ for a given $k_0$. This is an\n",
        "$(N+1)\\times (N+1)$ matrix. It can be convenient\n",
        "to have an outer loop which runs over the chosen\n",
        "observable values for the energy $k_0^2/m$.\n",
        "**Note that all mesh points $k_j$ for $j=1,N$ must be\n",
        "different from $k_0$. Note also that\n",
        "$V(k_i,k_j)$ is an $(N+1)\\times (N+1)$ matrix**. \n",
        "\n",
        "With the matrix $A$ we can rewrite the problem as a matrix problem of dimension $(N+1)\\times (N+1)$.\n",
        "All matrices $R$, $A$ and $V$ have this dimension and we get\n",
        "\n",
        "$$\n",
        "A_{i,l}R_{l,j}=V_{i,j},\n",
        "$$ \n",
        "\n",
        "or just \n",
        "\n",
        "$$\n",
        "AR=V.\n",
        "$$"
      ],
      "metadata": {
        "id": "EXYZdnbsaHo4"
      }
    },
    {
      "cell_type": "markdown",
      "source": [
        "We have already defined $A$ and $V$. The final equation involves only the unknown R. We obtain it by matrix inversion \n",
        "i.e.\n",
        "$$\n",
        "\\begin{equation}\n",
        "    R=A^{-1}V.\n",
        "\\tag{20}\n",
        "\\end{equation}\n",
        "$$\n",
        "\n",
        "To obtain R, you will need to set up the matrices $A$ and $V$ and invert the matrix A. With the inverse $A^{-1}$ perform a matrix multiplication with V results in $R$.\n",
        "\n",
        "With $R$ we can then evaluate the phase shift by noting that\n",
        "\n",
        "$$\n",
        "R(k_{N+1},k_{N+1})=R(k_0,k_0)=-\\frac{tan\\delta}{mk_0},\n",
        "$$\n",
        "\n",
        "where $\\delta$ are the phase shifts.\n",
        "\n"
      ],
      "metadata": {
        "id": "QgLuC9JeaWSA"
      }
    },
    {
      "cell_type": "markdown",
      "source": [
        "For elastic scattering, the scattering potential can only change the outgoing wave function up to a phase. In the asymptoic limit, far away from the scattering potential, \n",
        "\n",
        "we get spherical bessel function\n",
        "\n",
        "$$\n",
        "j_l(kr) \\xrightarrow[]{ r \\gg 1} \\frac{\\sin(kr -l\\pi/2)}{kr} =  \\frac{1}{2ik}\\left( \\frac{e^{i(kr-l\\pi/2)}}{r} - \\frac{e^{-i(kr-l\\pi/2)}}{r}\\right)\n",
        "$$"
      ],
      "metadata": {
        "id": "XUFRDGkccO9v"
      }
    },
    {
      "cell_type": "markdown",
      "source": [
        "The outgoing wave will change by a phase shift $\\delta_l$ from which we can define the S-matrix $S_l(k) = e^{2i\\delta_l (k)}$. Thus we have\n",
        "\n",
        "\n",
        "$$\n",
        "\\frac{e^{i(kr-l\\pi/2)}}{r} \\xrightarrow[]{\\mathrm{phase change}}  \\frac{S_l(k)e^{i(kr-l\\pi/2)}}{r}\n",
        "$$"
      ],
      "metadata": {
        "id": "wOy5pXMYdfus"
      }
    },
    {
      "cell_type": "markdown",
      "source": [
        "The solution to the Schrodinger equation for a spherically symmetric potential, will have the form\n",
        "\n",
        "\n",
        "$$\n",
        "\\psi_k(r) = e^{ikr} + f(\\theta)\\frac{e^{ikr}}{r}\n",
        "$$\n",
        "\n",
        "where $f(\\theta)$ is the scattering amplitude, and related to the differential cross section as\n",
        "\n",
        "$$\n",
        "\\frac{d\\sigma}{d\\Omega} = |f(\\theta)|^2\n",
        "$$\n",
        "\n",
        "\n",
        "Using the expansion of a plane wave in spherical waves, we can relate the scattering amplitude $f(\\theta)$ with the partial wave phase shifts $\\delta_l$ by identifying the outgoing wave\n",
        "\n",
        "\n",
        "$$\n",
        "\\psi_k(r) = e^{ikr} + \\left[\\frac{1}{2ik}\\sum_l i^l (2l+1) (S_l(k)-1)P_l(\\cos(\\theta))e^{-il\\pi/2}\\right] \\frac{e^{ikr}}{r}\n",
        "$$\n",
        "\n",
        "which can be simplified further by cancelling $i^l$ with $e^{-il\\pi/2}$"
      ],
      "metadata": {
        "id": "nGGaM_vpemRl"
      }
    },
    {
      "cell_type": "markdown",
      "source": [
        "We have\n",
        "\n",
        "$$\n",
        "\\psi_k(r) = e^{ikr} + f(\\theta) \\frac{e^{ikr}}{r}\n",
        "$$\n",
        "\n",
        "with \n",
        "\n",
        "$$\n",
        "f(\\theta) = \\sum_l (2l+1)f_l(\\theta) P_l(\\cos(\\theta))\n",
        "$$\n",
        "\n",
        "\n",
        "where the partial wave scattering amplitude is given by\n",
        "\n",
        "\n",
        "\n",
        "$$\n",
        "f_l(\\theta) = \\frac{1}{k}\\frac{(S_l(k)-1)}{2i} = \\frac{1}{k}\\sin\\delta_l(k) e^{i\\delta_l(k)}\n",
        "$$\n",
        "\n",
        "With Eulers formula for the cotangent, this can also be written as\n",
        "\n",
        "$$\n",
        "f_l(\\theta) = \\frac{1}{k}\\frac{1}{\\cot \\delta_l(k) - i}.\n",
        "$$"
      ],
      "metadata": {
        "id": "g1XDZunxjLB6"
      }
    },
    {
      "cell_type": "markdown",
      "source": [
        "## Interpretation of phase shifts\n",
        "\n",
        "\n",
        "\n",
        "## The Lippman-Schwinger equation for two-nucleon scattering\n",
        "The integrated cross section is given by\n",
        "$$\\\n",
        "\\sigma = 2\\pi \\int_0^{\\pi} |f(\\theta)|^2 \\sin \\theta d\\theta \n",
        "=2\\pi \\sum_l |\\frac{(2l+1)}{k} \\sin(\\delta_l)|^2 \\int_0^{\\pi} (P_l(\\cos(\\theta)))^2 \\sin(\\theta) d\\theta \\\\\n",
        "= \\frac{4\\pi}{k^2} \\sum_l (2l+1) \\sin^2\\delta_l(k) = 4\\pi \\sum_l (2l+1)|f_l(\\theta)|^2, \n",
        "$$\n",
        "where the orthogonality of the Legendre polynomials was used to evaluate the last integral\n",
        "$$\n",
        "\\int_0^{\\pi} P_l(\\cos \\theta)^2 \\sin \\theta d\\theta = \\frac{2}{2l+1}.\n",
        "$$\n",
        "Thus, the **total** cross section is the sum of the partial-wave cross sections. Note that the differential cross section contains cross-terms from different partial waves. The integral over the full sphere enables the use of the legendre orthogonality, and this kills the cross-terms.\n",
        "\n",
        "\n",
        "\n",
        "## The Lippman-Schwinger equation for two-nucleon scattering\n",
        "\n",
        "At low energy, $k \\rightarrow 0$, S-waves are most important. In this region we can define the scattering length $a$ and the effective range $r$. The $S-$wave scattering amplitude is given by\n",
        "$$\n",
        "f_l(\\theta) = \\frac{1}{k}\\frac{1}{\\cot \\delta_l(k) - i}.\n",
        "$$\n",
        "Taking the limit $k \\rightarrow 0$, gives us the expansion\n",
        "$$\n",
        "k \\cot \\delta_0 = -\\frac{1}{a} + \\frac{1}{2}r_0 k^2 + \\ldots\n",
        "$$\n",
        "Thus the low energy cross section is given by\n",
        "$$\n",
        "\\sigma = 4\\pi a^2.\n",
        "$$\n",
        "If the system contains a bound state, the scattering length will become positive (neutron-proton in $^3S_1$). For the $^1S_0$ wave, the scattering length is negative and large. This indicates that the wave function of the system is at the verge of turning over to get a node, but cannot create a bound state in this wave.\n",
        "\n",
        "\n",
        "\n",
        "## The Lippman-Schwinger equation for two-nucleon scattering\n",
        "**Low energy scattering length.**\n",
        "\n",
        "![phase.png](data:image/png;base64,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)\n",
        "\n",
        "\n",
        "## The Lippman-Schwinger equation for two-nucleon scattering\n",
        "It is important to realize that the phase shifts themselves are not\n",
        "observables. The measurable scattering quantity is the cross section,\n",
        "or the differential cross section. The partial wave phase shifts can\n",
        "be thought of as a parameterization of the (experimental) cross\n",
        "sections. The phase shifts provide insights into the physics of\n",
        "partial wave projected nuclear interactions, and are thus important\n",
        "quantities to know.\n",
        "\n",
        "The nucleon-nucleon differential cross section\n",
        "have been measured at almost all energies up to the pion production\n",
        "threshold (290 MeV in the Lab frame), and this experimental data base\n",
        "is what provides us with the constraints on our nuclear interaction\n",
        "models. In order to pin down the unknown coupling constants of the\n",
        "theory, a statistical optimization with respect to cross sections need\n",
        "to be carried out. This is how we constrain the nucleon-nucleon\n",
        "interaction in practice!\n",
        "\n",
        "\n",
        "\n",
        "## The Lippman-Schwinger equation for two-nucleon scattering\n",
        "**Nijmegen multi-energy $pp$ PWA phase shifts.**\n",
        "\n",
        "\n",
        "![scattering_length.png](data:image/png;base64,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)\n",
        "\n",
        "The $pp$-data is more accurate than the $np$-data, and for $nn$ there is no data. The quality of a potential is gauged by the $\\chi^2$/datum with respect to the scattering data base\n",
        "\n",
        "\n",
        "\n",
        "## The Lippman-Schwinger equation for two-nucleon scattering\n",
        "**Nijmegen multi-energy $pp$ PWA phase shifts.**\n",
        "\n",
        "\n",
        "<table border=\"1\">\n",
        "<thead>\n",
        "<tr><th align=\"center\">$T_{\\mathrm{lab}}$ bin (MeV)</th> <th align=\"center\">    N3LO$^1$   </th> <th align=\"center\">   NNLO$^2$  </th> <th align=\"center\">   NLO$^2$   </th> <th align=\"center\">    AV18$^3$   </th> </tr>\n",
        "</thead>\n",
        "<tbody>\n",
        "<tr><td align=\"center\">                                   </td> <td align=\"center\">                      </td> <td align=\"center\">                    </td> <td align=\"center\">                    </td> <td align=\"center\">                      </td> </tr>\n",
        "<tr><td align=\"center\">   0-100                           </td> <td align=\"center\">   1.05               </td> <td align=\"center\">   1.7              </td> <td align=\"center\">   4.5              </td> <td align=\"center\">   0.95               </td> </tr>\n",
        "<tr><td align=\"center\">   100-190                         </td> <td align=\"center\">   1.08               </td> <td align=\"center\">   22               </td> <td align=\"center\">   100              </td> <td align=\"center\">   1.10               </td> </tr>\n",
        "<tr><td align=\"center\">   190-290                         </td> <td align=\"center\">   1.15               </td> <td align=\"center\">   47               </td> <td align=\"center\">   180              </td> <td align=\"center\">   1.11               </td> </tr>\n",
        "<tr><td align=\"center\">   $\\mathbf{0-290}$                </td> <td align=\"center\">   $\\mathbf{1.10}$    </td> <td align=\"center\">   $\\mathbf{20}$    </td> <td align=\"center\">   $\\mathbf{86}$    </td> <td align=\"center\">   $\\mathbf{1.04}$    </td> </tr>\n",
        "</tbody>\n",
        "</table>\n"
      ],
      "metadata": {
        "id": "qXxRKki1fMUG"
      }
    },
    {
      "cell_type": "markdown",
      "source": [
        "\n",
        "**An example: chiral twobody interactions.**\n",
        "\n",
        "$$\n",
        "\\mathcal{L_{\\mathrm{eff}}} = \\mathcal{L}_{\\pi \\pi}(f_\\pi,m_{\\pi}) + \\mathcal{L}_{\\pi N}(f_{\\pi},M_{N},g_A,c_i,d_i,...) + \\mathcal{L}_{NN}(C_{i},\\tilde{C}_{i},D_{i},...) + \\ldots\n",
        "$$"
      ],
      "metadata": {
        "id": "HSPCOH6hiSci"
      }
    },
    {
      "cell_type": "markdown",
      "source": [
        "##Proton-nuetron $^1S_0$ phase shift.##\n",
        "\n",
        "The Nijm93 PWA phase shift becomes negative at $T_{lab} > 250 MeV$. This means that nucleon-nucleon potential is repulsive at short distance.\n",
        "\n",
        " "
      ],
      "metadata": {
        "id": "ZiwZSLWO-dJM"
      }
    },
    {
      "cell_type": "code",
      "source": [],
      "metadata": {
        "id": "khiEkuZLgBy5"
      },
      "execution_count": null,
      "outputs": []
    }
  ]
}