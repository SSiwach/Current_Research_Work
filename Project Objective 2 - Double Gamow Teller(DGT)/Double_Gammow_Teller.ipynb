{
  "nbformat": 4,
  "nbformat_minor": 0,
  "metadata": {
    "colab": {
      "provenance": [],
      "collapsed_sections": []
    },
    "kernelspec": {
      "name": "python3",
      "display_name": "Python 3"
    },
    "language_info": {
      "name": "python"
    }
  },
  "cells": [
    {
      "cell_type": "markdown",
      "source": [
        "## Step 1 -  Initial input for the shell model code\n",
        "\n",
        "\n",
        "We need to run this code to generate BGA file.\n"
      ],
      "metadata": {
        "id": "bW0ZebikyS1u"
      }
    },
    {
      "cell_type": "markdown",
      "source": [
        "\n",
        "\n",
        "```\n",
        "--------------------------------------------------\n",
        "lpe,   1             ! option (lpe or lan), neig (zero=10) \n",
        "fppn                 ! model space (*.sp) name (a8)\n",
        "n                    ! any restrictions (y/n)\n",
        "fpd6pn               ! interaction (*.int) name (a8)\n",
        " 20                  ! number of protons\n",
        " 42                  ! number of nucleons\n",
        " 0.0, 0.0, 1.0,      ! min J, max J, del J \n",
        "  0                  ! parity (0 for +) (1 for -) (2 for both)\n",
        "--------------------------------------------------\n",
        "lpe,   100           ! option (lpe or lan), neig (zero=10) \n",
        " 21                  ! number of protons\n",
        " 42                  ! number of nucleons\n",
        " 1.0, 1.0, 1.0,      ! min J, max J, del J \n",
        "  0                  ! parity (0 for +) (1 for -) (2 for both)\n",
        "--------------------------------------------------\n",
        "lpe,   100           ! option (lpe or lan), neig (zero=10) \n",
        " 22                  ! number of protons\n",
        " 42                  ! number of nucleons\n",
        " 0.0, 2.0, 1.0,      ! min J, max J, del J \n",
        "  0                  ! parity (0 for +) (1 for -) (2 for both)\n",
        "--------------------------------------------------\n",
        "den                  ! option \n",
        "t                    ! 1, 2 or t\n",
        "fy0200               ! initial file name (default =       )\n",
        "   1                 ! max number (-1 for all)\n",
        "fy1202               ! final file name (default =       )\n",
        "  -1                 ! max number (-1 for all)\n",
        " 0.0, 0.0,           ! min, max J, del J for fy2400\n",
        " 1.0, 1.0,           ! min, max J, del J for fy1402\n",
        "n                    ! restrict coupling for operator\n",
        "--------------------------------------------------\n",
        "den                  ! option \n",
        "t                    ! 1, 2 or t\n",
        "fy2200               ! initial file name (default =       )\n",
        "  -1                 ! max number (-1 for all)\n",
        "fy1202               ! final file name (default =       )\n",
        "  -1                 ! max number (-1 for all)\n",
        " 0.0, 0.0,           ! min, max J, del J for fy2400\n",
        " 1.0, 1.0,           ! min, max J, del J for fy1402\n",
        "n                    ! restrict coupling for operator\n",
        "--------------------------------------------------\n",
        "st\n",
        "```\n",
        "\n"
      ],
      "metadata": {
        "id": "elsjyqpgyO--"
      }
    },
    {
      "cell_type": "markdown",
      "source": [
        "# Step 2 - To run the file in NuShellX in the background"
      ],
      "metadata": {
        "id": "hE91XPHP5gWs"
      }
    },
    {
      "cell_type": "markdown",
      "source": [
        "## nuhupNu.sh\n",
        "\n",
        "```\n",
        "#!/bin/bash\n",
        "# to run the nushellx code in the background\n",
        "echo \"start\"\n",
        "echo $(date)\n",
        ". ca482p.bat\n",
        "echo $(date)\n",
        "echo \"end\"\n",
        "```\n",
        "Change the name of **. ca482.bat** file if there is some another file. \n"
      ],
      "metadata": {
        "id": "O8omM_ufwqhX"
      }
    },
    {
      "cell_type": "markdown",
      "source": [
        "#for bga1\n",
        "\n",
        "\n",
        "```\n",
        "    0.82000   2.19904   4.83576   4.83576\n",
        "    4.43200   0.07924   0.00628   4.84204\n",
        "    6.14300   0.19844   0.03938   4.88142\n",
        "    7.76800  -0.32612   0.10636   4.98777\n",
        "    8.99400  -0.14684   0.02156   5.00934\n",
        "    9.64100   0.12737   0.01622   5.02556\n",
        "   10.26300   0.95998   0.92157   5.94713\n",
        "   10.66000  -0.01695   0.00029   5.94742\n",
        "   11.88400   0.22728   0.05166   5.99907\n",
        "   16.20100  -0.03478   0.00121   6.00028\n",
        "\n",
        "\n",
        "   \n",
        "```"
      ],
      "metadata": {
        "id": "hB9Bw3zQuKGY"
      }
    },
    {
      "cell_type": "markdown",
      "source": [
        "## for bga2\n",
        "\n",
        "```\n",
        "    0.82000  -2.19904   4.83576   4.83576\n",
        "    4.43200  -0.07924   0.00628   4.84204\n",
        "    6.14300  -0.19842   0.03937   4.88141\n",
        "    7.76800   0.32612   0.10636   4.98776\n",
        "    8.99400   0.14686   0.02157   5.00933\n",
        "    9.64100   0.12737   0.01622   5.02555\n",
        "   10.26300   0.95998   0.92157   5.94713\n",
        "   10.66000   0.01695   0.00029   5.94741\n",
        "   11.88400   0.22728   0.05166   5.99907\n",
        "   16.20100   0.03478   0.00121   6.00028\n",
        "   -5.14200   0.32584   0.10617   6.10645\n",
        "   -1.53000   1.41826   2.01145   8.11790\n",
        "    0.18100  -1.66487   2.77179  10.88969\n",
        "    1.80600   0.54832   0.30065  11.19034\n",
        "    3.03200  -0.09275   0.00860  11.19894\n",
        "    3.67900  -0.77264   0.59697  11.79591\n",
        "    4.30100   0.44589   0.19882  11.99473\n",
        "    4.69800  -0.04847   0.00235  11.99708\n",
        "    5.92200   0.01163   0.00014  11.99721\n",
        "   10.23900   0.05525   0.00305  12.00027\n",
        "  -10.11300  -0.25813   0.06663  12.06690\n",
        "   -6.50100  -0.50405   0.25407  12.32097\n",
        "   -4.79000   0.13124   0.01723  12.33819\n",
        "   -3.16500  -0.58779   0.34550  12.68369\n",
        "   -1.93900   0.53259   0.28365  12.96734\n",
        "   -1.29200  -1.82437   3.32832  16.29566\n",
        "   -0.67000  -0.16128   0.02601  16.32167\n",
        "   -0.27300  -1.26639   1.60375  17.92542\n",
        "    0.95100  -0.24181   0.05847  17.98390\n",
        "    5.26800  -0.12707   0.01615  18.00004\n",
        "  -14.08700  -0.54087   0.29254  18.29259\n",
        "  -10.47500  -0.38528   0.14844  18.44102\n",
        "   -8.76400  -0.70154   0.49216  18.93319\n",
        "   -7.13900   0.84733   0.71796  19.65115\n",
        "   -5.91300   0.26356   0.06946  19.72061\n",
        "   -5.26600   0.10186   0.01037  19.73098\n",
        "   -4.64400  -1.63353   2.66841  22.39940\n",
        "   -4.24700   0.15772   0.02488  22.42427\n",
        "   -3.02300  -0.35074   0.12302  22.54729\n",
        "    1.29400  -1.20530   1.45274  24.00003\n",
        "\n",
        "```"
      ],
      "metadata": {
        "id": "rC5564Nquewc"
      }
    },
    {
      "cell_type": "markdown",
      "source": [
        "## Step 3  This program use bga file and convert them into the densitites bga_file for J = 0.\n"
      ],
      "metadata": {
        "id": "6npwPZtJdjra"
      }
    },
    {
      "cell_type": "markdown",
      "source": [
        "## bigrun_J0.sh\n",
        "\n",
        "Before compiling this make a folder named **savebga0** and **savebga2** without that there will be no output\n",
        "\n",
        "\n",
        "\n",
        "```\n",
        "#!/bin/bash\n",
        "# DGT\n",
        "\n",
        "    echo \"Beginning of Run\"\n",
        "    echo \" $(date) \"\n",
        "    for i in {4010..5000..10}\n",
        "    do\n",
        "#nimin.dat\n",
        "\t\tnimin=$(expr $i - 9)\n",
        "\t\techo \"${nimin}\" > nimin.dat\n",
        "#.ans\n",
        "echo \"den                  ! option \n",
        "t                    ! 1, 2 or t\n",
        "fy2800               ! initial file name (default =       )\n",
        "$i                   ! max number (-1 for all)\n",
        "fy1802               ! final file name (default =       )\n",
        "  -1                 ! max number (-1 for all)\n",
        " 0.0, 0.0            ! min, max J, del J for fy2804\n",
        " 1.0, 1.0            ! min, max J, del J for fy1802\n",
        "n                    ! restrict coupling for operator\n",
        "--------------------------------------------------------------------\n",
        "st\" > denTi0.ans\n",
        "# run NushellX@MSU\n",
        "\t\tshell denTi0.ans\n",
        "\t\t. denTi0.bat\n",
        "# collect the results\n",
        "\t\tcp ti482y.bga savebga0/denscti0_${i}.bga   #rename the the file name\n",
        "\t\techo \" $(date) \"\n",
        "    done \n",
        "    echo \" $(date) \"\n",
        "    echo \"End of Run\"\n",
        " \n",
        "\n",
        "```\n",
        "\n"
      ],
      "metadata": {
        "id": "Mp0UnBj00CsU"
      }
    },
    {
      "cell_type": "markdown",
      "source": [
        "## This program use bga file and convert them into the densitites for J = 2.\n",
        "\n",
        "\n",
        "\n",
        "##bigrun_J2.sh\n",
        "\n",
        "Make sure there is a folder savebga2 in the present directory\n",
        "\n",
        "\n",
        "\n",
        "```\n",
        "#!/bin/bash\n",
        "# DGT\n",
        "\n",
        "    echo \"Beginning of Run\"\n",
        "    echo \" $(date) \"\n",
        "    for i in {1200..1600..10}\n",
        "    do\n",
        "#nimin.dat\n",
        "\t\tnimin=$(expr $i - 9)\n",
        "\t\techo \"${nimin}\" > nimin.dat\n",
        "#.ans\n",
        "echo \"den                  ! option \n",
        "t                    ! 1, 2 or t\n",
        "fy2804               ! initial file name (default =       )\n",
        "$i                   ! max number (-1 for all)\n",
        "fy1802               ! final file name (default =       )\n",
        "  -1                 ! max number (-1 for all)\n",
        " 2.0, 2.0            ! min, max J, del J for fy2804\n",
        " 1.0, 1.0            ! min, max J, del J for fy1802\n",
        "n                    ! restrict coupling for operator\n",
        "--------------------------------------------------------------------\n",
        "st\" > denTi2.ans\n",
        "# run NushellX@MSU\n",
        "\t\tshell denTi2.ans\n",
        "\t\t. denTi2.bat\n",
        "# collect the results\n",
        "\t\tcp ti482y.bga savebga2/denscti2_${i}.bga\n",
        "\t\techo \" $(date) \"\n",
        "    done \n",
        "    echo \" $(date) \"\n",
        "    echo \"End of Run\"\n",
        " \n",
        "\n",
        "```\n",
        "\n"
      ],
      "metadata": {
        "id": "GckR2kA50LCR"
      }
    },
    {
      "cell_type": "markdown",
      "source": [
        "## This program take input from densities_file_bga and store them in bga file\n",
        "We have to run this file two time one for bga0(J=0) and other for bga2(J = 2).\n",
        "\n",
        "\n",
        "\n",
        "## bga2.sh\n",
        "#!/bin/bash\n",
        " copy the results to bga0.in\n",
        " ```\n",
        "    #!/bin/bash\n",
        "# coppy the results to bga2.in\n",
        " \n",
        "    echo \"Beginning of Run\"\n",
        "    echo \" $(date) \"\n",
        "    rm bga1.inp\n",
        "    echo \"J_f = ?\"\n",
        "    read j\n",
        "    for i in {4000..5000..10}\n",
        "    do\n",
        "\t\tcat denscti${j}_${i}.bga >> bga1.inp\n",
        "    done \n",
        "    echo \" $(date) \"\n",
        "    echo \"End of Run\"\n",
        " \n",
        "\"\n",
        "```\n",
        "\n",
        "\n",
        "copy the results to bga0.in\n",
        "\n",
        "\n",
        "```\n",
        "#!/bin/bash\n",
        "# coppy the results to bga2.in\n",
        " \n",
        "    echo \"Beginning of Run\"\n",
        "    echo \" $(date) \"\n",
        "    rm bga2.inp\n",
        "    echo \"J_f = ?\"\n",
        "    read j\n",
        "    for i in {10..500..10}\n",
        "    do\n",
        "\t\tcat denscti${j}_${i}.bga >> bga2.inp\n",
        "    done \n",
        "    echo \" $(date) \"\n",
        "    echo \"End of Run\"\n",
        " \n",
        "\n",
        "```\n",
        "\n"
      ],
      "metadata": {
        "id": "NTTcqVWOv5Wd"
      }
    },
    {
      "cell_type": "markdown",
      "source": [
        "\n",
        "\n",
        "##bdgt.f90\n",
        "With bga0 and bga2 is generated we will then run this file which take bga0.inp, bga2.inp and bdgt.out as there input \n",
        "\n",
        "# **EGSINI, EGSFIN** \n",
        "are the **INITIAL AND FINAL G.S. ENERGY:** for the particular nuclei which is derived by the specific interaction file. \n",
        "\n",
        "When KSU4 Limit = 1 the ground state energy changed.\n",
        "\n",
        "```\n",
        "#       PROGRAM DGT\n",
        "! CALCULATE THE B(DGT) (COHERENT SUM)\n",
        "      IMPLICIT REAL*8 (A-H,O-Z)\n",
        "      PARAMETER (NP=5000)\n",
        "      DIMENSION AMP12(NP,NP), ADGT(NP), BDGT(NP)\n",
        "\n",
        "      open(1,file='bga1.inp',form='formatted',status='old') \n",
        "      open(2,file='bga2.inp',form='formatted',status='old')\n",
        "      open(3,file='bdgt.out',form='formatted',status='unknown')\n",
        "      open(7,file='out',form='formatted',status='unknown')\n",
        "            \n",
        "      PRINT*, 'Mass, J_f, no. inter. states, SU4 limit?'\n",
        "      READ(*,*) MASS, JF, NOISTS, KSU4\n",
        "      WRITE(7,*) MASS, JF, NOISTS, KSU4\n",
        "      \n",
        "      IF (MASS.EQ.0) THEN \n",
        "       open(4,file='bdgt.in',form='formatted',status='old')\n",
        "       READ(4,*) MASS, JF, NOISTS, KSU4\n",
        "       WRITE(4,*) MASS, JF, NOISTS, KSU4\n",
        "      END IF\n",
        "!\n",
        "      IF (KSU4.EQ.0) THEN\n",
        "       IF      (MASS.EQ.42) THEN\n",
        "!        EGSINI = -19.815D0 \n",
        "        EGSINI = -19.892D0 ! KB3G\n",
        "        IF (JF.EQ.0) EGSFIN = -19.815D0 \n",
        "!        IF (JF.EQ.2) EGSFIN = -18.034D0\n",
        "        IF (JF.EQ.2) EGSFIN = -18.522D0 ! KB3G\n",
        "       ELSE IF (MASS.EQ.44) THEN\n",
        "        EGSINI = -38.901D0 \n",
        "        IF (JF.EQ.0) EGSFIN = -48.144D0 \n",
        "        IF (JF.EQ.1) EGSFIN = -40.794D0\n",
        "        IF (JF.EQ.2) EGSFIN = -46.843D0  \n",
        "       ELSE IF (MASS.EQ.46) THEN\n",
        "        EGSINI = -56.960D0 \n",
        "        IF (JF.EQ.0) EGSFIN = -70.661D0 \n",
        "        IF (JF.EQ.2) EGSFIN = -69.685D0  \n",
        "       ELSE IF (MASS.EQ.48) THEN\n",
        "        EGSINI = -73.859D0 \n",
        "!        EGSINI = -76.369D0 ! KB3G\n",
        "        IF (JF.EQ.0) EGSFIN = -90.856D0 \n",
        "!        IF (JF.EQ.0) EGSFIN = -92.458D0 ! KB3G\n",
        "        IF (JF.EQ.2) EGSFIN = -89.679D0\n",
        "       END IF  \n",
        "! SU4 limit\n",
        "      ELSE IF (KSU4.EQ.1) THEN \n",
        "       IF      (MASS.EQ.42) THEN \n",
        "        EGSINI = -15.625D0\n",
        "        IF (JF.EQ.0) EGSFIN = -15.625D0\n",
        "        IF (JF.EQ.2) EGSFIN = -13.580D0\n",
        "       ELSE IF (MASS.EQ.44) THEN\n",
        "        EGSINI = -30.455D0\n",
        "        IF (JF.EQ.0) EGSFIN = -43.277D0\n",
        "        IF (JF.EQ.2) EGSFIN = -42.148D0\n",
        "       ELSE IF (MASS.EQ.46) THEN\n",
        "        EGSINI = -44.113D0 \n",
        "        IF (JF.EQ.0) EGSFIN = -61.559D0 \n",
        "        IF (JF.EQ.2) EGSFIN = -60.755D0\n",
        "       ELSE IF (MASS.EQ.48) THEN\n",
        "        EGSINI = -56.533D0 \n",
        "        IF (JF.EQ.0) EGSFIN = -78.102D0 \n",
        "        IF (JF.EQ.2) EGSFIN = 0D0\n",
        "       END IF \n",
        "      END IF ! SU4\n",
        "      \n",
        "      WRITE(*,'(A,2F10.3)') 'INITIAL AND FINAL G.S. ENERGY:', EGSINI, EGSFIN\n",
        "      WRITE(*,'(A,I3)') 'J_F =', JF\n",
        "      \n",
        "      IMAX = 0\n",
        "10    READ(1,*,END = 20)\n",
        "      IMAX = IMAX + 1\n",
        "      GOTO 10\n",
        "20    CONTINUE\n",
        "      REWIND(1)\n",
        "      IF (NOISTS.EQ.0) NOISTS = IMAX\n",
        "      \n",
        "      KMAX = 0\n",
        "11    READ(2,*,END = 21)\n",
        "      KMAX = KMAX + 1\n",
        "      GOTO 11\n",
        "21    CONTINUE\n",
        "      REWIND(2)\n",
        "      \n",
        "      PRINT*, 'IMAX, No. inter. states, KMAX, No. final states:'\n",
        "      PRINT*, IMAX, NOISTS, KMAX, KMAX/IMAX\n",
        "      \n",
        "      DO K = 1, INT(KMAX/IMAX)\n",
        "       DO I = 1, NOISTS\n",
        "        READ(1,*) DELTAE1, AMP1, BGT1, SUMBGT1\n",
        "        READ(2,*) DELTAE2, AMP2, BGT2, SUMBGT2\n",
        "        EFINAL = EGSINI + DELTAE1 - DELTAE2 - EGSFIN     \n",
        "        AMP12(I,K) = AMP1*AMP2\n",
        "        ADGT(K) = ADGT(K) + AMP12(I,K)\n",
        "       END DO\n",
        "       BDGT(K) = ADGT(K)**2.0\n",
        "       SUMRULE = SUMRULE + BDGT(K)\n",
        "       WRITE(3,'(4F10.3,I10)') EFINAL, ADGT(K), BDGT(K), SUMRULE, K\n",
        "       DO I = 1, (IMAX - NOISTS)\n",
        "        READ(2,*)\n",
        "       END DO\n",
        "       REWIND(1)\n",
        "      END DO\n",
        "      WRITE(*,'(A10,F10.3)') 'S(DGT)=', SUMRULE\n",
        "      CLOSE(1)\n",
        "      CLOSE(2)\n",
        "      CLOSE(3)\n",
        "      CLOSE(4)\n",
        "\n",
        "      END PROGRAM\n",
        "      \n",
        "```\n",
        "\n"
      ],
      "metadata": {
        "id": "msuE-lt4uhFf"
      }
    },
    {
      "cell_type": "markdown",
      "source": [
        "\n",
        "##bdgt.in\n",
        "```\n",
        "44 2 41\n",
        "```\n",
        "\n"
      ],
      "metadata": {
        "id": "wIbunjZqvAdj"
      }
    },
    {
      "cell_type": "markdown",
      "source": [
        "#Make folder **Results** before compile this program.\n",
        "\n",
        "```\n",
        "#!/bin/bash\n",
        "# DGT\n",
        "\n",
        "    echo \"Beginning of Run\"\n",
        "    echo \" $(date) \"\n",
        "    echo \"Mass, J_f?\"\n",
        "    read mass jf\n",
        "# check bga1.inp and bg2.inp\n",
        "\n",
        "    for noists in {1000..100..100}\n",
        "    do\n",
        "        echo \"${mass} ${jf} ${noists}\" > bdgt.in\n",
        "\t\t./bdgt\n",
        "\t\tcp bdgt.out Results/bdgt${mass}_${jf}_${noists}.out\n",
        "\t\t\n",
        "\t\t./spread\n",
        "\t\tcp spread.plot Results/spread${mass}_${jf}_${noists}.plot\n",
        "    done\n",
        "    echo \" $(date) \"\n",
        "    echo \"End of Run\"\n",
        " \n",
        "\n",
        "```\n",
        "\n"
      ],
      "metadata": {
        "id": "qT0zyauUxBdd"
      }
    },
    {
      "cell_type": "markdown",
      "source": [
        "\n",
        "## bdgt_fspace.f90\n",
        "\n",
        " \n",
        "```\n",
        "      PROGRAM DGT\n",
        "! CALCULATE THE B(DGT) (COHERENT SUM)\n",
        "      IMPLICIT REAL*8 (A-H,O-Z)\n",
        "      PARAMETER (NP=5000)\n",
        "      DIMENSION AMP12(NP,NP), ADGT(NP), BDGT(NP)\n",
        "\n",
        "      open(1,file='bga1.inp',form='formatted',status='old') \n",
        "      open(2,file='bga2.inp',form='formatted',status='old')\n",
        "      open(3,file='bdgt.out',form='formatted',status='unknown')\n",
        "      open(4,file='out',form='formatted',status='unknown')\n",
        "            \n",
        "      PRINT*, 'Mass, J_f, no. inter. states, SU4 limit?'\n",
        "      READ(*,*) MASS, JF, NOISTS, KSU4\n",
        "      WRITE(4,*) MASS, JF, NOISTS, KSU4\n",
        "      \n",
        "      IF (MASS.EQ.0) THEN \n",
        "       open(4,file='bdgt.in',form='formatted',status='old')\n",
        "       READ(4,*) MASS, JF, NOISTS, KSU4\n",
        "       WRITE(4,*) MASS, JF, NOISTS, KSU4\n",
        "      END IF\n",
        "!\n",
        "      IF (KSU4.EQ.0) THEN\n",
        "       IF      (MASS.EQ.42) THEN\n",
        "!        EGSINI = -19.815D0\n",
        "        EGSINI = -5.515D0 ! f space\n",
        "!        IF (JF.EQ.0) EGSFIN = -19.815D0 \n",
        "        IF (JF.EQ.0) EGSFIN = -19.119D0 ! f space\n",
        "!        IF (JF.EQ.2) EGSFIN = -18.034D0\n",
        "        IF (JF.EQ.2) EGSFIN = -17.663D0 ! f space\n",
        "       ELSE IF (MASS.EQ.44) THEN\n",
        "!        EGSINI = -38.901D0 \n",
        "        EGSINI = -10.264D0 ! f space\n",
        "!        IF (JF.EQ.0) EGSFIN = -48.144D0 \n",
        "        IF (JF.EQ.0) EGSFIN = -24.634D0 ! fspace\n",
        "        IF (JF.EQ.1) EGSFIN = -40.794D0\n",
        "!        IF (JF.EQ.2) EGSFIN = -46.843D0  \n",
        "        IF (JF.EQ.2) EGSFIN = -23.272D0 ! fspace  \n",
        "       ELSE IF (MASS.EQ.46) THEN\n",
        "!        EGSINI = -56.960D0 \n",
        "        EGSINI = -14.049D0 ! fspace\n",
        "!        IF (JF.EQ.0) EGSFIN = -70.661D0 \n",
        "        IF (JF.EQ.0) EGSFIN = -29.383D0 ! fspace \n",
        "!        IF (JF.EQ.2) EGSFIN = -69.685D0  \n",
        "        IF (JF.EQ.2) EGSFIN = -27.985D0 ! fspace  \n",
        "       ELSE IF (MASS.EQ.48) THEN\n",
        "!        EGSINI = -73.859D0 \n",
        "        EGSINI = -16.672D0 \n",
        "!        IF (JF.EQ.0) EGSFIN = -90.856D0 \n",
        "        IF (JF.EQ.0) EGSFIN = -33.168D0 \n",
        "!        IF (JF.EQ.2) EGSFIN = -89.679D0\n",
        "        IF (JF.EQ.2) EGSFIN = -31.770D0\n",
        "       END IF  \n",
        "! SU4 limit\n",
        "      ELSE IF (KSU4.EQ.1) THEN \n",
        "       IF      (MASS.EQ.42) THEN \n",
        "        EGSINI = -15.625D0\n",
        "        IF (JF.EQ.0) EGSFIN = -15.625D0\n",
        "        IF (JF.EQ.2) EGSFIN = -13.580D0\n",
        "       ELSE IF (MASS.EQ.44) THEN\n",
        "        EGSINI = -30.455D0\n",
        "        IF (JF.EQ.0) EGSFIN = -43.277D0\n",
        "        IF (JF.EQ.2) EGSFIN = -42.148D0\n",
        "       ELSE IF (MASS.EQ.46) THEN\n",
        "        EGSINI = -44.113D0 \n",
        "        IF (JF.EQ.0) EGSFIN = -61.559D0 \n",
        "        IF (JF.EQ.2) EGSFIN = -60.755D0\n",
        "       ELSE IF (MASS.EQ.48) THEN\n",
        "        EGSINI = -56.533D0 \n",
        "        IF (JF.EQ.0) EGSFIN = -78.102D0 \n",
        "        IF (JF.EQ.2) EGSFIN = 0D0\n",
        "       END IF \n",
        "      END IF ! SU4\n",
        "      \n",
        "      WRITE(*,'(A,2F10.3)') 'INITIAL AND FINAL G.S. ENERGY:', EGSINI, EGSFIN\n",
        "      WRITE(*,'(A,I3)') 'J_F =', JF\n",
        "      \n",
        "      IMAX = 0\n",
        "10    READ(1,*,END = 20)\n",
        "      IMAX = IMAX + 1\n",
        "      GOTO 10\n",
        "20    CONTINUE\n",
        "      REWIND(1)\n",
        "      IF (NOISTS.EQ.0) NOISTS = IMAX\n",
        "      \n",
        "      KMAX = 0\n",
        "11    READ(2,*,END = 21)\n",
        "      KMAX = KMAX + 1\n",
        "      GOTO 11\n",
        "21    CONTINUE\n",
        "      REWIND(2)\n",
        "      \n",
        "      PRINT*, 'IMAX, No. inter. states, KMAX, No. final states:'\n",
        "      PRINT*, IMAX, NOISTS, KMAX, KMAX/IMAX\n",
        "      \n",
        "      DO K = 1, INT(KMAX/IMAX)\n",
        "       DO I = 1, NOISTS\n",
        "        READ(1,*) DELTAE1, AMP1, BGT1, SUMBGT1\n",
        "        READ(2,*) DELTAE2, AMP2, BGT2, SUMBGT2\n",
        "        EFINAL = EGSINI + DELTAE1 - DELTAE2 - EGSFIN     \n",
        "        AMP12(I,K) = AMP1*AMP2\n",
        "        ADGT(K) = ADGT(K) + AMP12(I,K)\n",
        "       END DO\n",
        "       BDGT(K) = ADGT(K)**2.0\n",
        "       SUMRULE = SUMRULE + BDGT(K)\n",
        "       WRITE(3,'(4F10.3,I10)') EFINAL, ADGT(K), BDGT(K), SUMRULE, K\n",
        "       DO I = 1, (IMAX - NOISTS)\n",
        "        READ(2,*)\n",
        "       END DO\n",
        "       REWIND(1)\n",
        "      END DO\n",
        "      WRITE(*,'(A10,F10.3)') 'S(DGT)=', SUMRULE\n",
        "      CLOSE(1)\n",
        "      CLOSE(2)\n",
        "      CLOSE(3)\n",
        "      CLOSE(4)\n",
        "\n",
        "      END PROGRAM\n",
        "      \n",
        "```\n",
        "\n"
      ],
      "metadata": {
        "id": "CRB4cb8ivlrW"
      }
    },
    {
      "cell_type": "markdown",
      "source": [
        "\n",
        "## spread.f90\n",
        "\n",
        "\n",
        "```\n",
        "      PROGRAM LORENTZIAN\n",
        "      IMPLICIT REAL*8 (A-H,O-Z)\n",
        "      PARAMETER (PI = 4.D0*DATAN(1.D0), NP = 5000)\n",
        "      DIMENSION ENERGY(NP), AMP(NP), DGT(NP)\n",
        "      DIMENSION EOUT(NP), SUMJ(NP)\n",
        "      \n",
        "      open(unit=1,status='old',file='bdgt.out')\n",
        "      open(unit=2,status='unknown',file='spread.plot')\n",
        "      \n",
        "!     READ(*,*) WIDTH\n",
        "      WIDTH = 1.0D0\n",
        "      DEOUT = 0.1D0\n",
        "      EMIN = 0.0D0\n",
        "      EMAX = 60.0D0\n",
        "      NEMAX = INT((EMAX - EMIN)/DEOUT)\n",
        "      WRITE(*,'(A, 3F10.3)') 'WIDTH, EMIN, EMAX:', WIDTH, EMIN, EMAX\n",
        "       \n",
        "      IMAX = 0\n",
        "10    READ(1,*,END = 20)\n",
        "      IMAX = IMAX + 1\n",
        "      GOTO 10\n",
        "20    CONTINUE\n",
        "      PRINT*, IMAX\n",
        "\n",
        "      REWIND (1)\n",
        "      DO I = 1, IMAX\n",
        "       READ(1,*) ENERGY(I), AMP(I), DGT(I), CUMSUM, KOUT\n",
        "      END DO                  \n",
        "\n",
        "      S = 0.0D0\n",
        "      DO I = 1, NEMAX\n",
        "       EOUT(I) = EMIN + DEOUT*FLOAT((I-1))\n",
        "       SUMJ(I) = 0.D0\n",
        "       DO J = 1, IMAX\n",
        "        FACT = (WIDTH/(2.D0*PI))*1.D0 &\n",
        "             /( (EOUT(I) - ENERGY(J) )**2 + WIDTH**2/4.D0)\n",
        "        SUMJ(I) = SUMJ(I) + DGT(J)*FACT\n",
        "       END DO ! J\n",
        "! OUTPUT\n",
        "       WRITE(2,'(1X,5(E12.6,1X))') EOUT(I), SUMJ(I)\n",
        "       S = S + SUMJ(I)\n",
        "      END DO\n",
        "      WRITE(*,'(A20,F10.3)') 'S(DGT)_INTEGRAL = ', S*DEOUT\n",
        "      CLOSE(1)\n",
        "      CLOSE(2)\n",
        "      END PROGRAM\n",
        "```\n",
        "\n"
      ],
      "metadata": {
        "id": "lh376FLpxPBl"
      }
    },
    {
      "cell_type": "code",
      "source": [
        "import numpy as np\n",
        "import matplotlib.pyplot as plt\n",
        "import pandas as pd\n",
        "\n",
        "df = pd.read_csv(\"bgt1.csv\")\n",
        "\n",
        "\n",
        "print(df)\n",
        "x = df.ex\n",
        "y = df.bgt\n",
        "z = df.sbgt\n",
        "\n",
        "\n",
        "plt.plot(x,y)\n",
        "plt.plot(x,z)\n"
      ],
      "metadata": {
        "colab": {
          "base_uri": "https://localhost:8080/",
          "height": 484
        },
        "id": "sYyeG4HDBmK_",
        "outputId": "05a5af20-09f6-4de1-f20d-7e40a1727223"
      },
      "execution_count": null,
      "outputs": [
        {
          "output_type": "stream",
          "name": "stdout",
          "text": [
            "    jf   tf  nf      ex    bgt   sbgt\n",
            "0  1.0  0.0   1   0.000  4.836  4.836\n",
            "1  1.0  0.0   2   3.612  0.006  4.842\n",
            "2  1.0  0.0   3   5.323  0.039  4.882\n",
            "3  1.0  0.0   4   6.948  0.106  4.988\n",
            "4  1.0  0.0   5   8.174  0.022  5.010\n",
            "5  1.0  0.0   6   8.821  0.016  5.026\n",
            "6  1.0  0.0   7   9.443  0.922  5.947\n",
            "7  1.0  0.0   8   9.840  0.000  5.948\n",
            "8  1.0  0.0   9  11.064  0.052  5.999\n",
            "9  1.0  0.0  10  15.381  0.001  6.001\n"
          ]
        },
        {
          "output_type": "execute_result",
          "data": {
            "text/plain": [
              "[<matplotlib.lines.Line2D at 0x7f644e256910>]"
            ]
          },
          "metadata": {},
          "execution_count": 40
        },
        {
          "output_type": "display_data",
          "data": {
            "text/plain": [
              "<Figure size 432x288 with 1 Axes>"
            ],
            "image/png": "[encoded data removed]"
          },
          "metadata": {
            "needs_background": "light"
          }
        }
      ]
    },
    {
      "cell_type": "code",
      "source": [],
      "metadata": {
        "id": "3j_gUDLjMWeX"
      },
      "execution_count": null,
      "outputs": []
    },
    {
      "cell_type": "code",
      "source": [
        "import numpy as np\n",
        "import matplotlib.pyplot as plt\n",
        "import pandas as pd\n",
        "\n",
        "df = pd.read_csv(\"tisc420.csv\")\n",
        "\n",
        "\n",
        "print(df)\n",
        "x = df.ex\n",
        "y = df.bgt\n",
        "z = df.sbgt\n",
        "\n",
        "\n",
        "plt.plot(x,y)\n",
        "plt.plot(x,z)\n"
      ],
      "metadata": {
        "colab": {
          "base_uri": "https://localhost:8080/",
          "height": 1000
        },
        "id": "ogYqID6DKLYq",
        "outputId": "5c88be94-e0ec-4c26-9817-2594bbbbe79e"
      },
      "execution_count": null,
      "outputs": [
        {
          "output_type": "stream",
          "name": "stdout",
          "text": [
            "     jf   tf  nf      ex    bgt    sbgt\n",
            "0   1.0  0.0   1   0.000  0.292   0.292\n",
            "1   1.0  0.0   2   3.612  0.148   0.441\n",
            "2   1.0  0.0   1   3.974  0.067   0.508\n",
            "3   1.0  0.0   3   5.323  0.492   1.000\n",
            "4   1.0  0.0   4   6.948  0.718   1.718\n",
            "5   1.0  0.0   2   7.586  0.254   1.972\n",
            "6   1.0  0.0   5   8.174  0.069   2.041\n",
            "7   1.0  0.0   6   8.821  0.010   2.052\n",
            "8   1.0  0.0   1   8.945  0.106   2.158\n",
            "9   1.0  0.0   3   9.297  0.017   2.175\n",
            "10  1.0  0.0   7   9.443  2.668   4.843\n",
            "11  1.0  0.0   8   9.840  0.025   4.868\n",
            "12  1.0  0.0   4  10.922  0.345   5.213\n",
            "13  1.0  0.0   9  11.064  0.123   5.336\n",
            "14  1.0  0.0   5  12.148  0.284   5.620\n",
            "15  1.0  0.0   2  12.557  2.011   7.631\n",
            "16  1.0  0.0   6  12.795  3.328  10.959\n",
            "17  1.0  0.0   7  13.417  0.026  10.985\n",
            "18  1.0  0.0   8  13.814  1.604  12.589\n",
            "19  1.0  0.0   3  14.268  2.772  15.361\n",
            "20  1.0  0.0   1  14.907  4.836  20.197\n",
            "21  1.0  0.0   9  15.038  0.058  20.256\n",
            "22  1.0  0.0  10  15.381  1.453  21.709\n",
            "23  1.0  0.0   4  15.893  0.301  22.009\n",
            "24  1.0  0.0   5  17.119  0.009  22.018\n",
            "25  1.0  0.0   6  17.766  0.597  22.615\n",
            "26  1.0  0.0   7  18.388  0.199  22.814\n",
            "27  1.0  0.0   2  18.519  0.006  22.820\n",
            "28  1.0  0.0   8  18.785  0.002  22.822\n",
            "29  1.0  0.0  10  19.355  0.016  22.839\n",
            "30  1.0  0.0   9  20.009  0.000  22.839\n",
            "31  1.0  0.0   3  20.230  0.039  22.878\n",
            "32  1.0  0.0   4  21.855  0.106  22.984\n",
            "33  1.0  0.0   5  23.081  0.022  23.006\n",
            "34  1.0  0.0   6  23.728  0.016  23.022\n",
            "35  1.0  0.0  10  24.326  0.003  23.025\n",
            "36  1.0  0.0   7  24.350  0.922  23.947\n",
            "37  1.0  0.0   8  24.747  0.000  23.947\n",
            "38  1.0  0.0   9  25.971  0.052  23.999\n",
            "39  1.0  0.0  10  30.288  0.001  24.000\n"
          ]
        },
        {
          "output_type": "execute_result",
          "data": {
            "text/plain": [
              "[<matplotlib.lines.Line2D at 0x7f644e1dd290>]"
            ]
          },
          "metadata": {},
          "execution_count": 41
        },
        {
          "output_type": "display_data",
          "data": {
            "text/plain": [
              "<Figure size 432x288 with 1 Axes>"
            ],
            "image/png": "[encoded data removed]"
          },
          "metadata": {
            "needs_background": "light"
          }
        }
      ]
    },
    {
      "cell_type": "code",
      "source": [
        "import numpy as np\n",
        "import matplotlib.pyplot as plt\n",
        "import pandas as pd\n",
        "\n",
        "df = pd.read_csv(\"spread.csv\")\n",
        "\n",
        "\n",
        "print(df)\n",
        "x = df.x\n",
        "y = df.y\n",
        "z = df.z\n",
        "\n",
        "\n",
        "#plt.plot(x,y)\n",
        "plt.plot(y,z)\n"
      ],
      "metadata": {
        "colab": {
          "base_uri": "https://localhost:8080/",
          "height": 542
        },
        "id": "BacGs4tCMY6E",
        "outputId": "387911c2-57ac-4dc5-bc6a-3b19fbd8056b"
      },
      "execution_count": null,
      "outputs": [
        {
          "output_type": "stream",
          "name": "stdout",
          "text": [
            "      x     y         z\n",
            "0   NaN   0.0  0.494969\n",
            "1   NaN   0.1  0.502100\n",
            "2   NaN   0.2  0.508795\n",
            "3   NaN   0.3  0.515433\n",
            "4   NaN   0.4  0.522336\n",
            "..   ..   ...       ...\n",
            "595 NaN  59.5  0.072441\n",
            "596 NaN  59.6  0.072078\n",
            "597 NaN  59.7  0.071718\n",
            "598 NaN  59.8  0.071360\n",
            "599 NaN  59.9  0.071005\n",
            "\n",
            "[600 rows x 3 columns]\n"
          ]
        },
        {
          "output_type": "execute_result",
          "data": {
            "text/plain": [
              "[<matplotlib.lines.Line2D at 0x7f3845720590>]"
            ]
          },
          "metadata": {},
          "execution_count": 3
        },
        {
          "output_type": "display_data",
          "data": {
            "text/plain": [
              "<Figure size 432x288 with 1 Axes>"
            ],
            "image/png": "[encoded data removed]"
          },
          "metadata": {
            "needs_background": "light"
          }
        }
      ]
    },
    {
      "cell_type": "code",
      "source": [
        "import numpy as np\n",
        "import matplotlib.pyplot as plt\n",
        "import pandas as pd\n",
        "\n",
        "df = pd.read_csv(\"bdgt.csv\")\n",
        "\n",
        "\n",
        "print(df)\n",
        "\n",
        "df\n",
        "x = df.b\n",
        "y = df.c\n",
        "z = df.d\n",
        "w = df.e\n",
        "\n",
        "\n",
        "#plt.plot(x,y)\n",
        "plt.plot(x,z)\n"
      ],
      "metadata": {
        "colab": {
          "base_uri": "https://localhost:8080/",
          "height": 539
        },
        "id": "fBAZde7wOO9N",
        "outputId": "ea69f599-2ca6-4706-a185-dd54fb2c83ec"
      },
      "execution_count": null,
      "outputs": [
        {
          "output_type": "stream",
          "name": "stdout",
          "text": [
            "       a       b      c      d        e     f\n",
            "0    NaN   0.000 -0.131  0.017    0.017     1\n",
            "1    NaN   2.251  0.029  0.001    0.018     2\n",
            "2    NaN   2.908 -0.471  0.222    0.240     3\n",
            "3    NaN   3.368  0.365  0.133    0.373     4\n",
            "4    NaN   3.935 -0.231  0.054    0.427     5\n",
            "...   ..     ...    ...    ...      ...   ...\n",
            "4995 NaN  31.310 -0.003  0.000  752.545  4996\n",
            "4996 NaN  31.312 -0.107  0.011  752.556  4997\n",
            "4997 NaN  31.315  0.054  0.003  752.559  4998\n",
            "4998 NaN  31.317  0.027  0.001  752.560  4999\n",
            "4999 NaN  31.322 -0.023  0.001  752.560  5000\n",
            "\n",
            "[5000 rows x 6 columns]\n"
          ]
        },
        {
          "output_type": "execute_result",
          "data": {
            "text/plain": [
              "[<matplotlib.lines.Line2D at 0x7f384532de50>]"
            ]
          },
          "metadata": {},
          "execution_count": 11
        },
        {
          "output_type": "display_data",
          "data": {
            "text/plain": [
              "<Figure size 432x288 with 1 Axes>"
            ],
            "image/png": "[encoded data removed]"
          },
          "metadata": {
            "needs_background": "light"
          }
        }
      ]
    }
  ]
}