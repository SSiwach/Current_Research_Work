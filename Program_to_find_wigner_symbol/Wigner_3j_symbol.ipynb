{
  "nbformat": 4,
  "nbformat_minor": 0,
  "metadata": {
    "colab": {
      "provenance": []
    },
    "kernelspec": {
      "name": "python3",
      "display_name": "Python 3"
    },
    "language_info": {
      "name": "python"
    }
  },
  "cells": [
    {
      "cell_type": "code",
      "execution_count": null,
      "metadata": {
        "colab": {
          "base_uri": "https://localhost:8080/"
        },
        "id": "3RE9u17aE3tv",
        "outputId": "195f0187-5cf4-4c7c-f5ef-e15d9c8fcf72"
      },
      "outputs": [
        {
          "output_type": "stream",
          "name": "stdout",
          "text": [
            "Wigner 3j symbol: -0.166667\n"
          ]
        }
      ],
      "source": [
        "# defining factorial function\n",
        "\n",
        "def fac(n):\n",
        "  result = 1\n",
        "  for i in range(1,n+1):\n",
        "    result *= i\n",
        "  return result\n",
        "\n",
        "# defining wigner 3j function\n",
        "\n",
        "def wigner_3j(j1, m1, j2, m2, j3, m3):\n",
        "\n",
        "  if m1 + m2 + m3 != 0: # delta(m1 + m2 +m3, 0) : Delta Kronecker Function. or Trainglular condition.\n",
        "\n",
        "    result = 0\n",
        "\n",
        "  coeff = ((-1)**(j1 - j2 - m3))/(fac(j1 + j2 -j3)*fac(j1 - j2 + j3)*fac(-j1 + j2 + j3))\n",
        "  term1 = fac(j1 + j2 - j3 - m1 -m2) * fac(j1 - m1) * fac(j2 + m2)\n",
        "  term2 = fac(j1 - j2 + j3 + m1 -m2) * fac(j2 - m2) * fac(j3 -m3)\n",
        "  term3 = fac(j1 + j2 + j3 + 1) * fac(j1 - j3 - m1) * fac( j1 -j3 -m1) * fac(j2 +j3 -m2)\n",
        "  term4 = fac(j1 + j2 + j3 + 1) * fac(j1 + j2 - j3) * fac(-j1 +j3 +m3)\n",
        "\n",
        "  return coeff * (term1 / term2) * (term3 / term4)\n",
        "\n",
        "j1 = 2\n",
        "m1 = 0\n",
        "j2 = 1\n",
        "m2 = 0\n",
        "j3 = 2\n",
        "m3 = 0\n",
        "\n",
        "wigner_3j_value = wigner_3j(j1, m1, j2, m2, j3, m3)\n",
        "print(f\"Wigner 3j symbol: {wigner_3j_value:.6f}\")\n",
        "\n",
        "\n"
      ]
    },
    {
      "cell_type": "code",
      "source": [],
      "metadata": {
        "id": "EBFAiaedbatH"
      },
      "execution_count": null,
      "outputs": []
    }
  ]
}