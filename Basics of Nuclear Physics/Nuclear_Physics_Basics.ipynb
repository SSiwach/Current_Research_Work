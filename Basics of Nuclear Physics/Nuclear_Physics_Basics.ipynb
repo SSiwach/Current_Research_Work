{
  "nbformat": 4,
  "nbformat_minor": 0,
  "metadata": {
    "colab": {
      "provenance": []
    },
    "kernelspec": {
      "name": "python3",
      "display_name": "Python 3"
    },
    "language_info": {
      "name": "python"
    }
  },
  "cells": [
    {
      "cell_type": "markdown",
      "source": [
        
        "#Email - surender@bhu.ac.in\n",
        "\n",
        "\n",
        "\n",
        "\n",
        "To understand matter stability and shed the limits on the nuclear stability we are encouraged to study the nuclear physics.\n",
        "\n",
        "#Drip Line\n",
        "As a particular chain of isotopes becomes more and more neutron rich one reaches the limit of stability, called dripline, where one additional neutron make the next isotope unstable w.r.t. previous one. The various properties of nuclei like magic numbers, shell structure, neutron skins, halos etc. can be probed via nuclear structure studies.\n",
        "\n",
        "Therefore, these quantities are useful in theoritical study of nuclear physics and their various application in astrophysics.\n",
        "\n",
        "#Motivation \n",
        "Having various data to the precise measurements of mass, radii, and electromagnetic moments for a wide range of nuclei allows as to study trends with varying neutron excesss. The description of experimental data still remains the major challenge for the nuclear theory."
      ],
      "metadata": {
        "id": "dO_KEWtV4eTS"
      }
    },
    {
      "cell_type": "markdown",
      "source": [],
      "metadata": {
        "id": "MrmoxaQJep96"
      }
    },
    {
      "cell_type": "markdown",
      "source": [
        "We start the theoretical analysis of a quantity called the seperation energy for neutrons and protons. The separation energies display a varying behaviour as function of the number of neutrons and protons. These variations from one nucleus to another nucleus laid the foundation for the introduction of so-called magic numbers and a mean field picture in oreder to describe nuclei theoretically."
      ],
      "metadata": {
        "id": "j4BXzd466172"
      }
    },
    {
      "cell_type": "markdown",
      "source": [
        "#Mean field picture\n",
        "\n",
        "With a mean or average field picture we mean that a given nucleon moves in an average potential field which is set up by all other nucleon in the region. For example if we consider Oxygen 17, having 8 protons and 9 neutrons, lots of properties of this nuclei can be explained with picture of Oxygen-16 with one neutron on top. From data and theoretical interpretations we can infer that this neutron behave as single neutron which sees an average potential/interaction set up by remaning 16 nucleons in O-16.\n",
        "\n"
      ],
      "metadata": {
        "id": "QLNBC9cL8JiA"
      }
    },
    {
      "cell_type": "markdown",
      "source": [
        "#Potential\n",
        "\n",
        "The most popular simple potential in nuclear is 3-Dimensional harmonic oscillator. This potential model produce good result for deeply bound single particle state but fails in reproducing the less bound single particle state.\n",
        "\n",
        "A paramaterized and more realistic potential is Woods-Saxon potential. Both the HO and WS potential define computational problems that can easily solved, resulting in a good agreement with the experimental for nuclei which can be approximated as one nucleon on the top of a so called closed-shell system.\n",
        "\n",
        "With such a parametrized interaction we are able to slove Schroedinger's equation for the motion of one nucleon in a given field. But, in reality nucleus is a complicated many nucleons system, with extremely many degree of freedom and complicated correlations. So, rendering the ideal solution is very difficult."
      ],
      "metadata": {
        "id": "pBNP1ZOy-LOD"
      }
    },
    {
      "cell_type": "markdown",
      "source": [
        "#Better mean field\n",
        "\n",
        "The problem with the mean field is to solve many body nucleons problem which is quite difficult. An improvement to these single-nucleons potentials is given by the Hartee-Fock (HF) method, where the variational principle is used to define a mean field which the nucleons move in. "
      ],
      "metadata": {
        "id": "DaugsBP2Iew9"
      }
    },
    {
      "cell_type": "markdown",
      "source": [
        "We start with a effective degree of freedom for nucleons and interacctions and thereafter solve the underlying equations of motions. This defines the nuclear many-body problem, and mean field approaches like Hartee-Fock theory and the nuclear shell model represent different approaches to our solutions of the Schroedinger's equation.\n"
      ],
      "metadata": {
        "id": "NrjbYUW_JccN"
      }
    },
    {
      "cell_type": "markdown",
      "source": [
        "The **drip line** is defined as the point where adding one more nucleons leads to an unbound nucleus. We can define the dripline by studying the separation energy. Where the neutron(proton) sepration energy changes sign as a function of number of neutrons (proton) defines the neutron (proton) drip line.\n",
        "\n",
        "Oxygen isotopes are the heaviest isotopes for which the drip line is well established.\n",
        "\n",
        "\n",
        "\n",
        "*   Two out of four stable even-even isotopes exhibit a doubly magic nature, namely O$^{22}$ and O$^{24}$\n",
        "*   The structure of O$^{22}$ and O$^{24}$ is assumed to be governed by the evolution of the 1s$_{1/2}$ and 0d$_{5/2}$ one quasiparticle states.\n",
        "*   The isotopes O$^{25, 26, 27, 28}$ are outside the drip line, since the orbit 0d$_{3/2}$ is not bound.\n",
        "\n"
      ],
      "metadata": {
        "id": "uFKRkJEhKW20"
      }
    },
    {
      "cell_type": "markdown",
      "source": [
        "#**Masses and the Binding Energy**\n",
        "\n",
        "A basic quantity which can be measured for the ground states of nuclei is the atomic mass M(N,Z) of the neutral atom with atomic number A and charge Z.\n",
        "\n",
        "\\begin{align}\n",
        "\\Delta M (N, Z) = M(N, Z) - \\mu A\n",
        "\\end{align}\n",
        "\n",
        "where μ is the Atomic mass unit = 931.49 Mev/c$^2$\n",
        "\n",
        "#**Binding Energy**\n",
        "\n",
        "The nuclear binding energy is defined as the energy required to break up a given nucleus into its constituent parts of N neutrons and Z protons. \n",
        "\n",
        "\\begin{align}\n",
        "BE(N,Z) = ZM_{h}c^2 + Nm_{n}c^2 - M(N,Z)c^2\n",
        "\\end{align}\n",
        "\n",
        "Where Mₕ is the mass of the hydrogen atom and mₙ is the mass of neutron. \n",
        "In terms of the mass exess the binding energy is given by \n",
        "\n",
        "\\begin{align}\n",
        "BE(N,Z) = Z\\Delta_{h}c^2 + N\\Delta_{n}c^2 - \\Delta(N,Z)c^2\n",
        "\\end{align}\n",
        "\n",
        "Where $\\Delta_hc^2$ = 7.2890 and $\\Delta_nc^2$ = 8.0713 MeV\n",
        "\n",
        "\n"
      ],
      "metadata": {
        "id": "VphjguplMpj_"
      }
    },
    {
      "cell_type": "markdown",
      "source": [
        "#Program for the binding energy plot and finds out the saturation energy \n"
      ],
      "metadata": {
        "id": "TUINpsofQzsA"
      }
    },
    {
      "cell_type": "code",
      "source": [
        "import numpy as np\n",
        "from matplotlib import pyplot as plt\n",
        "\n",
        "#load data from the file\n",
        "\n",
        "data = np.loadtxt('binding_energy.dat')\n",
        "\n",
        "#make the array containging x-axis and binding energies as a function of A\n",
        "\n",
        "x = data[:,2]\n",
        "\n",
        "bexpt = data[:,3]\n",
        "\n",
        "plt.plot(x, bexpt, 'r') # plotting the binding energy curve\n",
        "\n",
        "plt.axis([0,270,-1,10.0])\n",
        "\n",
        "plt.xlabel(r'$A$')\n",
        "\n",
        "plt.ylabel(r'Binding Energy in [MeV]')\n",
        "\n",
        "plt.legend((r'Experiment'), loc='upper right')\n",
        "\n",
        "plt.title(r'Binding energies from experiment')\n",
        "\n",
        "plt.savefig('expbindingenergies.pdf')\n",
        "\n",
        "plt.savefig('expbindingenergies.png')\n",
        "\n",
        "plt.show\n"
      ],
      "metadata": {
        "colab": {
          "base_uri": "https://localhost:8080/",
          "height": 314
        },
        "id": "umWtuYtZQy_j",
        "outputId": "74c98313-7e79-4ed0-aff1-0cf6e7575991"
      },
      "execution_count": null,
      "outputs": [
        {
          "output_type": "execute_result",
          "data": {
            "text/plain": [
              "<function matplotlib.pyplot.show(*args, **kw)>"
            ]
          },
          "metadata": {},
          "execution_count": 12
        },
        {
          "output_type": "display_data",
          "data": {
            "text/plain": [
              "<Figure size 432x288 with 1 Axes>"
            ],
            "image/png": "[encoded data removed]"
          },
          "metadata": {
            "needs_background": "light"
          }
        }
      ]
    },
    {
      "cell_type": "code",
      "source": [
        "data"
      ],
      "metadata": {
        "colab": {
          "base_uri": "https://localhost:8080/"
        },
        "id": "7A-oZfpfWGh8",
        "outputId": "d40ba2ac-c25c-4c0a-c4d5-1e165a141cac"
      },
      "execution_count": null,
      "outputs": [
        {
          "output_type": "execute_result",
          "data": {
            "text/plain": [
              "array([[ 1.000000e+00,  1.000000e+00,  2.000000e+00,  1.112300e+00,\n",
              "         9.919980e-01,  1.203020e-01],\n",
              "       [ 1.000000e+00,  2.000000e+00,  3.000000e+00,  2.827267e+00,\n",
              "         3.687850e-01,  2.458482e+00],\n",
              "       [ 1.000000e+00,  3.000000e+00,  4.000000e+00,  1.720450e+00,\n",
              "        -1.640617e+00,  3.361067e+00],\n",
              "       ...,\n",
              "       [ 1.080000e+02,  1.560000e+02,  2.640000e+02,  7.298390e+00,\n",
              "         7.263051e+00,  3.533900e-02],\n",
              "       [ 1.080000e+02,  1.570000e+02,  2.650000e+02,  7.295239e+00,\n",
              "         7.265102e+00,  3.013700e-02],\n",
              "       [ 1.100000e+02,  1.590000e+02,  2.690000e+02,  7.249437e+00,\n",
              "         7.220199e+00,  2.923800e-02]])"
            ]
          },
          "metadata": {},
          "execution_count": 12
        }
      ]
    },
    {
      "cell_type": "markdown",
      "source": [
        "#Liquid drop model as a simple parametrization of binding energies\n",
        "\n",
        "\\begin{align}\n",
        "BE(N,Z) = a_1A - a_2 A^{2/3} - a_3 \\frac{Z^2}{A^{1/3}} - a_{4} \\frac{(N-Z)^2}{A} \\\\\n",
        "\\end{align}\n",
        "\n",
        "\n",
        "where A stands for the number of nucleons and aᵢ are parameters which are determined by a fit to the experimental data.\n",
        "\n",
        "\n",
        "*  There is a volume term $a_1A$ proportional with the number of nucleons. When an assembly of nucleons of the same size is placed together into the smallest volume, each interior nucleon has a certain number of other nucleons in contact with it. This contribution is proportional to the voume.\n",
        "*  There is a surface energy term $a_2A^{2/3}$. The assumption here is that a nucleon at the surface of a nucleus interacts with fewer other nucleons than one in the interior of the nucleus and hence its binding energy is less. This surface energy term takes that into account and is therfore negative and is proportional to the surface area.\n",
        "*  There is a Coulomb energy term $a_3 A^{-1/3}$. The electric repulsion between each pair of protons in a nucleus yield less binding.\n",
        "*  There is an asymmetry term $a_4 A^{-1}$. This term is associated with the Pauli exclusion principle and reflected the fact that the proton-neutron interaction is more attractive on the average than the neutron-neutron and proton-proton interactions.\n",
        "\n",
        "Also we can add **pairing term** which is a correction term that arises from the tendency of proton pairs and neutrons pairs to occur. "
      ],
      "metadata": {
        "id": "WQ7GRkAwDlpm"
      }
    },
    {
      "cell_type": "markdown",
      "source": [
        "#Program for experimental data on binding energy as well as the results from the above liquid drop model and plot these energies as function of mass number A"
      ],
      "metadata": {
        "id": "Tfw1NhrHX6TL"
      }
    },
    {
      "cell_type": "code",
      "source": [
        "import numpy as np\n",
        "from matplotlib import pyplot as plt\n",
        "#load data\n",
        "data = np.loadtxt('binding_energy.dat')\n",
        "\n",
        "x = data[:,2]\n",
        "\n",
        "bexpt = data[:,3]\n",
        "\n",
        "liquiddrop = data[:,4]\n",
        "\n",
        "plt.plot(x, bexpt, 'b', x, liquiddrop, 'r')\n",
        "\n",
        "plt.axis([0,270,-1,10.0])\n",
        "\n",
        "plt.xlabel(r'$A$')\n",
        "\n",
        "plt.ylabel(r'Binding Energy in [MeV]')\n",
        "\n",
        "plt.legend((r'Experiment','Liquid Drop Model'), loc='upper right')\n",
        "\n",
        "plt.title(r'Binding energies from experiment and liquid drop')\n",
        "\n",
        "plt.savefig('expbindingenergies.pdf')\n",
        "\n",
        "plt.savefig('expbindingenergies.png')\n",
        "\n",
        "plt.show\n",
        "\n"
      ],
      "metadata": {
        "colab": {
          "base_uri": "https://localhost:8080/",
          "height": 314
        },
        "id": "8LAU3YygMP19",
        "outputId": "bb09e280-bd66-46b6-eaa1-cb35ce013763"
      },
      "execution_count": null,
      "outputs": [
        {
          "output_type": "execute_result",
          "data": {
            "text/plain": [
              "<function matplotlib.pyplot.show(*args, **kw)>"
            ]
          },
          "metadata": {},
          "execution_count": 15
        },
        {
          "output_type": "display_data",
          "data": {
            "text/plain": [
              "<Figure size 432x288 with 1 Axes>"
            ],
            "image/png": "[encoded data removed]"
          },
          "metadata": {
            "needs_background": "light"
          }
        }
      ]
    },
    {
      "cell_type": "markdown",
      "source": [
        "Now we use binding energy and perform a nonlinear least square fitting of the data. We use **only the parameter $a_1$ and $a_2$**."
      ],
      "metadata": {
        "id": "6j1zdzMkbjRH"
      }
    },
    {
      "cell_type": "code",
      "source": [
        "import numpy as np\n",
        "from scipy.optimize import curve_fit\n",
        "\n",
        "from matplotlib import pyplot as plt\n",
        "\n",
        "#loading of data\n",
        "\n",
        "data = np.loadtxt('binding_energy.dat')\n",
        "\n",
        "A = data[:,2]\n",
        "\n",
        "bexpt = data[:,3]\n",
        "\n",
        "def func(A, a1, a2):\n",
        "  return  a1*A - a2*(A**(2.0/3.0))\n",
        "\n",
        "popt, pcov = curve_fit(func, A, bexpt, p0 = (16.0, 18.0))\n",
        "\n",
        "a1 = popt[0]\n",
        "\n",
        "a2 = popt[1]\n",
        "\n",
        "liquiddrop = a1*A -a2*(A**(2.0/3.0))\n",
        "\n",
        "plt.plot(A, bexpt, 'bo', A, liquiddrop, 'ro')\n",
        "\n",
        "plt.axis([0,270,-1,10.0])\n",
        "\n",
        "plt.xlabel(r'$A$')\n",
        "\n",
        "plt.ylabel(r'Binding Energy in [MeV]')\n",
        "\n",
        "plt.legend((r'Experiment','Liquid Drop Model'), loc='upper right')\n",
        "\n",
        "plt.title(r'Binding energies from experiment and liquid drop')\n",
        "\n",
        "plt.savefig('expbindingenergies.pdf')\n",
        "\n",
        "plt.savefig('expbindingenergies.png')\n",
        "\n",
        "plt.show\n",
        "\n",
        "\n",
        "print(a1, a2)"
      ],
      "metadata": {
        "colab": {
          "base_uri": "https://localhost:8080/",
          "height": 314
        },
        "id": "uOcpj7uecXFF",
        "outputId": "a1c805ee-5abe-45c9-faae-85b7efde76b4"
      },
      "execution_count": null,
      "outputs": [
        {
          "output_type": "stream",
          "name": "stdout",
          "text": [
            "-0.15610840204501708 -1.1397594698899811\n"
          ]
        },
        {
          "output_type": "display_data",
          "data": {
            "text/plain": [
              "<Figure size 432x288 with 1 Axes>"
            ],
            "image/png": "[encoded data removed]"
          },
          "metadata": {
            "needs_background": "light"
          }
        }
      ]
    },
    {
      "cell_type": "markdown",
      "source": [
        "#Separation Energy \n",
        "In nuclear physics, separation energy is the energy needed to remove one nucleon (or other specified particle or particles) from an atomic nucleus.\n",
        "# Q value\n",
        "The Q value for a reaction is the amount of energy absorbed or released during the nuclear reaction. The value relates to the enthalpy of a chemical reaction or the energy of radioactive decay products. It can be determined from the masses of reactants and products.\n",
        "\\begin{align}\n",
        "\\\\Q = \\sum_{i} M(N_i , Z_i)c^2 - \\sum_{f} M(N_f, Z_f)c^2 = \\sum_{i} BE(N_f, Z_f) - \\sum_{i} BE(N_i, Z_i)\n",
        "\\end{align}\n"
      ],
      "metadata": {
        "id": "T3PKa8KFhPgr"
      }
    },
    {
      "cell_type": "markdown",
      "source": [
        "Spontaneous decay invloves a single intial nuclear state and is allowed if Q > 0. In the decay, energy is released in the form of the kinetic energy of the final products. \n",
        "*  Reaction invloving two initial nuclei are called **endotherimic** if Q < 0.\n",
        "*  The reaction are **exothermic** if Q > 0.\n"
      ],
      "metadata": {
        "id": "Mzfw94WMjQ6k"
      }
    },
    {
      "cell_type": "markdown",
      "source": [
        " Neutron Separation Energy\n",
        "\\begin{align}\n",
        "S_n = -Q_n = BE(N,Z) -BE(N-1, Z)\n",
        "\\end{align}\n",
        "\n",
        "Proton Seperation Energy\n",
        "\\begin{align}\n",
        "S_p = -Q_p = BE(N,Z) -BE(N, Z-1)\n",
        "\\end{align}\n",
        "\n",
        "The two-neutron separation energy is defined as \n",
        "\n",
        "\\begin{align}\n",
        "S_{2n} = -Q_{2n} = BE(N,Z) -BE(N -2, Z)\n",
        "\\end{align}\n",
        "\n",
        "The two-proton separation energy is defined as \n",
        "\n",
        "\n",
        "\\begin{align}\n",
        "S_{2p} = -Q_{2p} = BE(N,Z) -BE(N, Z-2)\n",
        "\\end{align}\n",
        "\n"
      ],
      "metadata": {
        "id": "OUgP8OjRk9JG"
      }
    },
    {
      "cell_type": "markdown",
      "source": [
        "#Separation energy and energy gap\n",
        " Using neutron separation energy we can define the so-called energy gap for neutrons as\n",
        "\\begin{align}\n",
        "\\\\\n",
        "S_n = -Q_n = BE(N,Z) -BE(N-1, Z) \n",
        "\\end{align}\n",
        "\n",
        "\\begin{align}\n",
        "\\\\\n",
        "\\Delta S_n = BE(N,Z) -BE(N-1, Z) - (BE(N+1, Z) - BE(N+1, Z))\n",
        "\\end{align}\n",
        "\n",
        "or \n",
        "\\begin{align}\n",
        "\\\\\n",
        "\\Delta S_n = 2BE(N,Z) -BE(N-1, Z) - BE(N+1, Z) \n",
        "\\end{align}\n",
        "\n",
        "This quantity can be used to determine which nuclei are magic or not.\n",
        "\n",
        "For **proton** we would have\n",
        "\n",
        "\\begin{align}\n",
        "\\\\\n",
        "\\Delta S_p = 2BE(N,Z) -BE(N, Z-1) - BE(N, Z+1) \n",
        "\\end{align}\n",
        "\n",
        "\n",
        "\n",
        "\n"
      ],
      "metadata": {
        "id": "6_cnFGK2nSOa"
      }
    },
    {
      "cell_type": "markdown",
      "source": [
        "**Separation energy for oxygen isotops**\n",
        "\n"
      ],
      "metadata": {
        "id": "l7me4DIlrUIU"
      }
    },
    {
      "cell_type": "code",
      "source": [
        "import numpy as np\n",
        "\n",
        "from matplotlib import pyplot as plt\n",
        "\n",
        "#load in data file\n",
        "\n",
        "data = np.loadtxt('snox.dat')\n",
        "\n",
        "#make arrays containing x-axis and binding energies as function \n",
        "\n",
        "x = data[:,1]\n",
        "\n",
        "y = data[:,2]\n",
        "\n",
        "plt.plot(x,y, 'b-+', markersize = 6)\n",
        "\n",
        "plt.axis([4,18,-1,25.0])\n",
        "\n",
        "plt.xlabel(r'Number of neutrons $N$', fontsize = 20)\n",
        "\n",
        "plt.ylabel(r'$S_n$ [MeV]', fontsize = 20)\n",
        "\n",
        "plt.legend(('Separtion energies for oxygen isotopes'), loc = 'upper right')\n",
        "\n",
        "plt.title(r'Separation energy for the oxygen isotopes')\n",
        "\n",
        "plt.savefig('snoxygen.pdf')\n",
        "\n",
        "plt.savefig('snoxygen.png')\n",
        "\n",
        "plt.show()\n",
        "\n"
      ],
      "metadata": {
        "colab": {
          "base_uri": "https://localhost:8080/",
          "height": 304
        },
        "id": "FpicmE9_KVmQ",
        "outputId": "ac99fd53-b64e-4d86-da80-1c947abc3888"
      },
      "execution_count": null,
      "outputs": [
        {
          "output_type": "display_data",
          "data": {
            "text/plain": [
              "<Figure size 432x288 with 1 Axes>"
            ],
            "image/png": "[encoded data removed]"
          },
          "metadata": {
            "needs_background": "light"
          }
        }
      ]
    },
    {
      "cell_type": "markdown",
      "source": [
        "#Energy gap for oxygen isotopes\n",
        "\n"
      ],
      "metadata": {
        "id": "UIuWD6VTtpLo"
      }
    },
    {
      "cell_type": "code",
      "source": [
        "import numpy as np\n",
        "\n",
        "from matplotlib import pyplot as plt\n",
        "\n",
        "data = np.loadtxt('snox.dat')\n",
        "\n",
        "x = data[:,1]\n",
        "\n",
        "y = data[:,3]\n",
        "\n",
        "plt.plot(x, y, 'b-+', markersize = 6)\n",
        "\n",
        "plt.axis([4,18, -7, 12.0])\n",
        "\n",
        "plt.xlabel(r'Number of neutrons $N$', fontsize = 20)\n",
        "\n",
        "plt.ylabel(r'$\\Delta S_n$ [MeV]',fontsize = 20)\n",
        "\n",
        "plt.legend(('Shell gap energies for oxygen isotopes'), loc = 'upper right')\n",
        "\n",
        "plt.title(r'Shell gap energies for the oxygen isotopes')\n",
        "\n",
        "plt.savefig('gapoxygen.pdf')\n",
        "\n",
        "plt.savefig('gapoxygen.png')\n",
        "\n",
        "plt.show()\n",
        "\n"
      ],
      "metadata": {
        "colab": {
          "base_uri": "https://localhost:8080/",
          "height": 304
        },
        "id": "iFt9fKXGuW83",
        "outputId": "3c815e0d-fe52-4679-cd15-fa39510e06d3"
      },
      "execution_count": null,
      "outputs": [
        {
          "output_type": "display_data",
          "data": {
            "text/plain": [
              "<Figure size 432x288 with 1 Axes>"
            ],
            "image/png": "[encoded data removed]"
          },
          "metadata": {
            "needs_background": "light"
          }
        }
      ]
    },
    {
      "cell_type": "markdown",
      "source": [
        "*  In the discussion of liquid drop model and binding energies total binding energy is not that different from the sum of the indivisual neutron and proton masses.\n",
        "\n",
        "*  Neutron sepration energies for the oxygen isotopes, we note a staggering effect between odd and even isotopes with even ones being more bound. \n",
        "\n"
      ],
      "metadata": {
        "id": "h5aNpmu20PHQ"
      }
    },
    {
      "cell_type": "markdown",
      "source": [
        "*  The neutron separtion energy become negative at O$^{25}$ making this nucleus unstable w.r.t. emission of one neutron.  \n",
        "*  There are some nuclei having large shell-gaps for some nuclei. These gap are used to define-so called magic numbers. For Oxygen we see a clear gap for O$^{26}$. "
      ],
      "metadata": {
        "id": "cf0tGE-rj0Ie"
      }
    },
    {
      "cell_type": "markdown",
      "source": [
        "#Radii\n",
        "The root-mean square charge radius has been measured for the ground state of many nuclei. For a spherical radius is defined as\n",
        "\n",
        "\\begin{align}\n",
        "\\\\ <r^2> = \\frac{\\int dr \\rho(r) r^2} {\\int dr \\rho(r)} \n",
        "\\end{align}\n",
        "\n",
        "and the rms radius is square root of this quantity denoted by\n",
        "\n",
        "\\begin{align}\n",
        "\\\\ \\sqrt{<r^2>} = R \n",
        "\\end{align}\n",
        "\n",
        "*  Radii for most stable nuclei have been deduced from electron scattering form factor or x-ray transition energies of muonic atoms. The rms radius for the nuclear point-proton density, Rₚ is obtained from the rms charge radius by \n",
        "\n",
        "\\begin{align}\n",
        "\\\\ R_p = \\sqrt{R_{ch}^2 - R_{corr}^2}\n",
        "\\end{align}"
      ],
      "metadata": {
        "id": "LzqBfgjpmnGK"
      }
    },
    {
      "cell_type": "markdown",
      "source": [
        "We now introduce potential model namely harmonic oscillator and Woods-Saxon potentials. \n",
        "# The Woods - Saxon Potential\n",
        "\n",
        "\\begin{align}\n",
        "\\\\ V = -\\frac{V_0}{1+exp(r-R)/a}\n",
        "\\end{align}\n",
        "\n",
        "with $Vₒ = 50$ MeV representing the potential well depth\n",
        "$a = 0.5$ fm representing the surface thickness of the nucleus, and,\n",
        "$R = rₒA^{1/3}$ with $rₒ = 1.25$ fm and A the number of nucleons. \n",
        "\n"
      ],
      "metadata": {
        "id": "jd7URZlXGkCg"
      }
    },
    {
      "cell_type": "code",
      "source": [
        "!pip install latex\n",
        "!pip install texlive texlive-latex-extra texlive-fonts-recommended dvipng"
      ],
      "metadata": {
        "id": "GHnmYrawL92k"
      },
      "execution_count": null,
      "outputs": []
    },
    {
      "cell_type": "markdown",
      "source": [
        "#Program for Woods-Saxon Potential\n"
      ],
      "metadata": {
        "id": "BwxY4A8HIr66"
      }
    },
    {
      "cell_type": "code",
      "source": [
        "import numpy as np\n",
        "\n",
        "from matplotlib import pyplot as plt\n",
        "\n",
        "from matplotlib import rc, rcParams\n",
        "\n",
        "import matplotlib.units as units\n",
        "\n",
        "import matplotlib.ticker as ticker\n",
        "\n"
      ],
      "metadata": {
        "id": "Py3YLaZ9E65K"
      },
      "execution_count": null,
      "outputs": []
    },
    {
      "cell_type": "code",
      "source": [
        "rc('text', usetex = False)\n",
        "\n",
        "rc('font',**{'family':'serif','serif':['Woods-Saxon Potential']})\n",
        "\n",
        "font = {'family' : 'serif',\n",
        "        'color' : 'darkred',\n",
        "        'weight' : 'normal',\n",
        "        'size' : 16,}\n"
      ],
      "metadata": {
        "id": "SVQq7uwdNJIv"
      },
      "execution_count": null,
      "outputs": []
    },
    {
      "cell_type": "code",
      "source": [
        "v0 = 50\n",
        "A = 200\n",
        "a = 0.5\n",
        "r0 = 1.25\n",
        "R = r0*A**(0.3333)\n",
        "\n",
        "x = np.linspace(0.0,10.0)\n",
        "\n",
        "y = -v0/(1+np.exp((x-R)/a))\n",
        "\n",
        "plt.plot(x,y,'b-')\n",
        "\n",
        "\n",
        "plt.title(r'Woods-Saxon potential', fontsize = 20)\n",
        "plt.text(3, -40, r'parameters : $A = 20$, $V_0 = 50$ MeV', fontdict = font)\n",
        "\n",
        "plt.text(3, -44, r'$a = 0.5$ fm, $r_0 = 1.25$ fm', fontdict = font)\n",
        "\n",
        "plt.xlabel(r'$r$ [fm]', fontsize = 20)\n",
        "\n",
        "plt.ylabel(r'$V(r)$ [MeV]', fontsize = 20)\n",
        "\n",
        "plt.subplots_adjust(left = 0.15)\n",
        "\n",
        "plt.savefig('woodsaxon.pdf',format = 'pdf')\n"
      ],
      "metadata": {
        "colab": {
          "base_uri": "https://localhost:8080/",
          "height": 311
        },
        "id": "FVy6BK8BNJQG",
        "outputId": "ceb7021e-722d-4b00-a769-39fa5c8cc030"
      },
      "execution_count": null,
      "outputs": [
        {
          "output_type": "display_data",
          "data": {
            "text/plain": [
              "<Figure size 432x288 with 1 Axes>"
            ],
            "image/png": "[encoded data removed]"
          },
          "metadata": {
            "needs_background": "light"
          }
        }
      ]
    },
    {
      "cell_type": "markdown",
      "source": [
        "#Important point to be noticed \n",
        "*  Potential rapidly **approaches 0 as r goes to infinity**, reflecting the short distance nature of the strong nuclear force.\n",
        "*  For large A, it is **approximately flat** in the center.\n",
        "*  Nucleon near the surface of the nucleus experience a **large force towards the center**.\n"
      ],
      "metadata": {
        "id": "5k4ebmXOIrdi"
      }
    },
    {
      "cell_type": "markdown",
      "source": [
        "# Single - particle Hamiltonians and spin-orbit force\n",
        "We introduce a single-particle Hamiltonian\n",
        "\n",
        "\\begin{align}\n",
        "H_0 = \\sum_{i=1}^{A} \\hat{h}_0(x_i) = \\sum_{i = 1}^{A} (\\hat{t}(x_i)+ \\hat{u}_{ext}(x_i)\\\\\n",
        "\\end{align}\n",
        "\n",
        "with an external and central symmetric potential uₑ which is often approximated by a harmonic oscillator potential or a Woods-Saxon potential.\n",
        "*  Being central symmetric lead to a degeneracy in energy which is not observed experimentally.\n",
        "\n",
        "To produce additional numbers, we need to add a phenomenological spin-orbit force which lifts the degeneracy, i.e.\n",
        "\n",
        "\n",
        "\\begin{align}\n",
        "\\hat{h}(x_i) = \\hat{t}(x_i)+ \\hat{u}_{ext}(x_i) + \\epsilon(r)ls = \\hat{h}_0(x_i) +  \\epsilon(r)ls\n",
        "\\end{align}\n",
        "\n",
        "we calculate the expectation value of the latter using \n",
        "\n",
        "\\begin{align}\n",
        "\\epsilon(r)ls = \\frac{1}{2}\\epsilon (r) (j^2 -l^2 -s^2)\n",
        "\\end{align}\n",
        "\n",
        "\n",
        "For a single-particle state with quantum numbers *n, l, j* with s = 1/2 we obtain the single-particle energies.\n",
        "\n",
        "\n",
        "\\begin{align}\n",
        "\\epsilon_{nlj} = \\epsilon_{nlj}^{(0)} + \\Delta \\epsilon_{nlj}\n",
        "\\end{align}\n",
        "\n",
        "with first term being the single-particle energy obtained with hₒ and second term will be \n",
        "\\begin{align}\n",
        "\\Delta \\epsilon_{nlj} = \\frac{C}{2} \\left(j(j+1) - l(l+1) - \\frac{3}{4}\\right)\n",
        "\\end{align}\n",
        "\n",
        "This term lifts the degeneracy of the harmonic oscillator or the Woods-Saxon potentials. So there are two possible value of $j = l + \\frac{1}{2} $and $j= l-\\frac{1}{2}$\n",
        "\n",
        "so we obtain,\n",
        "\n",
        "\\begin{align}\n",
        "\\epsilon_{nlj = l-\\frac{1}{2}} = \\frac{C}{2}l \\\\\n",
        "\\\\ \n",
        "\\epsilon_{nlj = l+\\frac{1}{2}} = -\\frac{C}{2}(l+1)\n",
        "\\end{align}\n",
        "\n",
        "\n",
        "\n",
        "\n"
      ],
      "metadata": {
        "id": "OAFtUtrWlGNR"
      }
    },
    {
      "cell_type": "markdown",
      "source": [
        "#Spin Orbit force\n",
        "\n",
        "The Woods-Saxon potential with spin-orbit force is given by \n",
        "\n",
        "\\begin{align}\n",
        "\\\\ \\hat{u}_{ext}(r) = -\\frac{V_0}{1+exp(r-R)/a} + V_{SO}(r) ls\\\\\n",
        "V_{SO} (r) = V_{SO} \\frac{1}{r} \\frac{df_{so}(r)}{dr}\\\\ also, \n",
        "f_{so}(r) = \\frac{1}{1+exp(r-R_{so})/a_{so}}\n",
        "\\end{align}\n",
        "\n"
      ],
      "metadata": {
        "id": "wWRrHJv5HdW_"
      }
    },
    {
      "cell_type": "markdown",
      "source": [
        "#Numerical solution of the single-particle Schroendinger equation\n",
        "\n",
        "The radial part of the Schroendinger's equation for one nucleon is given by \n",
        "\n",
        "\\begin{align}\n",
        "  \\\\ -\\frac{\\hbar^2}{2m} \\left(\\frac{1}{r^2}\\frac{d}{dr}r^2\\frac{d}{dr} - \\frac{l(l+1)}{r^2}\\right) R(r) + V(r) R(r) = ER(r)\\\\\n",
        "\\end{align}\n",
        "\n",
        "in our current scenario harmonic oscillator potential is given by \n",
        "$\\frac{1}{2}m\\omega^2 r^2$ and $E$ is the energy of the harmonic oscillator in three dimensions. \n",
        "\n",
        "The energy is given by $E_{nl} = \\hbar \\left(2n + l + \\frac{3}{2} \\right)$\n",
        "\n",
        "with $n = 0,1,2,3,....$ \n",
        "and $l = 0,1,2,3,.....$\n",
        "\n",
        "For spherical coordinates $r$ $ \\epsilon $ [0, $\\infty$ ). The quantum number $l$ is the orbital momentum of the nucleon. Then we substitute $R(r) = (\\frac{1}{r})u(r)$ and obtain\n",
        "\n",
        "\\begin{align}\n",
        "  \\\\ -\\frac{\\hbar^2}{2m} \\left(\\frac{d^2}{dr^2}u(r)\\right)+ \\left( V(r) + \\frac{l(l+1)}{r^2}\\frac{\\hbar^2}{2m}\\right) u(r) = Eu(r)\\\\\n",
        "\\end{align}\n",
        "\n",
        "The boundary condition are $u(0) = 0$ and $u(\\infty) = 0$\n",
        "\n",
        "\n",
        "Now we introduce a dimensionless variable in place of $r$,  $\\rho = \\frac{1}{\\alpha}r$ where $\\alpha $ is a constant with dimension length \n",
        "\n",
        "\n",
        "\n",
        "\\begin{align}\n",
        "  \\\\ -\\frac{\\hbar^2}{2m \\alpha^2} \\left(\\frac{d^2}{d\\rho^2}u(\\rho)\\right)+ \\left( V(\\rho) + \\frac{l(l+1)}{\\rho^2}\\frac{\\hbar^2}{2m\\alpha^2}\\right) u(\\rho) = Eu(\\rho)\\\\\n",
        "\\end{align}\n",
        "\n",
        "\n",
        "For l = 0 case, we have \n",
        "\n",
        "\\begin{align}\n",
        "  \\\\ -\\frac{\\hbar^2}{2m \\alpha^2} \\left(\\frac{d^2}{d\\rho^2}u(\\rho)\\right)+ \\left( V(\\rho) \\right) u(\\rho) = Eu(\\rho)\\\\\n",
        "\\end{align}\n",
        "\n",
        "with $V(\\rho) = \\frac{1}{2}k \\alpha^2 \\rho^2 u(\\rho)$\n",
        "\n",
        "we have\n",
        "\n",
        "\\begin{align}\n",
        "  \\\\ -\\frac{\\hbar^2}{2m \\alpha^2} \\left(\\frac{d^2}{d\\rho^2}u(\\rho)\\right)+ \\frac{k}{2}\\alpha^2 \\rho^2 u(\\rho) = Eu(\\rho)\\\\\n",
        "\\end{align}\n",
        "\n",
        "\n",
        "Multiplying both side by $2m\\alpha^2/\\hbar^2$, we get\n",
        "\n",
        "\\begin{align}\n",
        "  \\\\ -\\frac{d^2}{d\\rho^2}u(\\rho)+ \\frac{mk}{\\hbar^2}\\alpha^4 \\rho^2 u(\\rho) = \\frac{2m\\alpha^2}{\\hbar^2}Eu(\\rho)\\\\\n",
        "\\end{align}\n",
        "\n",
        "\n",
        "The constant alpha can be fixed so that $\\\\ \\frac{mk}{\\hbar^2}\\alpha^4 =1$\n",
        "\n",
        "or, $\\alpha = \\left( \\frac{\\hbar^2}{mk}\\right)^{1/4}$\n",
        "\n",
        "\n",
        "Also, defining $\\lambda = \\frac{2m\\alpha^2}{\\hbar^2}E$\n",
        "\n",
        "we can rewrite our equation as \n",
        "\n",
        "\\begin{align}\n",
        "  \\\\ -\\frac{d^2}{d\\rho^2}u(\\rho)+  \\rho^2 u(\\rho) = \\lambda u(\\rho)\\\\\n",
        "\\end{align}\n",
        "\n",
        "\n",
        "This is the first equation to solve numberically. In 3-D the eigenvalues for l = 0 are $\\lambda_0$ = 3, $\\lambda_1$ = 7, $\\lambda_2$ = 11, ......\n"
      ],
      "metadata": {
        "id": "h9IB-2hJK_Uy"
      }
    },
    {
      "cell_type": "markdown",
      "source": [
        "Standard expression for the second derivative of a function u,\n",
        "\n",
        "\\begin{align}\n",
        " u'' = \\frac{u(\\rho +h) - 2u(\\rho) + u(\\rho -h)}{h^2} + O(h^2) \n",
        " \\end{align}\n",
        "\n",
        " where h, is our step size. \n",
        "\n",
        " \\begin{align} h = \\frac{\\rho_{max}-\\rho_{min}}{n_{step}}\\end{align}\n",
        "\n",
        " We can define intial $\\rho_i $ as\n",
        "\n",
        " \\begin{align}\\rho_i = \\rho_{min} +ih\\end{align}\n",
        " \n",
        " The Schroedinger's equation becomes\n",
        "\n",
        " \\begin{align}- \\frac{u_{i+1} -2u_i + u_{i-1}}{h^2} + \\rho_i^2 u_i = -\\frac{u_{i+1}-2u_i + u_{i-1}}{h^2} V_iu_i = \\lambda u_i\\end{align}"
      ],
      "metadata": {
        "id": "zYkPNl8Wfgne"
      }
    },
    {
      "cell_type": "markdown",
      "source": [
        "Diagonal matrix elements are \n",
        "\n",
        "\\begin{align}\n",
        "d_i = \\frac{2}{h^2} + V_i\n",
        "\\end{align}\n",
        "\n",
        "and non diagonal matrix element are \n",
        "\n",
        "\\begin{align}e_i = -\\frac{1}{h^2}\\end{align}\n",
        "\n",
        "In this case the non-diagonal matrix elements are given by a constant and are equal."
      ],
      "metadata": {
        "id": "UEo0rshzi-6l"
      }
    },
    {
      "cell_type": "code",
      "source": [],
      "metadata": {
        "id": "pRgGJTjAfSJa"
      },
      "execution_count": null,
      "outputs": []
    },
    {
      "cell_type": "code",
      "source": [
        "from matplotlib import pyplot as plt\n",
        "import numpy as np\n",
        "\n",
        "def initialize():\n",
        "  RMin = 0.0\n",
        "  RMax = 10.0 \n",
        "  lOrbital = 0\n",
        "  Dim = 400\n",
        "  return RMin, RMax, lOrbital, Dim\n",
        "\n",
        "def potential(r):\n",
        "  return r*r\n",
        "\n",
        "RMin, RMax, lOrbital, Dim = initialize()\n",
        "\n",
        "Step = RMax/(Dim+1)\n",
        "\n",
        "DiagConst = 2.0/(Step*Step)\n",
        "\n",
        "NondiagConst = -1.0 / (Step*Step)\n",
        "\n",
        "OrbitalFactor = lOrbital *(lOrbital + 1.0)\n",
        "\n",
        "v = np.zeros(Dim)\n",
        "\n",
        "r = np.linspace(RMin, RMax, Dim)\n",
        "\n",
        "for i in range(Dim):\n",
        "  r[i] = RMin + (i+1)*Step;\n",
        "  v[i] = potential(r[i]) + OrbitalFactor/(r[i]*r[i]);\n",
        "\n",
        "\n",
        "Hamiltonian = np.zeros((Dim,Dim))\n",
        "\n",
        "Hamiltonian[0,0] = DiagConst + v[0]\n",
        "\n",
        "Hamiltonian[0,1] = NondiagConst;\n",
        "\n",
        "for i in range(1, Dim - 1):\n",
        "  Hamiltonian[i,i-1] = NondiagConst;\n",
        "  Hamiltonian[i,i] = DiagConst + v[i];\n",
        "  Hamiltonian[i, i+1] = NondiagConst;\n",
        "Hamiltonian[Dim-1, Dim-2] = NondiagConst;\n",
        "Hamiltonian[Dim-1, Dim-1] = DiagConst + v[Dim -1];\n",
        "\n",
        "EigValues, EigVectors = np.linalg.eig(Hamiltonian)\n",
        "\n",
        "permute = EigValues.argsort()\n",
        "\n",
        "EigValues = EigValues[permute]\n",
        "\n",
        "EigVectors = EigVectors[:, permute]\n",
        "\n",
        "for i in range(3):\n",
        "  print(EigValues[i])\n",
        "\n",
        "FirstEigvector = EigVectors[:,0]\n",
        "SecondEigvector = EigVectors[:,1]\n",
        "ThirdEigvector = EigVectors[:,2]\n",
        "\n",
        "plt.plot(r, FirstEigvector**2, 'b-',r, SecondEigvector**2, 'g-', r, ThirdEigvector**2, 'r-')\n",
        "\n",
        "plt.axis([0, 4.6,0.0,0.025])\n",
        "\n",
        "plt.xlabel(r'$r$')\n",
        "\n",
        "plt.ylabel(r'Radial probability $r^2|R(r)|^2$')\n",
        "\n",
        "plt.title(r'Radial probability distributuion for three lowest-lying states')\n",
        "\n",
        "plt.savefig('eigenvector.pdf')\n",
        "\n",
        "plt.savefig('eigenvector.png')\n",
        "\n",
        "plt.show()"
      ],
      "metadata": {
        "colab": {
          "base_uri": "https://localhost:8080/",
          "height": 348
        },
        "id": "v2c20pohbbpM",
        "outputId": "d91a5b86-4856-435d-f813-0d5af35b8206"
      },
      "execution_count": null,
      "outputs": [
        {
          "output_type": "stream",
          "name": "stdout",
          "text": [
            "2.9998056468165792\n",
            "6.999028164531277\n",
            "10.997628541598054\n"
          ]
        },
        {
          "output_type": "display_data",
          "data": {
            "text/plain": [
              "<Figure size 432x288 with 1 Axes>"
            ],
            "image/png": "[encoded data removed]"
          },
          "metadata": {
            "needs_background": "light"
          }
        }
      ]
    },
    {
      "cell_type": "code",
      "source": [
        "import numpy as np\n",
        "from matplotlib import pyplot as plt\n",
        "\n",
        "#load data from the file\n",
        "\n",
        "data = np.loadtxt('bedata.dat')\n",
        "\n",
        "#make the array containging x-axis and binding energies as a function of A\n",
        "\n",
        "p = data[:,0]\n",
        "\n",
        "n = data[:,5]\n",
        "\n",
        "A = data[:,1]\n",
        "\n",
        "bexpt = data[:,2]\n",
        "\n",
        "i= 71\n",
        "\n",
        "#plt.plot(p, bexpt/A, 'r') # plotting the binding energy curve\n",
        "\n",
        "for i in range(71,84):\n",
        " z = (bexpt[i+1] -bexpt[i])\n",
        " plt.plot(A[i], z,'b-+', markersize = 6)\n",
        " print(A[i], z)\n",
        " plt.axis([13,25,-25,25])\n",
        "\n",
        "plt.xlabel(r'$A$')\n",
        "\n",
        "plt.ylabel(r'$S_n$ [MeV]')\n",
        "\n",
        "plt.title(r'Neutron seperation energies for Oxygen nuclei')\n",
        "\n",
        "plt.savefig('sep_n_Oxygen.pdf')\n",
        "\n",
        "plt.savefig('sep_n_Oxygen.png')\n",
        "\n",
        "plt.show()"
      ],
      "metadata": {
        "colab": {
          "base_uri": "https://localhost:8080/",
          "height": 523
        },
        "id": "Lrqcco9g-Ed1",
        "outputId": "b6d86605-e746-4d50-a71f-2e14ef3cfd27"
      },
      "execution_count": null,
      "outputs": [
        {
          "output_type": "stream",
          "name": "stdout",
          "text": [
            "13.0 23.178600000000003\n",
            "14.0 13.223199999999991\n",
            "15.0 15.663899999999998\n",
            "16.0 4.143100000000018\n",
            "17.0 8.045399999999972\n",
            "18.0 3.954900000000009\n",
            "19.0 7.608699999999999\n",
            "20.0 3.805499999999995\n",
            "21.0 6.851700000000022\n",
            "22.0 2.732299999999981\n",
            "23.0 4.191500000000019\n",
            "24.0 -0.7759000000000071\n",
            "25.0 -94.1829\n"
          ]
        },
        {
          "output_type": "display_data",
          "data": {
            "text/plain": [
              "<Figure size 432x288 with 1 Axes>"
            ],
            "image/png": "[encoded data removed]"
          },
          "metadata": {
            "needs_background": "light"
          }
        }
      ]
    },
    {
      "cell_type": "code",
      "source": [
        "import numpy as np\n",
        "from matplotlib import pyplot as plt\n",
        "\n",
        "#load data from the file\n",
        "\n",
        "data = np.loadtxt('bedata.dat')\n",
        "\n",
        "#make the array containging x-axis and binding energies as a function of A\n",
        "\n",
        "p = data[:,0]\n",
        "\n",
        "n = data[:,5]\n",
        "\n",
        "A = data[:,1]\n",
        "\n",
        "bexpt = data[:,2]\n",
        "\n",
        "i= 71\n",
        "\n",
        "#plt.plot(p, bexpt/A, 'r') # plotting the binding energy curve\n",
        "\n",
        "for i in range(265,281):\n",
        " z = (bexpt[i+1] -bexpt[i])\n",
        " plt.plot(A[i], z,'b-+', markersize = 6)\n",
        " print(A[i], z)\n",
        " plt.axis([36,52,-25,25])\n",
        "\n",
        "plt.xlabel(r'$A$')\n",
        "\n",
        "plt.ylabel(r'$S_n$ [MeV]')\n",
        "\n",
        "plt.title(r'Neutron seperation energies for Calcium nuclei')\n",
        "\n",
        "plt.savefig('sep_n_Ca.pdf')\n",
        "\n",
        "plt.savefig('Sep_n_Ca.png')\n",
        "\n",
        "plt.show()"
      ],
      "metadata": {
        "colab": {
          "base_uri": "https://localhost:8080/",
          "height": 575
        },
        "id": "N0g2ziFUKMwO",
        "outputId": "7e788d75-ee08-46e5-9e87-2468447d533e"
      },
      "execution_count": null,
      "outputs": [
        {
          "output_type": "stream",
          "name": "stdout",
          "text": [
            "37.0 16.994100000000003\n",
            "38.0 13.295500000000004\n",
            "39.0 15.635100000000023\n",
            "40.0 8.362799999999993\n",
            "41.0 11.480699999999956\n",
            "42.0 7.932900000000018\n",
            "43.0 11.13130000000001\n",
            "44.0 7.414800000000014\n",
            "45.0 10.399000000000001\n",
            "46.0 7.276299999999992\n",
            "47.0 9.949799999999982\n",
            "48.0 5.146400000000028\n",
            "49.0 6.360799999999983\n",
            "50.0 4.356699999999989\n",
            "51.0 4.706999999999994\n",
            "52.0 -124.04589999999996\n"
          ]
        },
        {
          "output_type": "display_data",
          "data": {
            "text/plain": [
              "<Figure size 432x288 with 1 Axes>"
            ],
            "image/png": "[encoded data removed]"
          },
          "metadata": {
            "needs_background": "light"
          }
        }
      ]
    },
    {
      "cell_type": "code",
      "source": [
        "import numpy as np\n",
        "from matplotlib import pyplot as plt\n",
        "\n",
        "#load data from the file\n",
        "\n",
        "data = np.loadtxt('bedata.dat')\n",
        "\n",
        "#make the array containging x-axis and binding energies as a function of A\n",
        "\n",
        "p = data[:,0]\n",
        "\n",
        "n = data[:,5]\n",
        "\n",
        "A = data[:,1]\n",
        "\n",
        "bexpt = data[:,2]\n",
        "\n",
        "i= 71\n",
        "\n",
        "#plt.plot(p, bexpt/A, 'r') # plotting the binding energy curve\n",
        "\n",
        "for i in range(406,425):\n",
        " z = (bexpt[i+1] -bexpt[i])\n",
        " plt.plot(A[i], z,'b-+', markersize = 6)\n",
        " print(A[i], z)\n",
        " plt.axis([54,73,-25,25])\n",
        "\n",
        "plt.xlabel(r'$A$')\n",
        "\n",
        "plt.ylabel(r'$S_n$ [MeV]')\n",
        "\n",
        "plt.title(r'Neutron seperation energies for Nickel nuclei')\n",
        "\n",
        "plt.savefig('sep_n_Ni.pdf')\n",
        "\n",
        "plt.savefig('Sep_n_Ni.png')\n",
        "\n",
        "plt.show()"
      ],
      "metadata": {
        "colab": {
          "base_uri": "https://localhost:8080/",
          "height": 627
        },
        "id": "Ws8vlUIELNFN",
        "outputId": "3d9de8e9-20b2-4447-c851-c47286302811"
      },
      "execution_count": null,
      "outputs": [
        {
          "output_type": "stream",
          "name": "stdout",
          "text": [
            "55.0 16.642999999999972\n",
            "56.0 10.247700000000009\n",
            "57.0 12.216200000000015\n",
            "58.0 8.999299999999948\n",
            "59.0 11.387700000000109\n",
            "60.0 7.820099999999911\n",
            "61.0 10.595900000000029\n",
            "62.0 6.837700000000041\n",
            "63.0 9.657600000000002\n",
            "64.0 6.098099999999931\n",
            "65.0 8.952300000000037\n",
            "66.0 5.807699999999954\n",
            "67.0 7.792500000000018\n",
            "68.0 4.586099999999988\n",
            "69.0 7.306400000000053\n",
            "70.0 4.263599999999997\n",
            "71.0 6.891200000000026\n",
            "72.0 3.953399999999988\n",
            "73.0 -132.72320000000002\n"
          ]
        },
        {
          "output_type": "display_data",
          "data": {
            "text/plain": [
              "<Figure size 432x288 with 1 Axes>"
            ],
            "image/png": "[encoded data removed]"
          },
          "metadata": {
            "needs_background": "light"
          }
        }
      ]
    },
    {
      "cell_type": "code",
      "source": [
        "import numpy as np\n",
        "from matplotlib import pyplot as plt\n",
        "\n",
        "#load data from the file\n",
        "\n",
        "data = np.loadtxt('bedata.dat')\n",
        "\n",
        "#make the array containging x-axis and binding energies as a function of A\n",
        "\n",
        "p = data[:,0]\n",
        "\n",
        "n = data[:,5]\n",
        "\n",
        "A = data[:,1]\n",
        "\n",
        "bexpt = data[:,2]\n",
        "\n",
        "i= 71\n",
        "\n",
        "#plt.plot(p, bexpt/A, 'r') # plotting the binding energy curve\n",
        "\n",
        "for i in range(967,1000):\n",
        " z = (bexpt[i+1] -bexpt[i])\n",
        " plt.plot(A[i], z,'b-+', markersize = 6)\n",
        " print(A[i], z)\n",
        " plt.axis([100,134,-25,25])\n",
        "\n",
        "plt.xlabel(r'$A$')\n",
        "\n",
        "plt.ylabel(r'$S_n$ [MeV]')\n",
        "\n",
        "plt.title(r'Neutron seperation energies for Tin nuclei')\n",
        "\n",
        "plt.savefig('sep_n_Sn.pdf')\n",
        "\n",
        "plt.savefig('Sep_n_Sn.png')\n",
        "\n",
        "plt.show()"
      ],
      "metadata": {
        "colab": {
          "base_uri": "https://localhost:8080/",
          "height": 870
        },
        "id": "kRXlYu_1L4eB",
        "outputId": "37b12694-21d5-4988-f190-640cb4e759f7"
      },
      "execution_count": null,
      "outputs": [
        {
          "output_type": "stream",
          "name": "stdout",
          "text": [
            "102.0 10.10590000000002\n",
            "103.0 12.726599999999962\n",
            "104.0 9.78449999999998\n",
            "105.0 12.087100000000078\n",
            "106.0 9.22989999999993\n",
            "107.0 11.630300000000034\n",
            "108.0 8.633000000000038\n",
            "109.0 11.282199999999989\n",
            "110.0 8.168999999999983\n",
            "111.0 10.787699999999973\n",
            "112.0 7.74369999999999\n",
            "113.0 10.300500000000056\n",
            "114.0 7.545700000000011\n",
            "115.0 9.563499999999976\n",
            "116.0 6.942999999999984\n",
            "117.0 9.326400000000035\n",
            "118.0 6.483499999999935\n",
            "119.0 9.10450000000003\n",
            "120.0 6.1702999999999975\n",
            "121.0 8.816800000000057\n",
            "122.0 5.946299999999837\n",
            "123.0 8.490800000000036\n",
            "124.0 5.733200000000124\n",
            "125.0 8.193199999999933\n",
            "126.0 5.5202999999999065\n",
            "127.0 7.937900000000127\n",
            "128.0 5.328700000000026\n",
            "129.0 7.614900000000034\n",
            "130.0 5.205600000000004\n",
            "131.0 7.348199999999906\n",
            "132.0 2.369699999999966\n",
            "133.0 3.547800000000052\n",
            "134.0 -237.32080000000008\n"
          ]
        },
        {
          "output_type": "display_data",
          "data": {
            "text/plain": [
              "<Figure size 432x288 with 1 Axes>"
            ],
            "image/png": "[encoded data removed]"
          },
          "metadata": {
            "needs_background": "light"
          }
        }
      ]
    },
    {
      "cell_type": "code",
      "source": [
        "import numpy as np\n",
        "from matplotlib import pyplot as plt\n",
        "\n",
        "#load data from the file\n",
        "\n",
        "data = np.loadtxt('bedata.dat')\n",
        "\n",
        "#make the array containging x-axis and binding energies as a function of A\n",
        "\n",
        "p = data[:,0]\n",
        "\n",
        "n = data[:,5]\n",
        "\n",
        "A = data[:,1]\n",
        "\n",
        "bexpt = data[:,2]\n",
        "\n",
        "i= 71\n",
        "\n",
        "#plt.plot(p, bexpt/A, 'r') # plotting the binding energy curve\n",
        "\n",
        "for i in range(1913,1949):\n",
        " z = (bexpt[i+1] -bexpt[i])\n",
        " plt.plot(A[i], z,'b-+', markersize = 6)\n",
        " print(A[i], z)\n",
        " plt.axis([178,214,-25,25])\n",
        "\n",
        "plt.xlabel(r'$A$')\n",
        "\n",
        "plt.ylabel(r'$S_n$ [MeV]')\n",
        "\n",
        "plt.title(r'Neutron seperation energies for Lead nuclei')\n",
        "\n",
        "plt.savefig('sep_n_Pb.pdf')\n",
        "\n",
        "plt.savefig('Sep_n_Pb.png')\n",
        "\n",
        "plt.show()"
      ],
      "metadata": {
        "colab": {
          "base_uri": "https://localhost:8080/",
          "height": 922
        },
        "id": "UaIvv0i-EYZg",
        "outputId": "b0de5799-71fd-441b-aa45-ea3a402d3ee5"
      },
      "execution_count": null,
      "outputs": [
        {
          "output_type": "stream",
          "name": "stdout",
          "text": [
            "179.0 12.05600000000004\n",
            "180.0 9.23980000000006\n",
            "181.0 11.788500000000113\n",
            "182.0 8.81959999999981\n",
            "183.0 11.554800000000114\n",
            "184.0 8.56009999999992\n",
            "185.0 11.212199999999939\n",
            "186.0 8.379400000000032\n",
            "187.0 10.896799999999985\n",
            "188.0 8.13370000000009\n",
            "189.0 10.610899999999901\n",
            "190.0 7.899600000000191\n",
            "191.0 10.381799999999885\n",
            "192.0 7.70939999999996\n",
            "193.0 10.085400000000163\n",
            "194.0 7.576499999999896\n",
            "195.0 9.719100000000026\n",
            "196.0 7.4582000000000335\n",
            "197.0 9.373900000000049\n",
            "198.0 7.251999999999953\n",
            "199.0 9.095299999999952\n",
            "200.0 7.073399999999992\n",
            "201.0 8.750600000000077\n",
            "202.0 6.921399999999949\n",
            "203.0 8.394800000000032\n",
            "204.0 6.731499999999869\n",
            "205.0 8.086700000000064\n",
            "206.0 6.737699999999904\n",
            "207.0 7.3680000000001655\n",
            "208.0 3.937400000000025\n",
            "209.0 5.1848999999999705\n",
            "210.0 3.833599999999933\n",
            "211.0 5.133100000000013\n",
            "212.0 3.719000000000051\n",
            "213.0 5.052400000000034\n",
            "214.0 -244.29110000000014\n"
          ]
        },
        {
          "output_type": "display_data",
          "data": {
            "text/plain": [
              "<Figure size 432x288 with 1 Axes>"
            ],
            "image/png": "[encoded data removed]"
          },
          "metadata": {
            "needs_background": "light"
          }
        }
      ]
    },
    {
      "cell_type": "code",
      "source": [],
      "metadata": {
        "id": "t6QpE8TWM-_C"
      },
      "execution_count": null,
      "outputs": []
    }
  ]
}
